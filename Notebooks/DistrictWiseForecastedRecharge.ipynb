{
 "cells": [
  {
   "cell_type": "code",
   "execution_count": 1,
   "metadata": {
    "collapsed": true,
    "ExecuteTime": {
     "end_time": "2023-08-17T16:55:41.946557700Z",
     "start_time": "2023-08-17T16:55:41.899691100Z"
    }
   },
   "outputs": [],
   "source": [
    "import pandas as pd\n",
    "import xlsxwriter"
   ]
  },
  {
   "cell_type": "code",
   "execution_count": 2,
   "outputs": [],
   "source": [
    "SSP_LIST = ['SSP126', 'SSP245', 'SSP370', 'SSP585']"
   ],
   "metadata": {
    "collapsed": false,
    "ExecuteTime": {
     "end_time": "2023-07-27T18:46:23.823860200Z",
     "start_time": "2023-07-27T18:46:23.823860200Z"
    }
   }
  },
  {
   "cell_type": "code",
   "execution_count": 5,
   "outputs": [
    {
     "name": "stderr",
     "output_type": "stream",
     "text": [
      "C:\\Users\\shash\\AppData\\Local\\Temp\\ipykernel_34444\\764245140.py:5: FutureWarning: The default value of numeric_only in DataFrameGroupBy.mean is deprecated. In a future version, numeric_only will default to False. Either specify numeric_only or select only columns which should be valid for the function.\n",
      "  gr_df = df.groupby('District').mean().reset_index()\n",
      "C:\\Users\\shash\\AppData\\Local\\Temp\\ipykernel_34444\\764245140.py:10: FutureWarning: save is not part of the public API, usage can give in unexpected results and will be removed in a future version\n",
      "  writer.save()\n",
      "C:\\Users\\shash\\AppData\\Local\\Temp\\ipykernel_34444\\764245140.py:5: FutureWarning: The default value of numeric_only in DataFrameGroupBy.mean is deprecated. In a future version, numeric_only will default to False. Either specify numeric_only or select only columns which should be valid for the function.\n",
      "  gr_df = df.groupby('District').mean().reset_index()\n",
      "C:\\Users\\shash\\AppData\\Local\\Temp\\ipykernel_34444\\764245140.py:10: FutureWarning: save is not part of the public API, usage can give in unexpected results and will be removed in a future version\n",
      "  writer.save()\n",
      "C:\\Users\\shash\\AppData\\Local\\Temp\\ipykernel_34444\\764245140.py:5: FutureWarning: The default value of numeric_only in DataFrameGroupBy.mean is deprecated. In a future version, numeric_only will default to False. Either specify numeric_only or select only columns which should be valid for the function.\n",
      "  gr_df = df.groupby('District').mean().reset_index()\n",
      "C:\\Users\\shash\\AppData\\Local\\Temp\\ipykernel_34444\\764245140.py:10: FutureWarning: save is not part of the public API, usage can give in unexpected results and will be removed in a future version\n",
      "  writer.save()\n",
      "C:\\Users\\shash\\AppData\\Local\\Temp\\ipykernel_34444\\764245140.py:5: FutureWarning: The default value of numeric_only in DataFrameGroupBy.mean is deprecated. In a future version, numeric_only will default to False. Either specify numeric_only or select only columns which should be valid for the function.\n",
      "  gr_df = df.groupby('District').mean().reset_index()\n",
      "C:\\Users\\shash\\AppData\\Local\\Temp\\ipykernel_34444\\764245140.py:10: FutureWarning: save is not part of the public API, usage can give in unexpected results and will be removed in a future version\n",
      "  writer.save()\n"
     ]
    }
   ],
   "source": [
    "for i in SSP_LIST:\n",
    "    df = pd.read_excel(f\"B:\\GroundwaterRech\\GithubRepo\\Restart\\GroundwaterLevel\\Dataset\\ForecastedLevel.xlsx\",sheet_name=i)\n",
    "\n",
    "    gr_df = df.groupby('District').mean().reset_index()\n",
    "    gr_df = gr_df.drop(['Object Id', 'Latitude', 'Longitude'], axis=1)\n",
    "    file_path = f'B:\\GroundwaterRech\\GithubRepo\\Restart\\GroundwaterLevel\\Dataset\\DistrictWise{i}.xlsx'\n",
    "    writer = pd.ExcelWriter(file_path, engine='xlsxwriter')\n",
    "    gr_df.to_excel(writer, sheet_name=i, index=False)\n",
    "    writer.save()"
   ],
   "metadata": {
    "collapsed": false,
    "ExecuteTime": {
     "end_time": "2023-07-27T18:52:01.439168900Z",
     "start_time": "2023-07-27T18:52:01.004538Z"
    }
   }
  },
  {
   "cell_type": "code",
   "execution_count": 10,
   "outputs": [],
   "source": [
    "df = pd.read_excel(\"B:\\GroundwaterRech\\GithubRepo\\Restart\\Forecast_new\\SSP126\\Forecasted_SSP126.xlsx\",\n",
    "                   sheet_name='Sheet3')"
   ],
   "metadata": {
    "collapsed": false,
    "ExecuteTime": {
     "end_time": "2023-07-04T06:34:18.205422500Z",
     "start_time": "2023-07-04T06:34:18.140174300Z"
    }
   }
  },
  {
   "cell_type": "code",
   "execution_count": 11,
   "outputs": [
    {
     "data": {
      "text/plain": "                     District  Object Id  Longitude  Latitude     Slope  \\\n0                    Faridkot          1      75.25     29.75  0.496398   \n1                     Patiala          2      76.00     29.75  0.992721   \n2                    Amritsar          6      74.75     30.00  0.701995   \n3                    Amritsar          7      75.00     30.00  0.784844   \n4                    Amritsar          8      75.25     30.00  0.784844   \n..                        ...        ...        ...       ...       ...   \n60  Shahid Bhagat Singh Nagar         71      75.00     32.00  1.446964   \n61  Shahid Bhagat Singh Nagar         72      75.25     32.00  1.446964   \n62  Shahid Bhagat Singh Nagar         73      75.50     32.00  0.701995   \n63                    Fazilka         74      75.75     32.00  2.218904   \n64  Shahid Bhagat Singh Nagar         75      75.50     32.25  2.827676   \n\n             Soil Type  1986  1987  1988  1989  ...      2026      2027  \\\n0              Builtup -0.09  0.83 -1.48  0.30  ... -0.866702 -0.283943   \n1     Haplic Calcisols -1.04  0.60 -1.45 -0.12  ...  0.161214 -0.082979   \n2              Bulitup -0.15  0.25 -2.26 -0.36  ... -1.033234 -0.662140   \n3              Builtup -0.28 -0.60 -4.85 -0.68  ... -0.842577  0.157196   \n4              Builtup -0.15  0.25 -2.26 -0.36  ... -1.072097 -0.259178   \n..                 ...   ...   ...   ...   ...  ...       ...       ...   \n60  Calcaric Fluvisols -2.79  1.30 -7.90 -2.20  ... -0.360590 -2.085280   \n61    Haplic Calcisols -0.83  0.92 -3.68 -1.01  ... -1.144229 -1.942113   \n62                Loam -2.79  1.30 -7.90 -2.20  ... -1.996100 -1.453295   \n63                Loam -0.20  0.13 -1.06 -0.63  ... -0.913869 -1.161033   \n64  Calcaric Fluvisols -0.83  0.92 -3.68 -1.01  ... -0.885724 -1.910402   \n\n        2028      2029      2030      2031      2032      2033      2034  \\\n0  -0.229168  0.125735 -0.435606 -1.230511 -0.819274 -0.761898 -0.375791   \n1   0.182368 -0.081441  0.035361 -0.127377 -0.298394 -0.185644 -0.714443   \n2  -0.350473 -0.930258 -0.889378 -1.250269 -0.462064 -0.905935 -0.583495   \n3   0.044586 -1.264308 -0.736339 -1.533333 -1.208838 -0.567500  0.149191   \n4  -0.488297 -1.198834 -0.478788 -1.244492 -1.510294 -1.574249 -1.274598   \n..       ...       ...       ...       ...       ...       ...       ...   \n60 -0.489081 -0.788720 -0.422177 -1.262057 -1.681914 -0.704901 -1.662324   \n61 -0.344537 -1.662962 -0.842341 -2.952166 -1.018786 -0.372778 -1.342661   \n62 -2.330532 -2.007964 -1.919785 -2.771630 -2.512308 -1.167817 -2.224794   \n63 -1.604990 -1.697900 -1.831034 -2.364688 -0.599011 -0.874176 -1.913817   \n64 -0.605435 -0.996654 -1.932737 -2.443744 -1.166130 -1.375977  0.034004   \n\n        2035  \n0  -1.041478  \n1  -0.134521  \n2  -0.585831  \n3  -1.206976  \n4  -0.991167  \n..       ...  \n60  0.056829  \n61 -0.631610  \n62 -0.656383  \n63 -1.726819  \n64 -1.889106  \n\n[65 rows x 56 columns]",
      "text/html": "<div>\n<style scoped>\n    .dataframe tbody tr th:only-of-type {\n        vertical-align: middle;\n    }\n\n    .dataframe tbody tr th {\n        vertical-align: top;\n    }\n\n    .dataframe thead th {\n        text-align: right;\n    }\n</style>\n<table border=\"1\" class=\"dataframe\">\n  <thead>\n    <tr style=\"text-align: right;\">\n      <th></th>\n      <th>District</th>\n      <th>Object Id</th>\n      <th>Longitude</th>\n      <th>Latitude</th>\n      <th>Slope</th>\n      <th>Soil Type</th>\n      <th>1986</th>\n      <th>1987</th>\n      <th>1988</th>\n      <th>1989</th>\n      <th>...</th>\n      <th>2026</th>\n      <th>2027</th>\n      <th>2028</th>\n      <th>2029</th>\n      <th>2030</th>\n      <th>2031</th>\n      <th>2032</th>\n      <th>2033</th>\n      <th>2034</th>\n      <th>2035</th>\n    </tr>\n  </thead>\n  <tbody>\n    <tr>\n      <th>0</th>\n      <td>Faridkot</td>\n      <td>1</td>\n      <td>75.25</td>\n      <td>29.75</td>\n      <td>0.496398</td>\n      <td>Builtup</td>\n      <td>-0.09</td>\n      <td>0.83</td>\n      <td>-1.48</td>\n      <td>0.30</td>\n      <td>...</td>\n      <td>-0.866702</td>\n      <td>-0.283943</td>\n      <td>-0.229168</td>\n      <td>0.125735</td>\n      <td>-0.435606</td>\n      <td>-1.230511</td>\n      <td>-0.819274</td>\n      <td>-0.761898</td>\n      <td>-0.375791</td>\n      <td>-1.041478</td>\n    </tr>\n    <tr>\n      <th>1</th>\n      <td>Patiala</td>\n      <td>2</td>\n      <td>76.00</td>\n      <td>29.75</td>\n      <td>0.992721</td>\n      <td>Haplic Calcisols</td>\n      <td>-1.04</td>\n      <td>0.60</td>\n      <td>-1.45</td>\n      <td>-0.12</td>\n      <td>...</td>\n      <td>0.161214</td>\n      <td>-0.082979</td>\n      <td>0.182368</td>\n      <td>-0.081441</td>\n      <td>0.035361</td>\n      <td>-0.127377</td>\n      <td>-0.298394</td>\n      <td>-0.185644</td>\n      <td>-0.714443</td>\n      <td>-0.134521</td>\n    </tr>\n    <tr>\n      <th>2</th>\n      <td>Amritsar</td>\n      <td>6</td>\n      <td>74.75</td>\n      <td>30.00</td>\n      <td>0.701995</td>\n      <td>Bulitup</td>\n      <td>-0.15</td>\n      <td>0.25</td>\n      <td>-2.26</td>\n      <td>-0.36</td>\n      <td>...</td>\n      <td>-1.033234</td>\n      <td>-0.662140</td>\n      <td>-0.350473</td>\n      <td>-0.930258</td>\n      <td>-0.889378</td>\n      <td>-1.250269</td>\n      <td>-0.462064</td>\n      <td>-0.905935</td>\n      <td>-0.583495</td>\n      <td>-0.585831</td>\n    </tr>\n    <tr>\n      <th>3</th>\n      <td>Amritsar</td>\n      <td>7</td>\n      <td>75.00</td>\n      <td>30.00</td>\n      <td>0.784844</td>\n      <td>Builtup</td>\n      <td>-0.28</td>\n      <td>-0.60</td>\n      <td>-4.85</td>\n      <td>-0.68</td>\n      <td>...</td>\n      <td>-0.842577</td>\n      <td>0.157196</td>\n      <td>0.044586</td>\n      <td>-1.264308</td>\n      <td>-0.736339</td>\n      <td>-1.533333</td>\n      <td>-1.208838</td>\n      <td>-0.567500</td>\n      <td>0.149191</td>\n      <td>-1.206976</td>\n    </tr>\n    <tr>\n      <th>4</th>\n      <td>Amritsar</td>\n      <td>8</td>\n      <td>75.25</td>\n      <td>30.00</td>\n      <td>0.784844</td>\n      <td>Builtup</td>\n      <td>-0.15</td>\n      <td>0.25</td>\n      <td>-2.26</td>\n      <td>-0.36</td>\n      <td>...</td>\n      <td>-1.072097</td>\n      <td>-0.259178</td>\n      <td>-0.488297</td>\n      <td>-1.198834</td>\n      <td>-0.478788</td>\n      <td>-1.244492</td>\n      <td>-1.510294</td>\n      <td>-1.574249</td>\n      <td>-1.274598</td>\n      <td>-0.991167</td>\n    </tr>\n    <tr>\n      <th>...</th>\n      <td>...</td>\n      <td>...</td>\n      <td>...</td>\n      <td>...</td>\n      <td>...</td>\n      <td>...</td>\n      <td>...</td>\n      <td>...</td>\n      <td>...</td>\n      <td>...</td>\n      <td>...</td>\n      <td>...</td>\n      <td>...</td>\n      <td>...</td>\n      <td>...</td>\n      <td>...</td>\n      <td>...</td>\n      <td>...</td>\n      <td>...</td>\n      <td>...</td>\n      <td>...</td>\n    </tr>\n    <tr>\n      <th>60</th>\n      <td>Shahid Bhagat Singh Nagar</td>\n      <td>71</td>\n      <td>75.00</td>\n      <td>32.00</td>\n      <td>1.446964</td>\n      <td>Calcaric Fluvisols</td>\n      <td>-2.79</td>\n      <td>1.30</td>\n      <td>-7.90</td>\n      <td>-2.20</td>\n      <td>...</td>\n      <td>-0.360590</td>\n      <td>-2.085280</td>\n      <td>-0.489081</td>\n      <td>-0.788720</td>\n      <td>-0.422177</td>\n      <td>-1.262057</td>\n      <td>-1.681914</td>\n      <td>-0.704901</td>\n      <td>-1.662324</td>\n      <td>0.056829</td>\n    </tr>\n    <tr>\n      <th>61</th>\n      <td>Shahid Bhagat Singh Nagar</td>\n      <td>72</td>\n      <td>75.25</td>\n      <td>32.00</td>\n      <td>1.446964</td>\n      <td>Haplic Calcisols</td>\n      <td>-0.83</td>\n      <td>0.92</td>\n      <td>-3.68</td>\n      <td>-1.01</td>\n      <td>...</td>\n      <td>-1.144229</td>\n      <td>-1.942113</td>\n      <td>-0.344537</td>\n      <td>-1.662962</td>\n      <td>-0.842341</td>\n      <td>-2.952166</td>\n      <td>-1.018786</td>\n      <td>-0.372778</td>\n      <td>-1.342661</td>\n      <td>-0.631610</td>\n    </tr>\n    <tr>\n      <th>62</th>\n      <td>Shahid Bhagat Singh Nagar</td>\n      <td>73</td>\n      <td>75.50</td>\n      <td>32.00</td>\n      <td>0.701995</td>\n      <td>Loam</td>\n      <td>-2.79</td>\n      <td>1.30</td>\n      <td>-7.90</td>\n      <td>-2.20</td>\n      <td>...</td>\n      <td>-1.996100</td>\n      <td>-1.453295</td>\n      <td>-2.330532</td>\n      <td>-2.007964</td>\n      <td>-1.919785</td>\n      <td>-2.771630</td>\n      <td>-2.512308</td>\n      <td>-1.167817</td>\n      <td>-2.224794</td>\n      <td>-0.656383</td>\n    </tr>\n    <tr>\n      <th>63</th>\n      <td>Fazilka</td>\n      <td>74</td>\n      <td>75.75</td>\n      <td>32.00</td>\n      <td>2.218904</td>\n      <td>Loam</td>\n      <td>-0.20</td>\n      <td>0.13</td>\n      <td>-1.06</td>\n      <td>-0.63</td>\n      <td>...</td>\n      <td>-0.913869</td>\n      <td>-1.161033</td>\n      <td>-1.604990</td>\n      <td>-1.697900</td>\n      <td>-1.831034</td>\n      <td>-2.364688</td>\n      <td>-0.599011</td>\n      <td>-0.874176</td>\n      <td>-1.913817</td>\n      <td>-1.726819</td>\n    </tr>\n    <tr>\n      <th>64</th>\n      <td>Shahid Bhagat Singh Nagar</td>\n      <td>75</td>\n      <td>75.50</td>\n      <td>32.25</td>\n      <td>2.827676</td>\n      <td>Calcaric Fluvisols</td>\n      <td>-0.83</td>\n      <td>0.92</td>\n      <td>-3.68</td>\n      <td>-1.01</td>\n      <td>...</td>\n      <td>-0.885724</td>\n      <td>-1.910402</td>\n      <td>-0.605435</td>\n      <td>-0.996654</td>\n      <td>-1.932737</td>\n      <td>-2.443744</td>\n      <td>-1.166130</td>\n      <td>-1.375977</td>\n      <td>0.034004</td>\n      <td>-1.889106</td>\n    </tr>\n  </tbody>\n</table>\n<p>65 rows × 56 columns</p>\n</div>"
     },
     "execution_count": 11,
     "metadata": {},
     "output_type": "execute_result"
    }
   ],
   "source": [
    "df"
   ],
   "metadata": {
    "collapsed": false,
    "ExecuteTime": {
     "end_time": "2023-07-04T06:34:18.768288800Z",
     "start_time": "2023-07-04T06:34:18.752667Z"
    }
   }
  },
  {
   "cell_type": "code",
   "execution_count": 19,
   "outputs": [
    {
     "name": "stderr",
     "output_type": "stream",
     "text": [
      "C:\\Users\\shash\\AppData\\Local\\Temp\\ipykernel_15924\\3188979856.py:1: FutureWarning: The default value of numeric_only in DataFrameGroupBy.mean is deprecated. In a future version, numeric_only will default to False. Either specify numeric_only or select only columns which should be valid for the function.\n",
      "  gr_df=df.groupby('District').mean().reset_index()\n"
     ]
    }
   ],
   "source": [
    "gr_df = df.groupby('District').mean().reset_index()"
   ],
   "metadata": {
    "collapsed": false,
    "ExecuteTime": {
     "end_time": "2023-07-04T06:37:18.039095500Z",
     "start_time": "2023-07-04T06:37:18.007847Z"
    }
   }
  },
  {
   "cell_type": "code",
   "execution_count": 20,
   "outputs": [
    {
     "data": {
      "text/plain": "                     District  Object Id  Longitude   Latitude     Slope  \\\n0                    Amritsar  13.857143  75.035714  30.178571  1.138239   \n1                     Barnala  28.400000  76.450000  30.400000  2.218934   \n2                    Bathinda  59.000000  76.500000  31.250000  2.739426   \n3                    Faridkot   5.000000  75.375000  29.875000  0.496398   \n4             Fatehgarh Sahib  37.000000  75.125000  30.750000  1.378034   \n5                     Fazilka  66.200000  75.900000  31.600000  2.800736   \n6                  Hoshiarpur  60.142857  74.928571  31.500000  1.213943   \n7                   Jalandhar  32.333333  74.666667  30.666667  0.496398   \n8                    Ludhiana  57.666667  75.500000  31.333333  0.748574   \n9                        Moga  51.000000  75.500000  31.125000  1.789251   \n10                     Mohali  42.000000  75.850000  30.800000  2.364981   \n11                    Patiala  18.888889  75.805556  30.222222  1.220251   \n12                   Rupnagar  45.000000  75.000000  31.000000  3.155940   \n13                    Sangrur  51.750000  76.187500  31.062500  3.896456   \n14  Shahid Bhagat Singh Nagar  71.333333  75.333333  31.958333  3.044560   \n15                 Tarn Taran  43.000000  76.500000  30.750000  1.889588   \n\n        1986      1987      1988      1989      1990  ...      2026      2027  \\\n0  -0.205714 -0.114286 -3.370000 -0.497143 -2.175714  ... -1.097170 -0.701611   \n1   0.550000  0.620000 -1.850000  0.650000 -0.630000  ... -1.669540 -1.082625   \n2   0.030000 -0.840000 -2.610000 -0.210000 -0.600000  ... -2.304828 -1.678236   \n3  -0.090000  0.830000 -1.480000  0.300000 -0.800000  ... -0.466110 -0.090535   \n4  -0.330000  0.960000 -3.300000 -0.830000 -2.090000  ... -0.543895 -0.218720   \n5  -0.200000  0.130000 -1.060000 -0.630000 -0.870000  ... -1.726357 -1.589379   \n6  -1.145714 -1.105714 -5.521429 -1.602857 -1.770000  ... -1.634687 -1.529681   \n7   0.250000  0.270000 -7.000000 -0.150000 -2.150000  ... -0.857808 -0.650653   \n8   0.333333  0.950000 -1.773333  0.416667 -1.250000  ... -0.443459 -1.586904   \n9   1.230000  0.800000 -2.650000  0.290000 -1.620000  ...  0.376153  0.337248   \n10 -1.478000  0.450000 -4.550000 -1.580000 -3.980000  ... -0.133467 -0.543388   \n11 -0.537778  0.804444 -1.481111 -0.240000 -1.786667  ...  0.152675 -0.111127   \n12 -0.790000  0.110000 -1.010000 -0.660000 -1.260000  ... -1.510209 -0.305665   \n13 -0.580000  0.510000 -1.310000  0.310000 -0.180000  ... -1.919986 -1.684542   \n14 -1.810000  1.110000 -5.790000 -1.605000 -3.985000  ... -0.990815 -1.406858   \n15 -0.180000  0.700000 -0.760000 -0.700000 -0.540000  ... -2.664800 -0.883289   \n\n        2028      2029      2030      2031      2032      2033      2034  \\\n0  -0.524475 -1.307309 -0.791884 -1.252717 -1.228084 -1.145630 -1.079357   \n1  -1.308685 -1.918673 -0.297957 -1.751732 -0.975293 -1.713057 -3.201752   \n2  -1.943485 -2.408354 -1.550376 -2.240571 -1.566219 -2.025641  0.459768   \n3  -0.051813 -0.386535 -0.822854 -0.669726 -0.869511 -0.592940 -0.831477   \n4  -0.201374  0.033737 -0.430297 -0.607012 -0.674676 -0.806206 -0.337092   \n5  -1.073380 -1.184370 -0.991294 -1.995619 -1.025586 -0.807640 -1.286188   \n6  -2.030860 -2.079091 -2.105353 -1.566002 -2.045961 -1.909582 -1.399895   \n7  -0.766883 -1.150166 -0.635400 -2.182399 -0.657469 -0.632551 -0.259455   \n8  -0.601162  1.542234 -0.854059  0.367279 -0.863629 -0.054438 -0.588308   \n9  -0.310219 -0.207250 -0.510887  0.158799 -1.417371 -0.932009 -0.809089   \n10  0.320069 -0.824049 -0.561584 -0.035084  0.230173 -0.026883 -2.033193   \n11 -0.019318 -0.503510  0.101256 -0.184497  0.141160 -0.099509 -1.480923   \n12 -0.398101 -1.363658 -1.502278 -1.016243 -0.694380 -1.194591 -0.711201   \n13 -1.364772 -2.139603 -0.810312 -1.507261 -1.370833 -1.591721 -1.791032   \n14 -0.944193 -1.356414 -1.060767 -1.917481 -1.469634 -0.721208 -1.510083   \n15 -1.641300 -2.560390 -0.443768 -0.690004  2.811694 -0.070152 -2.780316   \n\n        2035  \n0  -0.999653  \n1  -1.938354  \n2  -1.224531  \n3  -0.063801  \n4  -0.622965  \n5  -1.272194  \n6  -2.041945  \n7  -0.444365  \n8   0.245763  \n9   0.269578  \n10 -0.728983  \n11 -0.294662  \n12 -1.493816  \n13 -2.845442  \n14 -0.263128  \n15 -3.115278  \n\n[16 rows x 55 columns]",
      "text/html": "<div>\n<style scoped>\n    .dataframe tbody tr th:only-of-type {\n        vertical-align: middle;\n    }\n\n    .dataframe tbody tr th {\n        vertical-align: top;\n    }\n\n    .dataframe thead th {\n        text-align: right;\n    }\n</style>\n<table border=\"1\" class=\"dataframe\">\n  <thead>\n    <tr style=\"text-align: right;\">\n      <th></th>\n      <th>District</th>\n      <th>Object Id</th>\n      <th>Longitude</th>\n      <th>Latitude</th>\n      <th>Slope</th>\n      <th>1986</th>\n      <th>1987</th>\n      <th>1988</th>\n      <th>1989</th>\n      <th>1990</th>\n      <th>...</th>\n      <th>2026</th>\n      <th>2027</th>\n      <th>2028</th>\n      <th>2029</th>\n      <th>2030</th>\n      <th>2031</th>\n      <th>2032</th>\n      <th>2033</th>\n      <th>2034</th>\n      <th>2035</th>\n    </tr>\n  </thead>\n  <tbody>\n    <tr>\n      <th>0</th>\n      <td>Amritsar</td>\n      <td>13.857143</td>\n      <td>75.035714</td>\n      <td>30.178571</td>\n      <td>1.138239</td>\n      <td>-0.205714</td>\n      <td>-0.114286</td>\n      <td>-3.370000</td>\n      <td>-0.497143</td>\n      <td>-2.175714</td>\n      <td>...</td>\n      <td>-1.097170</td>\n      <td>-0.701611</td>\n      <td>-0.524475</td>\n      <td>-1.307309</td>\n      <td>-0.791884</td>\n      <td>-1.252717</td>\n      <td>-1.228084</td>\n      <td>-1.145630</td>\n      <td>-1.079357</td>\n      <td>-0.999653</td>\n    </tr>\n    <tr>\n      <th>1</th>\n      <td>Barnala</td>\n      <td>28.400000</td>\n      <td>76.450000</td>\n      <td>30.400000</td>\n      <td>2.218934</td>\n      <td>0.550000</td>\n      <td>0.620000</td>\n      <td>-1.850000</td>\n      <td>0.650000</td>\n      <td>-0.630000</td>\n      <td>...</td>\n      <td>-1.669540</td>\n      <td>-1.082625</td>\n      <td>-1.308685</td>\n      <td>-1.918673</td>\n      <td>-0.297957</td>\n      <td>-1.751732</td>\n      <td>-0.975293</td>\n      <td>-1.713057</td>\n      <td>-3.201752</td>\n      <td>-1.938354</td>\n    </tr>\n    <tr>\n      <th>2</th>\n      <td>Bathinda</td>\n      <td>59.000000</td>\n      <td>76.500000</td>\n      <td>31.250000</td>\n      <td>2.739426</td>\n      <td>0.030000</td>\n      <td>-0.840000</td>\n      <td>-2.610000</td>\n      <td>-0.210000</td>\n      <td>-0.600000</td>\n      <td>...</td>\n      <td>-2.304828</td>\n      <td>-1.678236</td>\n      <td>-1.943485</td>\n      <td>-2.408354</td>\n      <td>-1.550376</td>\n      <td>-2.240571</td>\n      <td>-1.566219</td>\n      <td>-2.025641</td>\n      <td>0.459768</td>\n      <td>-1.224531</td>\n    </tr>\n    <tr>\n      <th>3</th>\n      <td>Faridkot</td>\n      <td>5.000000</td>\n      <td>75.375000</td>\n      <td>29.875000</td>\n      <td>0.496398</td>\n      <td>-0.090000</td>\n      <td>0.830000</td>\n      <td>-1.480000</td>\n      <td>0.300000</td>\n      <td>-0.800000</td>\n      <td>...</td>\n      <td>-0.466110</td>\n      <td>-0.090535</td>\n      <td>-0.051813</td>\n      <td>-0.386535</td>\n      <td>-0.822854</td>\n      <td>-0.669726</td>\n      <td>-0.869511</td>\n      <td>-0.592940</td>\n      <td>-0.831477</td>\n      <td>-0.063801</td>\n    </tr>\n    <tr>\n      <th>4</th>\n      <td>Fatehgarh Sahib</td>\n      <td>37.000000</td>\n      <td>75.125000</td>\n      <td>30.750000</td>\n      <td>1.378034</td>\n      <td>-0.330000</td>\n      <td>0.960000</td>\n      <td>-3.300000</td>\n      <td>-0.830000</td>\n      <td>-2.090000</td>\n      <td>...</td>\n      <td>-0.543895</td>\n      <td>-0.218720</td>\n      <td>-0.201374</td>\n      <td>0.033737</td>\n      <td>-0.430297</td>\n      <td>-0.607012</td>\n      <td>-0.674676</td>\n      <td>-0.806206</td>\n      <td>-0.337092</td>\n      <td>-0.622965</td>\n    </tr>\n    <tr>\n      <th>5</th>\n      <td>Fazilka</td>\n      <td>66.200000</td>\n      <td>75.900000</td>\n      <td>31.600000</td>\n      <td>2.800736</td>\n      <td>-0.200000</td>\n      <td>0.130000</td>\n      <td>-1.060000</td>\n      <td>-0.630000</td>\n      <td>-0.870000</td>\n      <td>...</td>\n      <td>-1.726357</td>\n      <td>-1.589379</td>\n      <td>-1.073380</td>\n      <td>-1.184370</td>\n      <td>-0.991294</td>\n      <td>-1.995619</td>\n      <td>-1.025586</td>\n      <td>-0.807640</td>\n      <td>-1.286188</td>\n      <td>-1.272194</td>\n    </tr>\n    <tr>\n      <th>6</th>\n      <td>Hoshiarpur</td>\n      <td>60.142857</td>\n      <td>74.928571</td>\n      <td>31.500000</td>\n      <td>1.213943</td>\n      <td>-1.145714</td>\n      <td>-1.105714</td>\n      <td>-5.521429</td>\n      <td>-1.602857</td>\n      <td>-1.770000</td>\n      <td>...</td>\n      <td>-1.634687</td>\n      <td>-1.529681</td>\n      <td>-2.030860</td>\n      <td>-2.079091</td>\n      <td>-2.105353</td>\n      <td>-1.566002</td>\n      <td>-2.045961</td>\n      <td>-1.909582</td>\n      <td>-1.399895</td>\n      <td>-2.041945</td>\n    </tr>\n    <tr>\n      <th>7</th>\n      <td>Jalandhar</td>\n      <td>32.333333</td>\n      <td>74.666667</td>\n      <td>30.666667</td>\n      <td>0.496398</td>\n      <td>0.250000</td>\n      <td>0.270000</td>\n      <td>-7.000000</td>\n      <td>-0.150000</td>\n      <td>-2.150000</td>\n      <td>...</td>\n      <td>-0.857808</td>\n      <td>-0.650653</td>\n      <td>-0.766883</td>\n      <td>-1.150166</td>\n      <td>-0.635400</td>\n      <td>-2.182399</td>\n      <td>-0.657469</td>\n      <td>-0.632551</td>\n      <td>-0.259455</td>\n      <td>-0.444365</td>\n    </tr>\n    <tr>\n      <th>8</th>\n      <td>Ludhiana</td>\n      <td>57.666667</td>\n      <td>75.500000</td>\n      <td>31.333333</td>\n      <td>0.748574</td>\n      <td>0.333333</td>\n      <td>0.950000</td>\n      <td>-1.773333</td>\n      <td>0.416667</td>\n      <td>-1.250000</td>\n      <td>...</td>\n      <td>-0.443459</td>\n      <td>-1.586904</td>\n      <td>-0.601162</td>\n      <td>1.542234</td>\n      <td>-0.854059</td>\n      <td>0.367279</td>\n      <td>-0.863629</td>\n      <td>-0.054438</td>\n      <td>-0.588308</td>\n      <td>0.245763</td>\n    </tr>\n    <tr>\n      <th>9</th>\n      <td>Moga</td>\n      <td>51.000000</td>\n      <td>75.500000</td>\n      <td>31.125000</td>\n      <td>1.789251</td>\n      <td>1.230000</td>\n      <td>0.800000</td>\n      <td>-2.650000</td>\n      <td>0.290000</td>\n      <td>-1.620000</td>\n      <td>...</td>\n      <td>0.376153</td>\n      <td>0.337248</td>\n      <td>-0.310219</td>\n      <td>-0.207250</td>\n      <td>-0.510887</td>\n      <td>0.158799</td>\n      <td>-1.417371</td>\n      <td>-0.932009</td>\n      <td>-0.809089</td>\n      <td>0.269578</td>\n    </tr>\n    <tr>\n      <th>10</th>\n      <td>Mohali</td>\n      <td>42.000000</td>\n      <td>75.850000</td>\n      <td>30.800000</td>\n      <td>2.364981</td>\n      <td>-1.478000</td>\n      <td>0.450000</td>\n      <td>-4.550000</td>\n      <td>-1.580000</td>\n      <td>-3.980000</td>\n      <td>...</td>\n      <td>-0.133467</td>\n      <td>-0.543388</td>\n      <td>0.320069</td>\n      <td>-0.824049</td>\n      <td>-0.561584</td>\n      <td>-0.035084</td>\n      <td>0.230173</td>\n      <td>-0.026883</td>\n      <td>-2.033193</td>\n      <td>-0.728983</td>\n    </tr>\n    <tr>\n      <th>11</th>\n      <td>Patiala</td>\n      <td>18.888889</td>\n      <td>75.805556</td>\n      <td>30.222222</td>\n      <td>1.220251</td>\n      <td>-0.537778</td>\n      <td>0.804444</td>\n      <td>-1.481111</td>\n      <td>-0.240000</td>\n      <td>-1.786667</td>\n      <td>...</td>\n      <td>0.152675</td>\n      <td>-0.111127</td>\n      <td>-0.019318</td>\n      <td>-0.503510</td>\n      <td>0.101256</td>\n      <td>-0.184497</td>\n      <td>0.141160</td>\n      <td>-0.099509</td>\n      <td>-1.480923</td>\n      <td>-0.294662</td>\n    </tr>\n    <tr>\n      <th>12</th>\n      <td>Rupnagar</td>\n      <td>45.000000</td>\n      <td>75.000000</td>\n      <td>31.000000</td>\n      <td>3.155940</td>\n      <td>-0.790000</td>\n      <td>0.110000</td>\n      <td>-1.010000</td>\n      <td>-0.660000</td>\n      <td>-1.260000</td>\n      <td>...</td>\n      <td>-1.510209</td>\n      <td>-0.305665</td>\n      <td>-0.398101</td>\n      <td>-1.363658</td>\n      <td>-1.502278</td>\n      <td>-1.016243</td>\n      <td>-0.694380</td>\n      <td>-1.194591</td>\n      <td>-0.711201</td>\n      <td>-1.493816</td>\n    </tr>\n    <tr>\n      <th>13</th>\n      <td>Sangrur</td>\n      <td>51.750000</td>\n      <td>76.187500</td>\n      <td>31.062500</td>\n      <td>3.896456</td>\n      <td>-0.580000</td>\n      <td>0.510000</td>\n      <td>-1.310000</td>\n      <td>0.310000</td>\n      <td>-0.180000</td>\n      <td>...</td>\n      <td>-1.919986</td>\n      <td>-1.684542</td>\n      <td>-1.364772</td>\n      <td>-2.139603</td>\n      <td>-0.810312</td>\n      <td>-1.507261</td>\n      <td>-1.370833</td>\n      <td>-1.591721</td>\n      <td>-1.791032</td>\n      <td>-2.845442</td>\n    </tr>\n    <tr>\n      <th>14</th>\n      <td>Shahid Bhagat Singh Nagar</td>\n      <td>71.333333</td>\n      <td>75.333333</td>\n      <td>31.958333</td>\n      <td>3.044560</td>\n      <td>-1.810000</td>\n      <td>1.110000</td>\n      <td>-5.790000</td>\n      <td>-1.605000</td>\n      <td>-3.985000</td>\n      <td>...</td>\n      <td>-0.990815</td>\n      <td>-1.406858</td>\n      <td>-0.944193</td>\n      <td>-1.356414</td>\n      <td>-1.060767</td>\n      <td>-1.917481</td>\n      <td>-1.469634</td>\n      <td>-0.721208</td>\n      <td>-1.510083</td>\n      <td>-0.263128</td>\n    </tr>\n    <tr>\n      <th>15</th>\n      <td>Tarn Taran</td>\n      <td>43.000000</td>\n      <td>76.500000</td>\n      <td>30.750000</td>\n      <td>1.889588</td>\n      <td>-0.180000</td>\n      <td>0.700000</td>\n      <td>-0.760000</td>\n      <td>-0.700000</td>\n      <td>-0.540000</td>\n      <td>...</td>\n      <td>-2.664800</td>\n      <td>-0.883289</td>\n      <td>-1.641300</td>\n      <td>-2.560390</td>\n      <td>-0.443768</td>\n      <td>-0.690004</td>\n      <td>2.811694</td>\n      <td>-0.070152</td>\n      <td>-2.780316</td>\n      <td>-3.115278</td>\n    </tr>\n  </tbody>\n</table>\n<p>16 rows × 55 columns</p>\n</div>"
     },
     "execution_count": 20,
     "metadata": {},
     "output_type": "execute_result"
    }
   ],
   "source": [
    "gr_df"
   ],
   "metadata": {
    "collapsed": false,
    "ExecuteTime": {
     "end_time": "2023-07-04T06:37:18.818713700Z",
     "start_time": "2023-07-04T06:37:18.761737700Z"
    }
   }
  },
  {
   "cell_type": "code",
   "execution_count": 21,
   "outputs": [],
   "source": [
    "gr_df = gr_df.drop(['Object Id', 'Latitude', 'Longitude'], axis=1)"
   ],
   "metadata": {
    "collapsed": false,
    "ExecuteTime": {
     "end_time": "2023-07-04T06:37:19.707466700Z",
     "start_time": "2023-07-04T06:37:19.690790300Z"
    }
   }
  },
  {
   "cell_type": "code",
   "execution_count": 22,
   "outputs": [],
   "source": [
    "gr_df.to_excel('B:\\GroundwaterRech\\GithubRepo\\Restart\\Forecast_new\\SSP126\\DistrictSSP126.xlsx')"
   ],
   "metadata": {
    "collapsed": false,
    "ExecuteTime": {
     "end_time": "2023-07-04T06:37:20.725585700Z",
     "start_time": "2023-07-04T06:37:20.655429700Z"
    }
   }
  },
  {
   "cell_type": "code",
   "execution_count": null,
   "outputs": [],
   "source": [],
   "metadata": {
    "collapsed": false
   }
  }
 ],
 "metadata": {
  "kernelspec": {
   "display_name": "Python 3",
   "language": "python",
   "name": "python3"
  },
  "language_info": {
   "codemirror_mode": {
    "name": "ipython",
    "version": 2
   },
   "file_extension": ".py",
   "mimetype": "text/x-python",
   "name": "python",
   "nbconvert_exporter": "python",
   "pygments_lexer": "ipython2",
   "version": "2.7.6"
  }
 },
 "nbformat": 4,
 "nbformat_minor": 0
}
