{
 "cells": [
  {
   "cell_type": "markdown",
   "source": [
    "# Convert Temperature\n"
   ],
   "metadata": {
    "collapsed": false
   }
  },
  {
   "cell_type": "code",
   "execution_count": 42,
   "outputs": [],
   "source": [
    "import pandas as pd"
   ],
   "metadata": {
    "collapsed": false
   }
  },
  {
   "cell_type": "code",
   "execution_count": 50,
   "outputs": [],
   "source": [
    "l = ['AMRITSAR', 'HOSHIARPUR', 'JALANDHAR', 'TRAN TARAN', 'RUPNAGAR', 'SBS NAGAR', 'FAZILKA', 'MOGA', 'LUDHIANA',\n",
    "     'SBS_NAGAR', 'FARIDKOT', 'FATEHGARH SAHIB', 'SH MUKTSAR SAHIB', 'SANGRUR', 'BARNALA', 'BATHINDA', 'PATIALA', ]"
   ],
   "metadata": {
    "collapsed": false
   }
  },
  {
   "cell_type": "code",
   "execution_count": 136,
   "outputs": [
    {
     "name": "stderr",
     "output_type": "stream",
     "text": [
      "C:\\Users\\shash\\AppData\\Local\\Temp\\ipykernel_10472\\3788523461.py:24: SettingWithCopyWarning: \n",
      "A value is trying to be set on a copy of a slice from a DataFrame\n",
      "\n",
      "See the caveats in the documentation: https://pandas.pydata.org/pandas-docs/stable/user_guide/indexing.html#returning-a-view-versus-a-copy\n",
      "  df_max.drop([0, 1, 2, 3, 4, 5, 11, 12], axis=0, inplace=True)\n",
      "C:\\Users\\shash\\AppData\\Local\\Temp\\ipykernel_10472\\3788523461.py:27: SettingWithCopyWarning: \n",
      "A value is trying to be set on a copy of a slice from a DataFrame\n",
      "\n",
      "See the caveats in the documentation: https://pandas.pydata.org/pandas-docs/stable/user_guide/indexing.html#returning-a-view-versus-a-copy\n",
      "  df_min.drop([0, 1, 2, 3, 4, 5, 11, 12], axis=0, inplace=True)\n",
      "C:\\Users\\shash\\AppData\\Local\\Temp\\ipykernel_10472\\3788523461.py:29: FutureWarning: The default value of numeric_only in DataFrame.mean is deprecated. In a future version, it will default to False. In addition, specifying 'numeric_only=None' is deprecated. Select only valid columns or specify the value of numeric_only to silence this warning.\n",
      "  df2_min = pd.DataFrame(df_min.mean(), columns=['Mean'])\n",
      "C:\\Users\\shash\\AppData\\Local\\Temp\\ipykernel_10472\\3788523461.py:30: FutureWarning: The default value of numeric_only in DataFrame.mean is deprecated. In a future version, it will default to False. In addition, specifying 'numeric_only=None' is deprecated. Select only valid columns or specify the value of numeric_only to silence this warning.\n",
      "  df2_max = pd.DataFrame(df_max.mean(), columns=['Mean'])\n",
      "C:\\Users\\shash\\AppData\\Local\\Temp\\ipykernel_10472\\3788523461.py:24: SettingWithCopyWarning: \n",
      "A value is trying to be set on a copy of a slice from a DataFrame\n",
      "\n",
      "See the caveats in the documentation: https://pandas.pydata.org/pandas-docs/stable/user_guide/indexing.html#returning-a-view-versus-a-copy\n",
      "  df_max.drop([0, 1, 2, 3, 4, 5, 11, 12], axis=0, inplace=True)\n",
      "C:\\Users\\shash\\AppData\\Local\\Temp\\ipykernel_10472\\3788523461.py:27: SettingWithCopyWarning: \n",
      "A value is trying to be set on a copy of a slice from a DataFrame\n",
      "\n",
      "See the caveats in the documentation: https://pandas.pydata.org/pandas-docs/stable/user_guide/indexing.html#returning-a-view-versus-a-copy\n",
      "  df_min.drop([0, 1, 2, 3, 4, 5, 11, 12], axis=0, inplace=True)\n",
      "C:\\Users\\shash\\AppData\\Local\\Temp\\ipykernel_10472\\3788523461.py:29: FutureWarning: The default value of numeric_only in DataFrame.mean is deprecated. In a future version, it will default to False. In addition, specifying 'numeric_only=None' is deprecated. Select only valid columns or specify the value of numeric_only to silence this warning.\n",
      "  df2_min = pd.DataFrame(df_min.mean(), columns=['Mean'])\n",
      "C:\\Users\\shash\\AppData\\Local\\Temp\\ipykernel_10472\\3788523461.py:30: FutureWarning: The default value of numeric_only in DataFrame.mean is deprecated. In a future version, it will default to False. In addition, specifying 'numeric_only=None' is deprecated. Select only valid columns or specify the value of numeric_only to silence this warning.\n",
      "  df2_max = pd.DataFrame(df_max.mean(), columns=['Mean'])\n",
      "C:\\Users\\shash\\AppData\\Local\\Temp\\ipykernel_10472\\3788523461.py:24: SettingWithCopyWarning: \n",
      "A value is trying to be set on a copy of a slice from a DataFrame\n",
      "\n",
      "See the caveats in the documentation: https://pandas.pydata.org/pandas-docs/stable/user_guide/indexing.html#returning-a-view-versus-a-copy\n",
      "  df_max.drop([0, 1, 2, 3, 4, 5, 11, 12], axis=0, inplace=True)\n",
      "C:\\Users\\shash\\AppData\\Local\\Temp\\ipykernel_10472\\3788523461.py:27: SettingWithCopyWarning: \n",
      "A value is trying to be set on a copy of a slice from a DataFrame\n",
      "\n",
      "See the caveats in the documentation: https://pandas.pydata.org/pandas-docs/stable/user_guide/indexing.html#returning-a-view-versus-a-copy\n",
      "  df_min.drop([0, 1, 2, 3, 4, 5, 11, 12], axis=0, inplace=True)\n",
      "C:\\Users\\shash\\AppData\\Local\\Temp\\ipykernel_10472\\3788523461.py:29: FutureWarning: The default value of numeric_only in DataFrame.mean is deprecated. In a future version, it will default to False. In addition, specifying 'numeric_only=None' is deprecated. Select only valid columns or specify the value of numeric_only to silence this warning.\n",
      "  df2_min = pd.DataFrame(df_min.mean(), columns=['Mean'])\n",
      "C:\\Users\\shash\\AppData\\Local\\Temp\\ipykernel_10472\\3788523461.py:30: FutureWarning: The default value of numeric_only in DataFrame.mean is deprecated. In a future version, it will default to False. In addition, specifying 'numeric_only=None' is deprecated. Select only valid columns or specify the value of numeric_only to silence this warning.\n",
      "  df2_max = pd.DataFrame(df_max.mean(), columns=['Mean'])\n",
      "C:\\Users\\shash\\AppData\\Local\\Temp\\ipykernel_10472\\3788523461.py:24: SettingWithCopyWarning: \n",
      "A value is trying to be set on a copy of a slice from a DataFrame\n",
      "\n",
      "See the caveats in the documentation: https://pandas.pydata.org/pandas-docs/stable/user_guide/indexing.html#returning-a-view-versus-a-copy\n",
      "  df_max.drop([0, 1, 2, 3, 4, 5, 11, 12], axis=0, inplace=True)\n",
      "C:\\Users\\shash\\AppData\\Local\\Temp\\ipykernel_10472\\3788523461.py:27: SettingWithCopyWarning: \n",
      "A value is trying to be set on a copy of a slice from a DataFrame\n",
      "\n",
      "See the caveats in the documentation: https://pandas.pydata.org/pandas-docs/stable/user_guide/indexing.html#returning-a-view-versus-a-copy\n",
      "  df_min.drop([0, 1, 2, 3, 4, 5, 11, 12], axis=0, inplace=True)\n",
      "C:\\Users\\shash\\AppData\\Local\\Temp\\ipykernel_10472\\3788523461.py:29: FutureWarning: The default value of numeric_only in DataFrame.mean is deprecated. In a future version, it will default to False. In addition, specifying 'numeric_only=None' is deprecated. Select only valid columns or specify the value of numeric_only to silence this warning.\n",
      "  df2_min = pd.DataFrame(df_min.mean(), columns=['Mean'])\n",
      "C:\\Users\\shash\\AppData\\Local\\Temp\\ipykernel_10472\\3788523461.py:30: FutureWarning: The default value of numeric_only in DataFrame.mean is deprecated. In a future version, it will default to False. In addition, specifying 'numeric_only=None' is deprecated. Select only valid columns or specify the value of numeric_only to silence this warning.\n",
      "  df2_max = pd.DataFrame(df_max.mean(), columns=['Mean'])\n",
      "C:\\Users\\shash\\AppData\\Local\\Temp\\ipykernel_10472\\3788523461.py:24: SettingWithCopyWarning: \n",
      "A value is trying to be set on a copy of a slice from a DataFrame\n",
      "\n",
      "See the caveats in the documentation: https://pandas.pydata.org/pandas-docs/stable/user_guide/indexing.html#returning-a-view-versus-a-copy\n",
      "  df_max.drop([0, 1, 2, 3, 4, 5, 11, 12], axis=0, inplace=True)\n",
      "C:\\Users\\shash\\AppData\\Local\\Temp\\ipykernel_10472\\3788523461.py:27: SettingWithCopyWarning: \n",
      "A value is trying to be set on a copy of a slice from a DataFrame\n",
      "\n",
      "See the caveats in the documentation: https://pandas.pydata.org/pandas-docs/stable/user_guide/indexing.html#returning-a-view-versus-a-copy\n",
      "  df_min.drop([0, 1, 2, 3, 4, 5, 11, 12], axis=0, inplace=True)\n",
      "C:\\Users\\shash\\AppData\\Local\\Temp\\ipykernel_10472\\3788523461.py:29: FutureWarning: The default value of numeric_only in DataFrame.mean is deprecated. In a future version, it will default to False. In addition, specifying 'numeric_only=None' is deprecated. Select only valid columns or specify the value of numeric_only to silence this warning.\n",
      "  df2_min = pd.DataFrame(df_min.mean(), columns=['Mean'])\n",
      "C:\\Users\\shash\\AppData\\Local\\Temp\\ipykernel_10472\\3788523461.py:30: FutureWarning: The default value of numeric_only in DataFrame.mean is deprecated. In a future version, it will default to False. In addition, specifying 'numeric_only=None' is deprecated. Select only valid columns or specify the value of numeric_only to silence this warning.\n",
      "  df2_max = pd.DataFrame(df_max.mean(), columns=['Mean'])\n",
      "C:\\Users\\shash\\AppData\\Local\\Temp\\ipykernel_10472\\3788523461.py:24: SettingWithCopyWarning: \n",
      "A value is trying to be set on a copy of a slice from a DataFrame\n",
      "\n",
      "See the caveats in the documentation: https://pandas.pydata.org/pandas-docs/stable/user_guide/indexing.html#returning-a-view-versus-a-copy\n",
      "  df_max.drop([0, 1, 2, 3, 4, 5, 11, 12], axis=0, inplace=True)\n",
      "C:\\Users\\shash\\AppData\\Local\\Temp\\ipykernel_10472\\3788523461.py:27: SettingWithCopyWarning: \n",
      "A value is trying to be set on a copy of a slice from a DataFrame\n",
      "\n",
      "See the caveats in the documentation: https://pandas.pydata.org/pandas-docs/stable/user_guide/indexing.html#returning-a-view-versus-a-copy\n",
      "  df_min.drop([0, 1, 2, 3, 4, 5, 11, 12], axis=0, inplace=True)\n",
      "C:\\Users\\shash\\AppData\\Local\\Temp\\ipykernel_10472\\3788523461.py:29: FutureWarning: The default value of numeric_only in DataFrame.mean is deprecated. In a future version, it will default to False. In addition, specifying 'numeric_only=None' is deprecated. Select only valid columns or specify the value of numeric_only to silence this warning.\n",
      "  df2_min = pd.DataFrame(df_min.mean(), columns=['Mean'])\n",
      "C:\\Users\\shash\\AppData\\Local\\Temp\\ipykernel_10472\\3788523461.py:30: FutureWarning: The default value of numeric_only in DataFrame.mean is deprecated. In a future version, it will default to False. In addition, specifying 'numeric_only=None' is deprecated. Select only valid columns or specify the value of numeric_only to silence this warning.\n",
      "  df2_max = pd.DataFrame(df_max.mean(), columns=['Mean'])\n",
      "C:\\Users\\shash\\AppData\\Local\\Temp\\ipykernel_10472\\3788523461.py:24: SettingWithCopyWarning: \n",
      "A value is trying to be set on a copy of a slice from a DataFrame\n",
      "\n",
      "See the caveats in the documentation: https://pandas.pydata.org/pandas-docs/stable/user_guide/indexing.html#returning-a-view-versus-a-copy\n",
      "  df_max.drop([0, 1, 2, 3, 4, 5, 11, 12], axis=0, inplace=True)\n",
      "C:\\Users\\shash\\AppData\\Local\\Temp\\ipykernel_10472\\3788523461.py:27: SettingWithCopyWarning: \n",
      "A value is trying to be set on a copy of a slice from a DataFrame\n",
      "\n",
      "See the caveats in the documentation: https://pandas.pydata.org/pandas-docs/stable/user_guide/indexing.html#returning-a-view-versus-a-copy\n",
      "  df_min.drop([0, 1, 2, 3, 4, 5, 11, 12], axis=0, inplace=True)\n",
      "C:\\Users\\shash\\AppData\\Local\\Temp\\ipykernel_10472\\3788523461.py:29: FutureWarning: The default value of numeric_only in DataFrame.mean is deprecated. In a future version, it will default to False. In addition, specifying 'numeric_only=None' is deprecated. Select only valid columns or specify the value of numeric_only to silence this warning.\n",
      "  df2_min = pd.DataFrame(df_min.mean(), columns=['Mean'])\n",
      "C:\\Users\\shash\\AppData\\Local\\Temp\\ipykernel_10472\\3788523461.py:30: FutureWarning: The default value of numeric_only in DataFrame.mean is deprecated. In a future version, it will default to False. In addition, specifying 'numeric_only=None' is deprecated. Select only valid columns or specify the value of numeric_only to silence this warning.\n",
      "  df2_max = pd.DataFrame(df_max.mean(), columns=['Mean'])\n",
      "C:\\Users\\shash\\AppData\\Local\\Temp\\ipykernel_10472\\3788523461.py:24: SettingWithCopyWarning: \n",
      "A value is trying to be set on a copy of a slice from a DataFrame\n",
      "\n",
      "See the caveats in the documentation: https://pandas.pydata.org/pandas-docs/stable/user_guide/indexing.html#returning-a-view-versus-a-copy\n",
      "  df_max.drop([0, 1, 2, 3, 4, 5, 11, 12], axis=0, inplace=True)\n",
      "C:\\Users\\shash\\AppData\\Local\\Temp\\ipykernel_10472\\3788523461.py:27: SettingWithCopyWarning: \n",
      "A value is trying to be set on a copy of a slice from a DataFrame\n",
      "\n",
      "See the caveats in the documentation: https://pandas.pydata.org/pandas-docs/stable/user_guide/indexing.html#returning-a-view-versus-a-copy\n",
      "  df_min.drop([0, 1, 2, 3, 4, 5, 11, 12], axis=0, inplace=True)\n",
      "C:\\Users\\shash\\AppData\\Local\\Temp\\ipykernel_10472\\3788523461.py:29: FutureWarning: The default value of numeric_only in DataFrame.mean is deprecated. In a future version, it will default to False. In addition, specifying 'numeric_only=None' is deprecated. Select only valid columns or specify the value of numeric_only to silence this warning.\n",
      "  df2_min = pd.DataFrame(df_min.mean(), columns=['Mean'])\n",
      "C:\\Users\\shash\\AppData\\Local\\Temp\\ipykernel_10472\\3788523461.py:30: FutureWarning: The default value of numeric_only in DataFrame.mean is deprecated. In a future version, it will default to False. In addition, specifying 'numeric_only=None' is deprecated. Select only valid columns or specify the value of numeric_only to silence this warning.\n",
      "  df2_max = pd.DataFrame(df_max.mean(), columns=['Mean'])\n",
      "C:\\Users\\shash\\AppData\\Local\\Temp\\ipykernel_10472\\3788523461.py:24: SettingWithCopyWarning: \n",
      "A value is trying to be set on a copy of a slice from a DataFrame\n",
      "\n",
      "See the caveats in the documentation: https://pandas.pydata.org/pandas-docs/stable/user_guide/indexing.html#returning-a-view-versus-a-copy\n",
      "  df_max.drop([0, 1, 2, 3, 4, 5, 11, 12], axis=0, inplace=True)\n",
      "C:\\Users\\shash\\AppData\\Local\\Temp\\ipykernel_10472\\3788523461.py:27: SettingWithCopyWarning: \n",
      "A value is trying to be set on a copy of a slice from a DataFrame\n",
      "\n",
      "See the caveats in the documentation: https://pandas.pydata.org/pandas-docs/stable/user_guide/indexing.html#returning-a-view-versus-a-copy\n",
      "  df_min.drop([0, 1, 2, 3, 4, 5, 11, 12], axis=0, inplace=True)\n",
      "C:\\Users\\shash\\AppData\\Local\\Temp\\ipykernel_10472\\3788523461.py:29: FutureWarning: The default value of numeric_only in DataFrame.mean is deprecated. In a future version, it will default to False. In addition, specifying 'numeric_only=None' is deprecated. Select only valid columns or specify the value of numeric_only to silence this warning.\n",
      "  df2_min = pd.DataFrame(df_min.mean(), columns=['Mean'])\n",
      "C:\\Users\\shash\\AppData\\Local\\Temp\\ipykernel_10472\\3788523461.py:30: FutureWarning: The default value of numeric_only in DataFrame.mean is deprecated. In a future version, it will default to False. In addition, specifying 'numeric_only=None' is deprecated. Select only valid columns or specify the value of numeric_only to silence this warning.\n",
      "  df2_max = pd.DataFrame(df_max.mean(), columns=['Mean'])\n",
      "C:\\Users\\shash\\AppData\\Local\\Temp\\ipykernel_10472\\3788523461.py:24: SettingWithCopyWarning: \n",
      "A value is trying to be set on a copy of a slice from a DataFrame\n",
      "\n",
      "See the caveats in the documentation: https://pandas.pydata.org/pandas-docs/stable/user_guide/indexing.html#returning-a-view-versus-a-copy\n",
      "  df_max.drop([0, 1, 2, 3, 4, 5, 11, 12], axis=0, inplace=True)\n",
      "C:\\Users\\shash\\AppData\\Local\\Temp\\ipykernel_10472\\3788523461.py:27: SettingWithCopyWarning: \n",
      "A value is trying to be set on a copy of a slice from a DataFrame\n",
      "\n",
      "See the caveats in the documentation: https://pandas.pydata.org/pandas-docs/stable/user_guide/indexing.html#returning-a-view-versus-a-copy\n",
      "  df_min.drop([0, 1, 2, 3, 4, 5, 11, 12], axis=0, inplace=True)\n",
      "C:\\Users\\shash\\AppData\\Local\\Temp\\ipykernel_10472\\3788523461.py:29: FutureWarning: The default value of numeric_only in DataFrame.mean is deprecated. In a future version, it will default to False. In addition, specifying 'numeric_only=None' is deprecated. Select only valid columns or specify the value of numeric_only to silence this warning.\n",
      "  df2_min = pd.DataFrame(df_min.mean(), columns=['Mean'])\n",
      "C:\\Users\\shash\\AppData\\Local\\Temp\\ipykernel_10472\\3788523461.py:30: FutureWarning: The default value of numeric_only in DataFrame.mean is deprecated. In a future version, it will default to False. In addition, specifying 'numeric_only=None' is deprecated. Select only valid columns or specify the value of numeric_only to silence this warning.\n",
      "  df2_max = pd.DataFrame(df_max.mean(), columns=['Mean'])\n",
      "C:\\Users\\shash\\AppData\\Local\\Temp\\ipykernel_10472\\3788523461.py:24: SettingWithCopyWarning: \n",
      "A value is trying to be set on a copy of a slice from a DataFrame\n",
      "\n",
      "See the caveats in the documentation: https://pandas.pydata.org/pandas-docs/stable/user_guide/indexing.html#returning-a-view-versus-a-copy\n",
      "  df_max.drop([0, 1, 2, 3, 4, 5, 11, 12], axis=0, inplace=True)\n",
      "C:\\Users\\shash\\AppData\\Local\\Temp\\ipykernel_10472\\3788523461.py:27: SettingWithCopyWarning: \n",
      "A value is trying to be set on a copy of a slice from a DataFrame\n",
      "\n",
      "See the caveats in the documentation: https://pandas.pydata.org/pandas-docs/stable/user_guide/indexing.html#returning-a-view-versus-a-copy\n",
      "  df_min.drop([0, 1, 2, 3, 4, 5, 11, 12], axis=0, inplace=True)\n",
      "C:\\Users\\shash\\AppData\\Local\\Temp\\ipykernel_10472\\3788523461.py:29: FutureWarning: The default value of numeric_only in DataFrame.mean is deprecated. In a future version, it will default to False. In addition, specifying 'numeric_only=None' is deprecated. Select only valid columns or specify the value of numeric_only to silence this warning.\n",
      "  df2_min = pd.DataFrame(df_min.mean(), columns=['Mean'])\n",
      "C:\\Users\\shash\\AppData\\Local\\Temp\\ipykernel_10472\\3788523461.py:30: FutureWarning: The default value of numeric_only in DataFrame.mean is deprecated. In a future version, it will default to False. In addition, specifying 'numeric_only=None' is deprecated. Select only valid columns or specify the value of numeric_only to silence this warning.\n",
      "  df2_max = pd.DataFrame(df_max.mean(), columns=['Mean'])\n",
      "C:\\Users\\shash\\AppData\\Local\\Temp\\ipykernel_10472\\3788523461.py:24: SettingWithCopyWarning: \n",
      "A value is trying to be set on a copy of a slice from a DataFrame\n",
      "\n",
      "See the caveats in the documentation: https://pandas.pydata.org/pandas-docs/stable/user_guide/indexing.html#returning-a-view-versus-a-copy\n",
      "  df_max.drop([0, 1, 2, 3, 4, 5, 11, 12], axis=0, inplace=True)\n",
      "C:\\Users\\shash\\AppData\\Local\\Temp\\ipykernel_10472\\3788523461.py:27: SettingWithCopyWarning: \n",
      "A value is trying to be set on a copy of a slice from a DataFrame\n",
      "\n",
      "See the caveats in the documentation: https://pandas.pydata.org/pandas-docs/stable/user_guide/indexing.html#returning-a-view-versus-a-copy\n",
      "  df_min.drop([0, 1, 2, 3, 4, 5, 11, 12], axis=0, inplace=True)\n",
      "C:\\Users\\shash\\AppData\\Local\\Temp\\ipykernel_10472\\3788523461.py:29: FutureWarning: The default value of numeric_only in DataFrame.mean is deprecated. In a future version, it will default to False. In addition, specifying 'numeric_only=None' is deprecated. Select only valid columns or specify the value of numeric_only to silence this warning.\n",
      "  df2_min = pd.DataFrame(df_min.mean(), columns=['Mean'])\n",
      "C:\\Users\\shash\\AppData\\Local\\Temp\\ipykernel_10472\\3788523461.py:30: FutureWarning: The default value of numeric_only in DataFrame.mean is deprecated. In a future version, it will default to False. In addition, specifying 'numeric_only=None' is deprecated. Select only valid columns or specify the value of numeric_only to silence this warning.\n",
      "  df2_max = pd.DataFrame(df_max.mean(), columns=['Mean'])\n",
      "C:\\Users\\shash\\AppData\\Local\\Temp\\ipykernel_10472\\3788523461.py:24: SettingWithCopyWarning: \n",
      "A value is trying to be set on a copy of a slice from a DataFrame\n",
      "\n",
      "See the caveats in the documentation: https://pandas.pydata.org/pandas-docs/stable/user_guide/indexing.html#returning-a-view-versus-a-copy\n",
      "  df_max.drop([0, 1, 2, 3, 4, 5, 11, 12], axis=0, inplace=True)\n",
      "C:\\Users\\shash\\AppData\\Local\\Temp\\ipykernel_10472\\3788523461.py:27: SettingWithCopyWarning: \n",
      "A value is trying to be set on a copy of a slice from a DataFrame\n",
      "\n",
      "See the caveats in the documentation: https://pandas.pydata.org/pandas-docs/stable/user_guide/indexing.html#returning-a-view-versus-a-copy\n",
      "  df_min.drop([0, 1, 2, 3, 4, 5, 11, 12], axis=0, inplace=True)\n",
      "C:\\Users\\shash\\AppData\\Local\\Temp\\ipykernel_10472\\3788523461.py:29: FutureWarning: The default value of numeric_only in DataFrame.mean is deprecated. In a future version, it will default to False. In addition, specifying 'numeric_only=None' is deprecated. Select only valid columns or specify the value of numeric_only to silence this warning.\n",
      "  df2_min = pd.DataFrame(df_min.mean(), columns=['Mean'])\n",
      "C:\\Users\\shash\\AppData\\Local\\Temp\\ipykernel_10472\\3788523461.py:30: FutureWarning: The default value of numeric_only in DataFrame.mean is deprecated. In a future version, it will default to False. In addition, specifying 'numeric_only=None' is deprecated. Select only valid columns or specify the value of numeric_only to silence this warning.\n",
      "  df2_max = pd.DataFrame(df_max.mean(), columns=['Mean'])\n",
      "C:\\Users\\shash\\AppData\\Local\\Temp\\ipykernel_10472\\3788523461.py:24: SettingWithCopyWarning: \n",
      "A value is trying to be set on a copy of a slice from a DataFrame\n",
      "\n",
      "See the caveats in the documentation: https://pandas.pydata.org/pandas-docs/stable/user_guide/indexing.html#returning-a-view-versus-a-copy\n",
      "  df_max.drop([0, 1, 2, 3, 4, 5, 11, 12], axis=0, inplace=True)\n",
      "C:\\Users\\shash\\AppData\\Local\\Temp\\ipykernel_10472\\3788523461.py:27: SettingWithCopyWarning: \n",
      "A value is trying to be set on a copy of a slice from a DataFrame\n",
      "\n",
      "See the caveats in the documentation: https://pandas.pydata.org/pandas-docs/stable/user_guide/indexing.html#returning-a-view-versus-a-copy\n",
      "  df_min.drop([0, 1, 2, 3, 4, 5, 11, 12], axis=0, inplace=True)\n",
      "C:\\Users\\shash\\AppData\\Local\\Temp\\ipykernel_10472\\3788523461.py:29: FutureWarning: The default value of numeric_only in DataFrame.mean is deprecated. In a future version, it will default to False. In addition, specifying 'numeric_only=None' is deprecated. Select only valid columns or specify the value of numeric_only to silence this warning.\n",
      "  df2_min = pd.DataFrame(df_min.mean(), columns=['Mean'])\n",
      "C:\\Users\\shash\\AppData\\Local\\Temp\\ipykernel_10472\\3788523461.py:30: FutureWarning: The default value of numeric_only in DataFrame.mean is deprecated. In a future version, it will default to False. In addition, specifying 'numeric_only=None' is deprecated. Select only valid columns or specify the value of numeric_only to silence this warning.\n",
      "  df2_max = pd.DataFrame(df_max.mean(), columns=['Mean'])\n",
      "C:\\Users\\shash\\AppData\\Local\\Temp\\ipykernel_10472\\3788523461.py:24: SettingWithCopyWarning: \n",
      "A value is trying to be set on a copy of a slice from a DataFrame\n",
      "\n",
      "See the caveats in the documentation: https://pandas.pydata.org/pandas-docs/stable/user_guide/indexing.html#returning-a-view-versus-a-copy\n",
      "  df_max.drop([0, 1, 2, 3, 4, 5, 11, 12], axis=0, inplace=True)\n",
      "C:\\Users\\shash\\AppData\\Local\\Temp\\ipykernel_10472\\3788523461.py:27: SettingWithCopyWarning: \n",
      "A value is trying to be set on a copy of a slice from a DataFrame\n",
      "\n",
      "See the caveats in the documentation: https://pandas.pydata.org/pandas-docs/stable/user_guide/indexing.html#returning-a-view-versus-a-copy\n",
      "  df_min.drop([0, 1, 2, 3, 4, 5, 11, 12], axis=0, inplace=True)\n",
      "C:\\Users\\shash\\AppData\\Local\\Temp\\ipykernel_10472\\3788523461.py:29: FutureWarning: The default value of numeric_only in DataFrame.mean is deprecated. In a future version, it will default to False. In addition, specifying 'numeric_only=None' is deprecated. Select only valid columns or specify the value of numeric_only to silence this warning.\n",
      "  df2_min = pd.DataFrame(df_min.mean(), columns=['Mean'])\n",
      "C:\\Users\\shash\\AppData\\Local\\Temp\\ipykernel_10472\\3788523461.py:30: FutureWarning: The default value of numeric_only in DataFrame.mean is deprecated. In a future version, it will default to False. In addition, specifying 'numeric_only=None' is deprecated. Select only valid columns or specify the value of numeric_only to silence this warning.\n",
      "  df2_max = pd.DataFrame(df_max.mean(), columns=['Mean'])\n",
      "C:\\Users\\shash\\AppData\\Local\\Temp\\ipykernel_10472\\3788523461.py:24: SettingWithCopyWarning: \n",
      "A value is trying to be set on a copy of a slice from a DataFrame\n",
      "\n",
      "See the caveats in the documentation: https://pandas.pydata.org/pandas-docs/stable/user_guide/indexing.html#returning-a-view-versus-a-copy\n",
      "  df_max.drop([0, 1, 2, 3, 4, 5, 11, 12], axis=0, inplace=True)\n",
      "C:\\Users\\shash\\AppData\\Local\\Temp\\ipykernel_10472\\3788523461.py:27: SettingWithCopyWarning: \n",
      "A value is trying to be set on a copy of a slice from a DataFrame\n",
      "\n",
      "See the caveats in the documentation: https://pandas.pydata.org/pandas-docs/stable/user_guide/indexing.html#returning-a-view-versus-a-copy\n",
      "  df_min.drop([0, 1, 2, 3, 4, 5, 11, 12], axis=0, inplace=True)\n",
      "C:\\Users\\shash\\AppData\\Local\\Temp\\ipykernel_10472\\3788523461.py:29: FutureWarning: The default value of numeric_only in DataFrame.mean is deprecated. In a future version, it will default to False. In addition, specifying 'numeric_only=None' is deprecated. Select only valid columns or specify the value of numeric_only to silence this warning.\n",
      "  df2_min = pd.DataFrame(df_min.mean(), columns=['Mean'])\n",
      "C:\\Users\\shash\\AppData\\Local\\Temp\\ipykernel_10472\\3788523461.py:30: FutureWarning: The default value of numeric_only in DataFrame.mean is deprecated. In a future version, it will default to False. In addition, specifying 'numeric_only=None' is deprecated. Select only valid columns or specify the value of numeric_only to silence this warning.\n",
      "  df2_max = pd.DataFrame(df_max.mean(), columns=['Mean'])\n",
      "C:\\Users\\shash\\AppData\\Local\\Temp\\ipykernel_10472\\3788523461.py:24: SettingWithCopyWarning: \n",
      "A value is trying to be set on a copy of a slice from a DataFrame\n",
      "\n",
      "See the caveats in the documentation: https://pandas.pydata.org/pandas-docs/stable/user_guide/indexing.html#returning-a-view-versus-a-copy\n",
      "  df_max.drop([0, 1, 2, 3, 4, 5, 11, 12], axis=0, inplace=True)\n",
      "C:\\Users\\shash\\AppData\\Local\\Temp\\ipykernel_10472\\3788523461.py:27: SettingWithCopyWarning: \n",
      "A value is trying to be set on a copy of a slice from a DataFrame\n",
      "\n",
      "See the caveats in the documentation: https://pandas.pydata.org/pandas-docs/stable/user_guide/indexing.html#returning-a-view-versus-a-copy\n",
      "  df_min.drop([0, 1, 2, 3, 4, 5, 11, 12], axis=0, inplace=True)\n",
      "C:\\Users\\shash\\AppData\\Local\\Temp\\ipykernel_10472\\3788523461.py:29: FutureWarning: The default value of numeric_only in DataFrame.mean is deprecated. In a future version, it will default to False. In addition, specifying 'numeric_only=None' is deprecated. Select only valid columns or specify the value of numeric_only to silence this warning.\n",
      "  df2_min = pd.DataFrame(df_min.mean(), columns=['Mean'])\n",
      "C:\\Users\\shash\\AppData\\Local\\Temp\\ipykernel_10472\\3788523461.py:30: FutureWarning: The default value of numeric_only in DataFrame.mean is deprecated. In a future version, it will default to False. In addition, specifying 'numeric_only=None' is deprecated. Select only valid columns or specify the value of numeric_only to silence this warning.\n",
      "  df2_max = pd.DataFrame(df_max.mean(), columns=['Mean'])\n"
     ]
    }
   ],
   "source": [
    "dfmax = pd.DataFrame(columns=[i for i in range(1986, 2020)])\n",
    "dfmin = pd.DataFrame(columns=[i for i in range(1986, 2020)])\n",
    "for i in l:\n",
    "    df = pd.read_excel(\"C:\\\\Users\\shash\\Downloads\\DISTRICTWISE TEMP(1).xlsx\", sheet_name=i)\n",
    "    df_max = df[['Unnamed: 0', 'TEMP_MAX', 'Unnamed: 2', 'Unnamed: 3', 'Unnamed: 4',\n",
    "                 'Unnamed: 5', 'Unnamed: 6', 'Unnamed: 7', 'Unnamed: 8', 'Unnamed: 9',\n",
    "                 'Unnamed: 10', 'Unnamed: 11', 'Unnamed: 12', 'Unnamed: 13',\n",
    "                 'Unnamed: 14', 'Unnamed: 15', 'Unnamed: 16', 'Unnamed: 17',\n",
    "                 'Unnamed: 18', 'Unnamed: 19', 'Unnamed: 20', 'Unnamed: 21',\n",
    "                 'Unnamed: 22', 'Unnamed: 23', 'Unnamed: 24', 'Unnamed: 25',\n",
    "                 'Unnamed: 26', 'Unnamed: 27', 'Unnamed: 28', 'Unnamed: 29',\n",
    "                 'Unnamed: 30', 'Unnamed: 31', 'Unnamed: 32', 'Unnamed: 33',\n",
    "                 'Unnamed: 34']]\n",
    "    df_min = df[['Unnamed: 0', 'TEMP_MIN', 'Unnamed: 36', 'Unnamed: 37', 'Unnamed: 38',\n",
    "                 'Unnamed: 39', 'Unnamed: 40', 'Unnamed: 41', 'Unnamed: 42',\n",
    "                 'Unnamed: 43', 'Unnamed: 44', 'Unnamed: 45', 'Unnamed: 46',\n",
    "                 'Unnamed: 47', 'Unnamed: 48', 'Unnamed: 49', 'Unnamed: 50',\n",
    "                 'Unnamed: 51', 'Unnamed: 52', 'Unnamed: 53', 'Unnamed: 54',\n",
    "                 'Unnamed: 55', 'Unnamed: 56', 'Unnamed: 57', 'Unnamed: 58',\n",
    "                 'Unnamed: 59', 'Unnamed: 60', 'Unnamed: 61', 'Unnamed: 62',\n",
    "                 'Unnamed: 63', 'Unnamed: 64', 'Unnamed: 65', 'Unnamed: 66',\n",
    "                 'Unnamed: 67', 'Unnamed: 68']]\n",
    "    df_max.columns = df_max.iloc[0]\n",
    "    df_max.drop([0, 1, 2, 3, 4, 5, 11, 12], axis=0, inplace=True)\n",
    "\n",
    "    df_min.columns = df_min.iloc[0]\n",
    "    df_min.drop([0, 1, 2, 3, 4, 5, 11, 12], axis=0, inplace=True)\n",
    "\n",
    "    df2_min = pd.DataFrame(df_min.mean(), columns=['Mean'])\n",
    "    df2_max = pd.DataFrame(df_max.mean(), columns=['Mean'])\n",
    "    dfmax.loc[len(dfmax)] = list(df2_max['Mean'].values)\n",
    "    dfmin.loc[len(dfmax)] = list(df2_min['Mean'].values)\n"
   ],
   "metadata": {
    "collapsed": false
   }
  },
  {
   "cell_type": "code",
   "execution_count": 140,
   "outputs": [],
   "source": [
    "dfmax['District'] = l\n",
    "dfmin['District'] = l"
   ],
   "metadata": {
    "collapsed": false
   }
  },
  {
   "cell_type": "code",
   "execution_count": 141,
   "outputs": [],
   "source": [
    "dfmax.to_excel('Max_temp.xlsx', index=False)\n",
    "dfmin.to_excel('Min_temp.xlsx', index=False)\n"
   ],
   "metadata": {
    "collapsed": false
   }
  },
  {
   "cell_type": "code",
   "execution_count": 51,
   "outputs": [],
   "source": [
    "df = pd.read_excel(\"C:\\\\Users\\shash\\Downloads\\DISTRICTWISE TEMP(1).xlsx\", sheet_name='AMRITSAR')"
   ],
   "metadata": {
    "collapsed": false
   }
  },
  {
   "cell_type": "code",
   "execution_count": 52,
   "outputs": [
    {
     "data": {
      "text/plain": "   Unnamed: 0  TEMP_MAX  Unnamed: 2  Unnamed: 3  Unnamed: 4  Unnamed: 5  \\\n0        YEAR   1986.00     1987.00     1988.00     1989.00     1990.00   \n1         JAN     22.55       25.63       26.16       22.70       27.34   \n2         FEB     26.59       26.98       29.26       29.60       27.49   \n3         MAR     33.69       34.94       35.21       32.09       34.22   \n4         APR     43.23       43.76       44.19       39.65       40.78   \n5         MAY     45.84       43.98       50.14       47.20       47.94   \n6         JUN     50.71       48.46       47.98       46.57       48.36   \n7         JUL     43.01       47.83       45.73       47.01       44.28   \n8         AUG     38.23       46.06       39.54       40.51       42.67   \n9         SEP     39.72       42.65       41.57       41.07       37.91   \n10        OCT     36.58       39.65       32.61       39.69       34.61   \n11        NOV     32.54       33.02       30.34       32.49       31.40   \n12        DEC     26.14       26.87       26.32       26.52       26.20   \n\n    Unnamed: 6  Unnamed: 7  Unnamed: 8  Unnamed: 9  ...  Unnamed: 59  \\\n0      1991.00     1992.00     1993.00     1994.00  ...      2010.00   \n1        29.18       24.37       25.53       26.54  ...         3.24   \n2        28.69       28.17       34.87       28.13  ...         5.37   \n3        40.20       31.19       32.01       38.19  ...        12.73   \n4        41.87       41.14       45.31       42.23  ...        18.83   \n5        45.21       46.07       48.86       46.94  ...        23.44   \n6        47.71       47.60       48.80       49.37  ...        24.59   \n7        47.38       45.77       46.26       43.05  ...        25.26   \n8        43.40       40.87       41.55       41.16  ...        23.77   \n9        40.96       38.44       39.30       37.73  ...        19.32   \n10       35.41       35.83       38.20       35.63  ...        13.60   \n11       32.33       31.08       34.08       30.84  ...         8.87   \n12       27.87       26.26       29.77       27.15  ...         3.30   \n\n    Unnamed: 60  Unnamed: 61  Unnamed: 62  Unnamed: 63  Unnamed: 64  \\\n0       2011.00      2012.00      2013.00      2014.00      2015.00   \n1          0.65         2.05        -0.22         1.55         3.14   \n2          5.84         0.36         3.82         3.89         4.83   \n3          9.58         8.26         5.48         9.30         6.41   \n4         15.32        18.11        14.97        14.31        15.35   \n5         23.55        19.46        20.31        20.89        20.10   \n6         24.30        28.34        24.69        27.56        26.36   \n7         26.66        28.19        26.80        27.97        25.71   \n8         23.98        26.22        23.71        25.27        25.28   \n9         20.96        18.88        21.04        19.73        19.07   \n10        14.26        13.14        15.52        13.77        14.48   \n11         9.13         6.76         8.75         8.09        10.03   \n12         5.35         4.58         3.02         3.13         3.87   \n\n    Unnamed: 65  Unnamed: 66  Unnamed: 67  Unnamed: 68  \n0       2016.00      2017.00      2018.00      2019.00  \n1          3.43         1.49         3.84         0.67  \n2          4.89         5.89         5.12         2.68  \n3         10.74         8.76        11.85         8.90  \n4         17.72        13.34        14.98        14.26  \n5         23.43        22.01        23.46        21.72  \n6         27.97        25.78        25.78        27.15  \n7         25.63        26.26        25.40        25.48  \n8         24.00        24.53        25.10        23.19  \n9         22.95        19.18        19.68        21.25  \n10        14.41        15.11        14.58        15.53  \n11        10.34         8.83         9.45         9.99  \n12         6.52         3.70         1.13         1.29  \n\n[13 rows x 69 columns]",
      "text/html": "<div>\n<style scoped>\n    .dataframe tbody tr th:only-of-type {\n        vertical-align: middle;\n    }\n\n    .dataframe tbody tr th {\n        vertical-align: top;\n    }\n\n    .dataframe thead th {\n        text-align: right;\n    }\n</style>\n<table border=\"1\" class=\"dataframe\">\n  <thead>\n    <tr style=\"text-align: right;\">\n      <th></th>\n      <th>Unnamed: 0</th>\n      <th>TEMP_MAX</th>\n      <th>Unnamed: 2</th>\n      <th>Unnamed: 3</th>\n      <th>Unnamed: 4</th>\n      <th>Unnamed: 5</th>\n      <th>Unnamed: 6</th>\n      <th>Unnamed: 7</th>\n      <th>Unnamed: 8</th>\n      <th>Unnamed: 9</th>\n      <th>...</th>\n      <th>Unnamed: 59</th>\n      <th>Unnamed: 60</th>\n      <th>Unnamed: 61</th>\n      <th>Unnamed: 62</th>\n      <th>Unnamed: 63</th>\n      <th>Unnamed: 64</th>\n      <th>Unnamed: 65</th>\n      <th>Unnamed: 66</th>\n      <th>Unnamed: 67</th>\n      <th>Unnamed: 68</th>\n    </tr>\n  </thead>\n  <tbody>\n    <tr>\n      <th>0</th>\n      <td>YEAR</td>\n      <td>1986.00</td>\n      <td>1987.00</td>\n      <td>1988.00</td>\n      <td>1989.00</td>\n      <td>1990.00</td>\n      <td>1991.00</td>\n      <td>1992.00</td>\n      <td>1993.00</td>\n      <td>1994.00</td>\n      <td>...</td>\n      <td>2010.00</td>\n      <td>2011.00</td>\n      <td>2012.00</td>\n      <td>2013.00</td>\n      <td>2014.00</td>\n      <td>2015.00</td>\n      <td>2016.00</td>\n      <td>2017.00</td>\n      <td>2018.00</td>\n      <td>2019.00</td>\n    </tr>\n    <tr>\n      <th>1</th>\n      <td>JAN</td>\n      <td>22.55</td>\n      <td>25.63</td>\n      <td>26.16</td>\n      <td>22.70</td>\n      <td>27.34</td>\n      <td>29.18</td>\n      <td>24.37</td>\n      <td>25.53</td>\n      <td>26.54</td>\n      <td>...</td>\n      <td>3.24</td>\n      <td>0.65</td>\n      <td>2.05</td>\n      <td>-0.22</td>\n      <td>1.55</td>\n      <td>3.14</td>\n      <td>3.43</td>\n      <td>1.49</td>\n      <td>3.84</td>\n      <td>0.67</td>\n    </tr>\n    <tr>\n      <th>2</th>\n      <td>FEB</td>\n      <td>26.59</td>\n      <td>26.98</td>\n      <td>29.26</td>\n      <td>29.60</td>\n      <td>27.49</td>\n      <td>28.69</td>\n      <td>28.17</td>\n      <td>34.87</td>\n      <td>28.13</td>\n      <td>...</td>\n      <td>5.37</td>\n      <td>5.84</td>\n      <td>0.36</td>\n      <td>3.82</td>\n      <td>3.89</td>\n      <td>4.83</td>\n      <td>4.89</td>\n      <td>5.89</td>\n      <td>5.12</td>\n      <td>2.68</td>\n    </tr>\n    <tr>\n      <th>3</th>\n      <td>MAR</td>\n      <td>33.69</td>\n      <td>34.94</td>\n      <td>35.21</td>\n      <td>32.09</td>\n      <td>34.22</td>\n      <td>40.20</td>\n      <td>31.19</td>\n      <td>32.01</td>\n      <td>38.19</td>\n      <td>...</td>\n      <td>12.73</td>\n      <td>9.58</td>\n      <td>8.26</td>\n      <td>5.48</td>\n      <td>9.30</td>\n      <td>6.41</td>\n      <td>10.74</td>\n      <td>8.76</td>\n      <td>11.85</td>\n      <td>8.90</td>\n    </tr>\n    <tr>\n      <th>4</th>\n      <td>APR</td>\n      <td>43.23</td>\n      <td>43.76</td>\n      <td>44.19</td>\n      <td>39.65</td>\n      <td>40.78</td>\n      <td>41.87</td>\n      <td>41.14</td>\n      <td>45.31</td>\n      <td>42.23</td>\n      <td>...</td>\n      <td>18.83</td>\n      <td>15.32</td>\n      <td>18.11</td>\n      <td>14.97</td>\n      <td>14.31</td>\n      <td>15.35</td>\n      <td>17.72</td>\n      <td>13.34</td>\n      <td>14.98</td>\n      <td>14.26</td>\n    </tr>\n    <tr>\n      <th>5</th>\n      <td>MAY</td>\n      <td>45.84</td>\n      <td>43.98</td>\n      <td>50.14</td>\n      <td>47.20</td>\n      <td>47.94</td>\n      <td>45.21</td>\n      <td>46.07</td>\n      <td>48.86</td>\n      <td>46.94</td>\n      <td>...</td>\n      <td>23.44</td>\n      <td>23.55</td>\n      <td>19.46</td>\n      <td>20.31</td>\n      <td>20.89</td>\n      <td>20.10</td>\n      <td>23.43</td>\n      <td>22.01</td>\n      <td>23.46</td>\n      <td>21.72</td>\n    </tr>\n    <tr>\n      <th>6</th>\n      <td>JUN</td>\n      <td>50.71</td>\n      <td>48.46</td>\n      <td>47.98</td>\n      <td>46.57</td>\n      <td>48.36</td>\n      <td>47.71</td>\n      <td>47.60</td>\n      <td>48.80</td>\n      <td>49.37</td>\n      <td>...</td>\n      <td>24.59</td>\n      <td>24.30</td>\n      <td>28.34</td>\n      <td>24.69</td>\n      <td>27.56</td>\n      <td>26.36</td>\n      <td>27.97</td>\n      <td>25.78</td>\n      <td>25.78</td>\n      <td>27.15</td>\n    </tr>\n    <tr>\n      <th>7</th>\n      <td>JUL</td>\n      <td>43.01</td>\n      <td>47.83</td>\n      <td>45.73</td>\n      <td>47.01</td>\n      <td>44.28</td>\n      <td>47.38</td>\n      <td>45.77</td>\n      <td>46.26</td>\n      <td>43.05</td>\n      <td>...</td>\n      <td>25.26</td>\n      <td>26.66</td>\n      <td>28.19</td>\n      <td>26.80</td>\n      <td>27.97</td>\n      <td>25.71</td>\n      <td>25.63</td>\n      <td>26.26</td>\n      <td>25.40</td>\n      <td>25.48</td>\n    </tr>\n    <tr>\n      <th>8</th>\n      <td>AUG</td>\n      <td>38.23</td>\n      <td>46.06</td>\n      <td>39.54</td>\n      <td>40.51</td>\n      <td>42.67</td>\n      <td>43.40</td>\n      <td>40.87</td>\n      <td>41.55</td>\n      <td>41.16</td>\n      <td>...</td>\n      <td>23.77</td>\n      <td>23.98</td>\n      <td>26.22</td>\n      <td>23.71</td>\n      <td>25.27</td>\n      <td>25.28</td>\n      <td>24.00</td>\n      <td>24.53</td>\n      <td>25.10</td>\n      <td>23.19</td>\n    </tr>\n    <tr>\n      <th>9</th>\n      <td>SEP</td>\n      <td>39.72</td>\n      <td>42.65</td>\n      <td>41.57</td>\n      <td>41.07</td>\n      <td>37.91</td>\n      <td>40.96</td>\n      <td>38.44</td>\n      <td>39.30</td>\n      <td>37.73</td>\n      <td>...</td>\n      <td>19.32</td>\n      <td>20.96</td>\n      <td>18.88</td>\n      <td>21.04</td>\n      <td>19.73</td>\n      <td>19.07</td>\n      <td>22.95</td>\n      <td>19.18</td>\n      <td>19.68</td>\n      <td>21.25</td>\n    </tr>\n    <tr>\n      <th>10</th>\n      <td>OCT</td>\n      <td>36.58</td>\n      <td>39.65</td>\n      <td>32.61</td>\n      <td>39.69</td>\n      <td>34.61</td>\n      <td>35.41</td>\n      <td>35.83</td>\n      <td>38.20</td>\n      <td>35.63</td>\n      <td>...</td>\n      <td>13.60</td>\n      <td>14.26</td>\n      <td>13.14</td>\n      <td>15.52</td>\n      <td>13.77</td>\n      <td>14.48</td>\n      <td>14.41</td>\n      <td>15.11</td>\n      <td>14.58</td>\n      <td>15.53</td>\n    </tr>\n    <tr>\n      <th>11</th>\n      <td>NOV</td>\n      <td>32.54</td>\n      <td>33.02</td>\n      <td>30.34</td>\n      <td>32.49</td>\n      <td>31.40</td>\n      <td>32.33</td>\n      <td>31.08</td>\n      <td>34.08</td>\n      <td>30.84</td>\n      <td>...</td>\n      <td>8.87</td>\n      <td>9.13</td>\n      <td>6.76</td>\n      <td>8.75</td>\n      <td>8.09</td>\n      <td>10.03</td>\n      <td>10.34</td>\n      <td>8.83</td>\n      <td>9.45</td>\n      <td>9.99</td>\n    </tr>\n    <tr>\n      <th>12</th>\n      <td>DEC</td>\n      <td>26.14</td>\n      <td>26.87</td>\n      <td>26.32</td>\n      <td>26.52</td>\n      <td>26.20</td>\n      <td>27.87</td>\n      <td>26.26</td>\n      <td>29.77</td>\n      <td>27.15</td>\n      <td>...</td>\n      <td>3.30</td>\n      <td>5.35</td>\n      <td>4.58</td>\n      <td>3.02</td>\n      <td>3.13</td>\n      <td>3.87</td>\n      <td>6.52</td>\n      <td>3.70</td>\n      <td>1.13</td>\n      <td>1.29</td>\n    </tr>\n  </tbody>\n</table>\n<p>13 rows × 69 columns</p>\n</div>"
     },
     "execution_count": 52,
     "metadata": {},
     "output_type": "execute_result"
    }
   ],
   "source": [
    "df"
   ],
   "metadata": {
    "collapsed": false
   }
  },
  {
   "cell_type": "code",
   "execution_count": 57,
   "outputs": [],
   "source": [
    "df_max = df[['Unnamed: 0', 'TEMP_MAX', 'Unnamed: 2', 'Unnamed: 3', 'Unnamed: 4',\n",
    "             'Unnamed: 5', 'Unnamed: 6', 'Unnamed: 7', 'Unnamed: 8', 'Unnamed: 9',\n",
    "             'Unnamed: 10', 'Unnamed: 11', 'Unnamed: 12', 'Unnamed: 13',\n",
    "             'Unnamed: 14', 'Unnamed: 15', 'Unnamed: 16', 'Unnamed: 17',\n",
    "             'Unnamed: 18', 'Unnamed: 19', 'Unnamed: 20', 'Unnamed: 21',\n",
    "             'Unnamed: 22', 'Unnamed: 23', 'Unnamed: 24', 'Unnamed: 25',\n",
    "             'Unnamed: 26', 'Unnamed: 27', 'Unnamed: 28', 'Unnamed: 29',\n",
    "             'Unnamed: 30', 'Unnamed: 31', 'Unnamed: 32', 'Unnamed: 33',\n",
    "             'Unnamed: 34']]\n",
    "df_min = df[['Unnamed: 0', 'TEMP_MIN', 'Unnamed: 36', 'Unnamed: 37', 'Unnamed: 38',\n",
    "             'Unnamed: 39', 'Unnamed: 40', 'Unnamed: 41', 'Unnamed: 42',\n",
    "             'Unnamed: 43', 'Unnamed: 44', 'Unnamed: 45', 'Unnamed: 46',\n",
    "             'Unnamed: 47', 'Unnamed: 48', 'Unnamed: 49', 'Unnamed: 50',\n",
    "             'Unnamed: 51', 'Unnamed: 52', 'Unnamed: 53', 'Unnamed: 54',\n",
    "             'Unnamed: 55', 'Unnamed: 56', 'Unnamed: 57', 'Unnamed: 58',\n",
    "             'Unnamed: 59', 'Unnamed: 60', 'Unnamed: 61', 'Unnamed: 62',\n",
    "             'Unnamed: 63', 'Unnamed: 64', 'Unnamed: 65', 'Unnamed: 66',\n",
    "             'Unnamed: 67', 'Unnamed: 68']]"
   ],
   "metadata": {
    "collapsed": false
   }
  },
  {
   "cell_type": "code",
   "execution_count": 58,
   "outputs": [
    {
     "name": "stderr",
     "output_type": "stream",
     "text": [
      "C:\\Users\\shash\\AppData\\Local\\Temp\\ipykernel_10472\\1371601816.py:2: SettingWithCopyWarning: \n",
      "A value is trying to be set on a copy of a slice from a DataFrame\n",
      "\n",
      "See the caveats in the documentation: https://pandas.pydata.org/pandas-docs/stable/user_guide/indexing.html#returning-a-view-versus-a-copy\n",
      "  df_max.drop(0, axis=0, inplace=True)\n",
      "C:\\Users\\shash\\AppData\\Local\\Temp\\ipykernel_10472\\1371601816.py:5: SettingWithCopyWarning: \n",
      "A value is trying to be set on a copy of a slice from a DataFrame\n",
      "\n",
      "See the caveats in the documentation: https://pandas.pydata.org/pandas-docs/stable/user_guide/indexing.html#returning-a-view-versus-a-copy\n",
      "  df_min.drop(0, axis=0, inplace=True)\n"
     ]
    }
   ],
   "source": [
    "df_max.columns = df_max.iloc[0]\n",
    "df_max.drop(0, axis=0, inplace=True)\n",
    "\n",
    "df_min.columns = df_min.iloc[0]\n",
    "df_min.drop(0, axis=0, inplace=True)"
   ],
   "metadata": {
    "collapsed": false
   }
  },
  {
   "cell_type": "code",
   "execution_count": 122,
   "outputs": [],
   "source": [
    "df1 = pd.DataFrame(columns=[i for i in range(1986, 2020)])"
   ],
   "metadata": {
    "collapsed": false
   }
  },
  {
   "cell_type": "code",
   "execution_count": 117,
   "outputs": [],
   "source": [
    "df1['District'] = l"
   ],
   "metadata": {
    "collapsed": false
   }
  },
  {
   "cell_type": "code",
   "execution_count": 118,
   "outputs": [
    {
     "data": {
      "text/plain": "   1986 1987 1988 1989 1990 1991 1992 1993 1994 1995  ... 2011 2012 2013 2014  \\\n0   NaN  NaN  NaN  NaN  NaN  NaN  NaN  NaN  NaN  NaN  ...  NaN  NaN  NaN  NaN   \n1   NaN  NaN  NaN  NaN  NaN  NaN  NaN  NaN  NaN  NaN  ...  NaN  NaN  NaN  NaN   \n2   NaN  NaN  NaN  NaN  NaN  NaN  NaN  NaN  NaN  NaN  ...  NaN  NaN  NaN  NaN   \n3   NaN  NaN  NaN  NaN  NaN  NaN  NaN  NaN  NaN  NaN  ...  NaN  NaN  NaN  NaN   \n4   NaN  NaN  NaN  NaN  NaN  NaN  NaN  NaN  NaN  NaN  ...  NaN  NaN  NaN  NaN   \n5   NaN  NaN  NaN  NaN  NaN  NaN  NaN  NaN  NaN  NaN  ...  NaN  NaN  NaN  NaN   \n6   NaN  NaN  NaN  NaN  NaN  NaN  NaN  NaN  NaN  NaN  ...  NaN  NaN  NaN  NaN   \n7   NaN  NaN  NaN  NaN  NaN  NaN  NaN  NaN  NaN  NaN  ...  NaN  NaN  NaN  NaN   \n8   NaN  NaN  NaN  NaN  NaN  NaN  NaN  NaN  NaN  NaN  ...  NaN  NaN  NaN  NaN   \n9   NaN  NaN  NaN  NaN  NaN  NaN  NaN  NaN  NaN  NaN  ...  NaN  NaN  NaN  NaN   \n10  NaN  NaN  NaN  NaN  NaN  NaN  NaN  NaN  NaN  NaN  ...  NaN  NaN  NaN  NaN   \n11  NaN  NaN  NaN  NaN  NaN  NaN  NaN  NaN  NaN  NaN  ...  NaN  NaN  NaN  NaN   \n12  NaN  NaN  NaN  NaN  NaN  NaN  NaN  NaN  NaN  NaN  ...  NaN  NaN  NaN  NaN   \n13  NaN  NaN  NaN  NaN  NaN  NaN  NaN  NaN  NaN  NaN  ...  NaN  NaN  NaN  NaN   \n14  NaN  NaN  NaN  NaN  NaN  NaN  NaN  NaN  NaN  NaN  ...  NaN  NaN  NaN  NaN   \n15  NaN  NaN  NaN  NaN  NaN  NaN  NaN  NaN  NaN  NaN  ...  NaN  NaN  NaN  NaN   \n16  NaN  NaN  NaN  NaN  NaN  NaN  NaN  NaN  NaN  NaN  ...  NaN  NaN  NaN  NaN   \n\n   2015 2016 2017 2018 2019          District  \n0   NaN  NaN  NaN  NaN  NaN          AMRITSAR  \n1   NaN  NaN  NaN  NaN  NaN        HOSHIARPUR  \n2   NaN  NaN  NaN  NaN  NaN         JALANDHAR  \n3   NaN  NaN  NaN  NaN  NaN        TRAN TARAN  \n4   NaN  NaN  NaN  NaN  NaN          RUPNAGAR  \n5   NaN  NaN  NaN  NaN  NaN         SBS NAGAR  \n6   NaN  NaN  NaN  NaN  NaN           FAZILKA  \n7   NaN  NaN  NaN  NaN  NaN              MOGA  \n8   NaN  NaN  NaN  NaN  NaN          LUDHIANA  \n9   NaN  NaN  NaN  NaN  NaN         SBS_NAGAR  \n10  NaN  NaN  NaN  NaN  NaN          FARIDKOT  \n11  NaN  NaN  NaN  NaN  NaN   FATEHGARH SAHIB  \n12  NaN  NaN  NaN  NaN  NaN  SH MUKTSAR SAHIB  \n13  NaN  NaN  NaN  NaN  NaN           SANGRUR  \n14  NaN  NaN  NaN  NaN  NaN           BARNALA  \n15  NaN  NaN  NaN  NaN  NaN          BATHINDA  \n16  NaN  NaN  NaN  NaN  NaN           PATIALA  \n\n[17 rows x 35 columns]",
      "text/html": "<div>\n<style scoped>\n    .dataframe tbody tr th:only-of-type {\n        vertical-align: middle;\n    }\n\n    .dataframe tbody tr th {\n        vertical-align: top;\n    }\n\n    .dataframe thead th {\n        text-align: right;\n    }\n</style>\n<table border=\"1\" class=\"dataframe\">\n  <thead>\n    <tr style=\"text-align: right;\">\n      <th></th>\n      <th>1986</th>\n      <th>1987</th>\n      <th>1988</th>\n      <th>1989</th>\n      <th>1990</th>\n      <th>1991</th>\n      <th>1992</th>\n      <th>1993</th>\n      <th>1994</th>\n      <th>1995</th>\n      <th>...</th>\n      <th>2011</th>\n      <th>2012</th>\n      <th>2013</th>\n      <th>2014</th>\n      <th>2015</th>\n      <th>2016</th>\n      <th>2017</th>\n      <th>2018</th>\n      <th>2019</th>\n      <th>District</th>\n    </tr>\n  </thead>\n  <tbody>\n    <tr>\n      <th>0</th>\n      <td>NaN</td>\n      <td>NaN</td>\n      <td>NaN</td>\n      <td>NaN</td>\n      <td>NaN</td>\n      <td>NaN</td>\n      <td>NaN</td>\n      <td>NaN</td>\n      <td>NaN</td>\n      <td>NaN</td>\n      <td>...</td>\n      <td>NaN</td>\n      <td>NaN</td>\n      <td>NaN</td>\n      <td>NaN</td>\n      <td>NaN</td>\n      <td>NaN</td>\n      <td>NaN</td>\n      <td>NaN</td>\n      <td>NaN</td>\n      <td>AMRITSAR</td>\n    </tr>\n    <tr>\n      <th>1</th>\n      <td>NaN</td>\n      <td>NaN</td>\n      <td>NaN</td>\n      <td>NaN</td>\n      <td>NaN</td>\n      <td>NaN</td>\n      <td>NaN</td>\n      <td>NaN</td>\n      <td>NaN</td>\n      <td>NaN</td>\n      <td>...</td>\n      <td>NaN</td>\n      <td>NaN</td>\n      <td>NaN</td>\n      <td>NaN</td>\n      <td>NaN</td>\n      <td>NaN</td>\n      <td>NaN</td>\n      <td>NaN</td>\n      <td>NaN</td>\n      <td>HOSHIARPUR</td>\n    </tr>\n    <tr>\n      <th>2</th>\n      <td>NaN</td>\n      <td>NaN</td>\n      <td>NaN</td>\n      <td>NaN</td>\n      <td>NaN</td>\n      <td>NaN</td>\n      <td>NaN</td>\n      <td>NaN</td>\n      <td>NaN</td>\n      <td>NaN</td>\n      <td>...</td>\n      <td>NaN</td>\n      <td>NaN</td>\n      <td>NaN</td>\n      <td>NaN</td>\n      <td>NaN</td>\n      <td>NaN</td>\n      <td>NaN</td>\n      <td>NaN</td>\n      <td>NaN</td>\n      <td>JALANDHAR</td>\n    </tr>\n    <tr>\n      <th>3</th>\n      <td>NaN</td>\n      <td>NaN</td>\n      <td>NaN</td>\n      <td>NaN</td>\n      <td>NaN</td>\n      <td>NaN</td>\n      <td>NaN</td>\n      <td>NaN</td>\n      <td>NaN</td>\n      <td>NaN</td>\n      <td>...</td>\n      <td>NaN</td>\n      <td>NaN</td>\n      <td>NaN</td>\n      <td>NaN</td>\n      <td>NaN</td>\n      <td>NaN</td>\n      <td>NaN</td>\n      <td>NaN</td>\n      <td>NaN</td>\n      <td>TRAN TARAN</td>\n    </tr>\n    <tr>\n      <th>4</th>\n      <td>NaN</td>\n      <td>NaN</td>\n      <td>NaN</td>\n      <td>NaN</td>\n      <td>NaN</td>\n      <td>NaN</td>\n      <td>NaN</td>\n      <td>NaN</td>\n      <td>NaN</td>\n      <td>NaN</td>\n      <td>...</td>\n      <td>NaN</td>\n      <td>NaN</td>\n      <td>NaN</td>\n      <td>NaN</td>\n      <td>NaN</td>\n      <td>NaN</td>\n      <td>NaN</td>\n      <td>NaN</td>\n      <td>NaN</td>\n      <td>RUPNAGAR</td>\n    </tr>\n    <tr>\n      <th>5</th>\n      <td>NaN</td>\n      <td>NaN</td>\n      <td>NaN</td>\n      <td>NaN</td>\n      <td>NaN</td>\n      <td>NaN</td>\n      <td>NaN</td>\n      <td>NaN</td>\n      <td>NaN</td>\n      <td>NaN</td>\n      <td>...</td>\n      <td>NaN</td>\n      <td>NaN</td>\n      <td>NaN</td>\n      <td>NaN</td>\n      <td>NaN</td>\n      <td>NaN</td>\n      <td>NaN</td>\n      <td>NaN</td>\n      <td>NaN</td>\n      <td>SBS NAGAR</td>\n    </tr>\n    <tr>\n      <th>6</th>\n      <td>NaN</td>\n      <td>NaN</td>\n      <td>NaN</td>\n      <td>NaN</td>\n      <td>NaN</td>\n      <td>NaN</td>\n      <td>NaN</td>\n      <td>NaN</td>\n      <td>NaN</td>\n      <td>NaN</td>\n      <td>...</td>\n      <td>NaN</td>\n      <td>NaN</td>\n      <td>NaN</td>\n      <td>NaN</td>\n      <td>NaN</td>\n      <td>NaN</td>\n      <td>NaN</td>\n      <td>NaN</td>\n      <td>NaN</td>\n      <td>FAZILKA</td>\n    </tr>\n    <tr>\n      <th>7</th>\n      <td>NaN</td>\n      <td>NaN</td>\n      <td>NaN</td>\n      <td>NaN</td>\n      <td>NaN</td>\n      <td>NaN</td>\n      <td>NaN</td>\n      <td>NaN</td>\n      <td>NaN</td>\n      <td>NaN</td>\n      <td>...</td>\n      <td>NaN</td>\n      <td>NaN</td>\n      <td>NaN</td>\n      <td>NaN</td>\n      <td>NaN</td>\n      <td>NaN</td>\n      <td>NaN</td>\n      <td>NaN</td>\n      <td>NaN</td>\n      <td>MOGA</td>\n    </tr>\n    <tr>\n      <th>8</th>\n      <td>NaN</td>\n      <td>NaN</td>\n      <td>NaN</td>\n      <td>NaN</td>\n      <td>NaN</td>\n      <td>NaN</td>\n      <td>NaN</td>\n      <td>NaN</td>\n      <td>NaN</td>\n      <td>NaN</td>\n      <td>...</td>\n      <td>NaN</td>\n      <td>NaN</td>\n      <td>NaN</td>\n      <td>NaN</td>\n      <td>NaN</td>\n      <td>NaN</td>\n      <td>NaN</td>\n      <td>NaN</td>\n      <td>NaN</td>\n      <td>LUDHIANA</td>\n    </tr>\n    <tr>\n      <th>9</th>\n      <td>NaN</td>\n      <td>NaN</td>\n      <td>NaN</td>\n      <td>NaN</td>\n      <td>NaN</td>\n      <td>NaN</td>\n      <td>NaN</td>\n      <td>NaN</td>\n      <td>NaN</td>\n      <td>NaN</td>\n      <td>...</td>\n      <td>NaN</td>\n      <td>NaN</td>\n      <td>NaN</td>\n      <td>NaN</td>\n      <td>NaN</td>\n      <td>NaN</td>\n      <td>NaN</td>\n      <td>NaN</td>\n      <td>NaN</td>\n      <td>SBS_NAGAR</td>\n    </tr>\n    <tr>\n      <th>10</th>\n      <td>NaN</td>\n      <td>NaN</td>\n      <td>NaN</td>\n      <td>NaN</td>\n      <td>NaN</td>\n      <td>NaN</td>\n      <td>NaN</td>\n      <td>NaN</td>\n      <td>NaN</td>\n      <td>NaN</td>\n      <td>...</td>\n      <td>NaN</td>\n      <td>NaN</td>\n      <td>NaN</td>\n      <td>NaN</td>\n      <td>NaN</td>\n      <td>NaN</td>\n      <td>NaN</td>\n      <td>NaN</td>\n      <td>NaN</td>\n      <td>FARIDKOT</td>\n    </tr>\n    <tr>\n      <th>11</th>\n      <td>NaN</td>\n      <td>NaN</td>\n      <td>NaN</td>\n      <td>NaN</td>\n      <td>NaN</td>\n      <td>NaN</td>\n      <td>NaN</td>\n      <td>NaN</td>\n      <td>NaN</td>\n      <td>NaN</td>\n      <td>...</td>\n      <td>NaN</td>\n      <td>NaN</td>\n      <td>NaN</td>\n      <td>NaN</td>\n      <td>NaN</td>\n      <td>NaN</td>\n      <td>NaN</td>\n      <td>NaN</td>\n      <td>NaN</td>\n      <td>FATEHGARH SAHIB</td>\n    </tr>\n    <tr>\n      <th>12</th>\n      <td>NaN</td>\n      <td>NaN</td>\n      <td>NaN</td>\n      <td>NaN</td>\n      <td>NaN</td>\n      <td>NaN</td>\n      <td>NaN</td>\n      <td>NaN</td>\n      <td>NaN</td>\n      <td>NaN</td>\n      <td>...</td>\n      <td>NaN</td>\n      <td>NaN</td>\n      <td>NaN</td>\n      <td>NaN</td>\n      <td>NaN</td>\n      <td>NaN</td>\n      <td>NaN</td>\n      <td>NaN</td>\n      <td>NaN</td>\n      <td>SH MUKTSAR SAHIB</td>\n    </tr>\n    <tr>\n      <th>13</th>\n      <td>NaN</td>\n      <td>NaN</td>\n      <td>NaN</td>\n      <td>NaN</td>\n      <td>NaN</td>\n      <td>NaN</td>\n      <td>NaN</td>\n      <td>NaN</td>\n      <td>NaN</td>\n      <td>NaN</td>\n      <td>...</td>\n      <td>NaN</td>\n      <td>NaN</td>\n      <td>NaN</td>\n      <td>NaN</td>\n      <td>NaN</td>\n      <td>NaN</td>\n      <td>NaN</td>\n      <td>NaN</td>\n      <td>NaN</td>\n      <td>SANGRUR</td>\n    </tr>\n    <tr>\n      <th>14</th>\n      <td>NaN</td>\n      <td>NaN</td>\n      <td>NaN</td>\n      <td>NaN</td>\n      <td>NaN</td>\n      <td>NaN</td>\n      <td>NaN</td>\n      <td>NaN</td>\n      <td>NaN</td>\n      <td>NaN</td>\n      <td>...</td>\n      <td>NaN</td>\n      <td>NaN</td>\n      <td>NaN</td>\n      <td>NaN</td>\n      <td>NaN</td>\n      <td>NaN</td>\n      <td>NaN</td>\n      <td>NaN</td>\n      <td>NaN</td>\n      <td>BARNALA</td>\n    </tr>\n    <tr>\n      <th>15</th>\n      <td>NaN</td>\n      <td>NaN</td>\n      <td>NaN</td>\n      <td>NaN</td>\n      <td>NaN</td>\n      <td>NaN</td>\n      <td>NaN</td>\n      <td>NaN</td>\n      <td>NaN</td>\n      <td>NaN</td>\n      <td>...</td>\n      <td>NaN</td>\n      <td>NaN</td>\n      <td>NaN</td>\n      <td>NaN</td>\n      <td>NaN</td>\n      <td>NaN</td>\n      <td>NaN</td>\n      <td>NaN</td>\n      <td>NaN</td>\n      <td>BATHINDA</td>\n    </tr>\n    <tr>\n      <th>16</th>\n      <td>NaN</td>\n      <td>NaN</td>\n      <td>NaN</td>\n      <td>NaN</td>\n      <td>NaN</td>\n      <td>NaN</td>\n      <td>NaN</td>\n      <td>NaN</td>\n      <td>NaN</td>\n      <td>NaN</td>\n      <td>...</td>\n      <td>NaN</td>\n      <td>NaN</td>\n      <td>NaN</td>\n      <td>NaN</td>\n      <td>NaN</td>\n      <td>NaN</td>\n      <td>NaN</td>\n      <td>NaN</td>\n      <td>NaN</td>\n      <td>PATIALA</td>\n    </tr>\n  </tbody>\n</table>\n<p>17 rows × 35 columns</p>\n</div>"
     },
     "execution_count": 118,
     "metadata": {},
     "output_type": "execute_result"
    }
   ],
   "source": [
    "df1"
   ],
   "metadata": {
    "collapsed": false
   }
  },
  {
   "cell_type": "code",
   "execution_count": 70,
   "outputs": [
    {
     "name": "stderr",
     "output_type": "stream",
     "text": [
      "C:\\Users\\shash\\AppData\\Local\\Temp\\ipykernel_10472\\3981217857.py:1: SettingWithCopyWarning: \n",
      "A value is trying to be set on a copy of a slice from a DataFrame\n",
      "\n",
      "See the caveats in the documentation: https://pandas.pydata.org/pandas-docs/stable/user_guide/indexing.html#returning-a-view-versus-a-copy\n",
      "  df_min.drop([1,2,3,4,5,11,12],axis=0,inplace=True)\n"
     ]
    }
   ],
   "source": [
    "df_min.drop([1, 2, 3, 4, 5, 11, 12], axis=0, inplace=True)"
   ],
   "metadata": {
    "collapsed": false
   }
  },
  {
   "cell_type": "code",
   "execution_count": 73,
   "outputs": [
    {
     "data": {
      "text/plain": "0  YEAR  1986.0  1987.0  1988.0  1989.0  1990.0  1991.0  1992.0  1993.0  \\\n6   JUN   23.02   26.59   28.08   24.76   27.40   25.27   24.20   25.12   \n7   JUL   26.37   27.24   26.11   24.37   27.67   28.24   27.12   22.79   \n8   AUG   23.54   26.37   23.23   23.82   24.67   25.72   24.67   24.98   \n9   SEP   20.80   22.68   19.73   20.73   21.04   17.39   18.48   21.55   \n10  OCT   14.01   12.59   13.08   14.94   12.30   15.07   14.58   13.50   \n\n0   1994.0  ...  2010.0  2011.0  2012.0  2013.0  2014.0  2015.0  2016.0  \\\n6    26.43  ...   24.59   24.30   28.34   24.69   27.56   26.36   27.97   \n7    25.31  ...   25.26   26.66   28.19   26.80   27.97   25.71   25.63   \n8    25.95  ...   23.77   23.98   26.22   23.71   25.27   25.28   24.00   \n9    17.05  ...   19.32   20.96   18.88   21.04   19.73   19.07   22.95   \n10   14.57  ...   13.60   14.26   13.14   15.52   13.77   14.48   14.41   \n\n0   2017.0  2018.0  2019.0  \n6    25.78   25.78   27.15  \n7    26.26   25.40   25.48  \n8    24.53   25.10   23.19  \n9    19.18   19.68   21.25  \n10   15.11   14.58   15.53  \n\n[5 rows x 35 columns]",
      "text/html": "<div>\n<style scoped>\n    .dataframe tbody tr th:only-of-type {\n        vertical-align: middle;\n    }\n\n    .dataframe tbody tr th {\n        vertical-align: top;\n    }\n\n    .dataframe thead th {\n        text-align: right;\n    }\n</style>\n<table border=\"1\" class=\"dataframe\">\n  <thead>\n    <tr style=\"text-align: right;\">\n      <th></th>\n      <th>YEAR</th>\n      <th>1986.0</th>\n      <th>1987.0</th>\n      <th>1988.0</th>\n      <th>1989.0</th>\n      <th>1990.0</th>\n      <th>1991.0</th>\n      <th>1992.0</th>\n      <th>1993.0</th>\n      <th>1994.0</th>\n      <th>...</th>\n      <th>2010.0</th>\n      <th>2011.0</th>\n      <th>2012.0</th>\n      <th>2013.0</th>\n      <th>2014.0</th>\n      <th>2015.0</th>\n      <th>2016.0</th>\n      <th>2017.0</th>\n      <th>2018.0</th>\n      <th>2019.0</th>\n    </tr>\n  </thead>\n  <tbody>\n    <tr>\n      <th>6</th>\n      <td>JUN</td>\n      <td>23.02</td>\n      <td>26.59</td>\n      <td>28.08</td>\n      <td>24.76</td>\n      <td>27.40</td>\n      <td>25.27</td>\n      <td>24.20</td>\n      <td>25.12</td>\n      <td>26.43</td>\n      <td>...</td>\n      <td>24.59</td>\n      <td>24.30</td>\n      <td>28.34</td>\n      <td>24.69</td>\n      <td>27.56</td>\n      <td>26.36</td>\n      <td>27.97</td>\n      <td>25.78</td>\n      <td>25.78</td>\n      <td>27.15</td>\n    </tr>\n    <tr>\n      <th>7</th>\n      <td>JUL</td>\n      <td>26.37</td>\n      <td>27.24</td>\n      <td>26.11</td>\n      <td>24.37</td>\n      <td>27.67</td>\n      <td>28.24</td>\n      <td>27.12</td>\n      <td>22.79</td>\n      <td>25.31</td>\n      <td>...</td>\n      <td>25.26</td>\n      <td>26.66</td>\n      <td>28.19</td>\n      <td>26.80</td>\n      <td>27.97</td>\n      <td>25.71</td>\n      <td>25.63</td>\n      <td>26.26</td>\n      <td>25.40</td>\n      <td>25.48</td>\n    </tr>\n    <tr>\n      <th>8</th>\n      <td>AUG</td>\n      <td>23.54</td>\n      <td>26.37</td>\n      <td>23.23</td>\n      <td>23.82</td>\n      <td>24.67</td>\n      <td>25.72</td>\n      <td>24.67</td>\n      <td>24.98</td>\n      <td>25.95</td>\n      <td>...</td>\n      <td>23.77</td>\n      <td>23.98</td>\n      <td>26.22</td>\n      <td>23.71</td>\n      <td>25.27</td>\n      <td>25.28</td>\n      <td>24.00</td>\n      <td>24.53</td>\n      <td>25.10</td>\n      <td>23.19</td>\n    </tr>\n    <tr>\n      <th>9</th>\n      <td>SEP</td>\n      <td>20.80</td>\n      <td>22.68</td>\n      <td>19.73</td>\n      <td>20.73</td>\n      <td>21.04</td>\n      <td>17.39</td>\n      <td>18.48</td>\n      <td>21.55</td>\n      <td>17.05</td>\n      <td>...</td>\n      <td>19.32</td>\n      <td>20.96</td>\n      <td>18.88</td>\n      <td>21.04</td>\n      <td>19.73</td>\n      <td>19.07</td>\n      <td>22.95</td>\n      <td>19.18</td>\n      <td>19.68</td>\n      <td>21.25</td>\n    </tr>\n    <tr>\n      <th>10</th>\n      <td>OCT</td>\n      <td>14.01</td>\n      <td>12.59</td>\n      <td>13.08</td>\n      <td>14.94</td>\n      <td>12.30</td>\n      <td>15.07</td>\n      <td>14.58</td>\n      <td>13.50</td>\n      <td>14.57</td>\n      <td>...</td>\n      <td>13.60</td>\n      <td>14.26</td>\n      <td>13.14</td>\n      <td>15.52</td>\n      <td>13.77</td>\n      <td>14.48</td>\n      <td>14.41</td>\n      <td>15.11</td>\n      <td>14.58</td>\n      <td>15.53</td>\n    </tr>\n  </tbody>\n</table>\n<p>5 rows × 35 columns</p>\n</div>"
     },
     "execution_count": 73,
     "metadata": {},
     "output_type": "execute_result"
    }
   ],
   "source": [
    "df_min"
   ],
   "metadata": {
    "collapsed": false
   }
  },
  {
   "cell_type": "code",
   "execution_count": 99,
   "outputs": [
    {
     "name": "stderr",
     "output_type": "stream",
     "text": [
      "C:\\Users\\shash\\AppData\\Local\\Temp\\ipykernel_10472\\1209707714.py:1: FutureWarning: The default value of numeric_only in DataFrame.mean is deprecated. In a future version, it will default to False. In addition, specifying 'numeric_only=None' is deprecated. Select only valid columns or specify the value of numeric_only to silence this warning.\n",
      "  df2=pd.DataFrame(df_min.mean(),columns=['Mean'])\n"
     ]
    }
   ],
   "source": [
    "df2 = pd.DataFrame(df_min.mean(), columns=['Mean'])"
   ],
   "metadata": {
    "collapsed": false
   }
  },
  {
   "cell_type": "code",
   "execution_count": 129,
   "outputs": [],
   "source": [
    "x = list(df2['Mean'].values)"
   ],
   "metadata": {
    "collapsed": false
   }
  },
  {
   "cell_type": "code",
   "execution_count": 133,
   "outputs": [
    {
     "data": {
      "text/plain": "     1986    1987    1988    1989    1990    1991   1992    1993    1994  \\\n0  21.548  23.094  22.046  21.724  22.616  22.338  21.81  21.588  21.862   \n\n     1995  ...    2010    2011    2012    2013   2014   2015    2016    2017  \\\n0  21.774  ...  21.308  22.032  22.954  22.352  22.86  22.18  22.992  22.172   \n\n     2018   2019  \n0  22.108  22.52  \n\n[1 rows x 34 columns]",
      "text/html": "<div>\n<style scoped>\n    .dataframe tbody tr th:only-of-type {\n        vertical-align: middle;\n    }\n\n    .dataframe tbody tr th {\n        vertical-align: top;\n    }\n\n    .dataframe thead th {\n        text-align: right;\n    }\n</style>\n<table border=\"1\" class=\"dataframe\">\n  <thead>\n    <tr style=\"text-align: right;\">\n      <th></th>\n      <th>1986</th>\n      <th>1987</th>\n      <th>1988</th>\n      <th>1989</th>\n      <th>1990</th>\n      <th>1991</th>\n      <th>1992</th>\n      <th>1993</th>\n      <th>1994</th>\n      <th>1995</th>\n      <th>...</th>\n      <th>2010</th>\n      <th>2011</th>\n      <th>2012</th>\n      <th>2013</th>\n      <th>2014</th>\n      <th>2015</th>\n      <th>2016</th>\n      <th>2017</th>\n      <th>2018</th>\n      <th>2019</th>\n    </tr>\n  </thead>\n  <tbody>\n    <tr>\n      <th>0</th>\n      <td>21.548</td>\n      <td>23.094</td>\n      <td>22.046</td>\n      <td>21.724</td>\n      <td>22.616</td>\n      <td>22.338</td>\n      <td>21.81</td>\n      <td>21.588</td>\n      <td>21.862</td>\n      <td>21.774</td>\n      <td>...</td>\n      <td>21.308</td>\n      <td>22.032</td>\n      <td>22.954</td>\n      <td>22.352</td>\n      <td>22.86</td>\n      <td>22.18</td>\n      <td>22.992</td>\n      <td>22.172</td>\n      <td>22.108</td>\n      <td>22.52</td>\n    </tr>\n  </tbody>\n</table>\n<p>1 rows × 34 columns</p>\n</div>"
     },
     "execution_count": 133,
     "metadata": {},
     "output_type": "execute_result"
    }
   ],
   "source": [
    "df1"
   ],
   "metadata": {
    "collapsed": false
   }
  },
  {
   "cell_type": "code",
   "execution_count": 132,
   "outputs": [],
   "source": [
    "df1.loc[len(df1)] = x"
   ],
   "metadata": {
    "collapsed": false
   }
  },
  {
   "cell_type": "code",
   "execution_count": 60,
   "outputs": [
    {
     "data": {
      "text/plain": "0  YEAR  1986.0  1987.0  1988.0  1989.0  1990.0  1991.0  1992.0  1993.0  \\\n1   JAN   22.55   25.63   26.16   22.70   27.34   29.18   24.37   25.53   \n2   FEB   26.59   26.98   29.26   29.60   27.49   28.69   28.17   34.87   \n3   MAR   33.69   34.94   35.21   32.09   34.22   40.20   31.19   32.01   \n4   APR   43.23   43.76   44.19   39.65   40.78   41.87   41.14   45.31   \n5   MAY   45.84   43.98   50.14   47.20   47.94   45.21   46.07   48.86   \n6   JUN   50.71   48.46   47.98   46.57   48.36   47.71   47.60   48.80   \n7   JUL   43.01   47.83   45.73   47.01   44.28   47.38   45.77   46.26   \n8   AUG   38.23   46.06   39.54   40.51   42.67   43.40   40.87   41.55   \n9   SEP   39.72   42.65   41.57   41.07   37.91   40.96   38.44   39.30   \n10  OCT   36.58   39.65   32.61   39.69   34.61   35.41   35.83   38.20   \n11  NOV   32.54   33.02   30.34   32.49   31.40   32.33   31.08   34.08   \n12  DEC   26.14   26.87   26.32   26.52   26.20   27.87   26.26   29.77   \n\n0   1994.0  ...  2010.0  2011.0  2012.0  2013.0  2014.0  2015.0  2016.0  \\\n1    26.54  ...   25.38   22.74   21.76   24.62   24.82   22.99   25.12   \n2    28.13  ...   32.60   27.33   27.33   26.29   25.84   29.45   32.76   \n3    38.19  ...   40.12   37.68   37.83   33.75   33.87   36.08   37.61   \n4    42.23  ...   44.99   42.40   39.27   39.13   42.19   40.20   43.37   \n5    46.94  ...   49.15   47.08   47.38   48.53   45.76   44.97   48.01   \n6    49.37  ...   48.44   44.91   47.61   48.12   47.60   45.62   46.58   \n7    43.05  ...   44.30   42.60   48.34   42.90   44.62   44.04   42.04   \n8    41.16  ...   37.24   41.55   43.10   36.79   41.51   39.71   37.97   \n9    37.73  ...   35.73   34.30   39.41   35.79   34.68   39.49   37.71   \n10   35.63  ...   34.87   35.01   36.63   35.55   32.83   36.76   37.74   \n11   30.84  ...   30.58   31.30   30.86   29.31   29.62   29.80   31.56   \n12   27.15  ...   24.53   26.99   28.75   27.12   27.02   26.75   28.13   \n\n0   2017.0  2018.0  2019.0  \n1    24.65   26.19   21.51  \n2    29.85   30.76   23.72  \n3    39.28   39.45   36.16  \n4    45.65   44.37   41.86  \n5    45.59   46.52   47.45  \n6    48.76   46.50   48.12  \n7    41.87   40.98   46.09  \n8    39.16   39.21   36.36  \n9    38.39   37.78   38.98  \n10   38.26   33.71   33.11  \n11   29.53   28.01   30.58  \n12   26.86   25.85   24.22  \n\n[12 rows x 35 columns]",
      "text/html": "<div>\n<style scoped>\n    .dataframe tbody tr th:only-of-type {\n        vertical-align: middle;\n    }\n\n    .dataframe tbody tr th {\n        vertical-align: top;\n    }\n\n    .dataframe thead th {\n        text-align: right;\n    }\n</style>\n<table border=\"1\" class=\"dataframe\">\n  <thead>\n    <tr style=\"text-align: right;\">\n      <th></th>\n      <th>YEAR</th>\n      <th>1986.0</th>\n      <th>1987.0</th>\n      <th>1988.0</th>\n      <th>1989.0</th>\n      <th>1990.0</th>\n      <th>1991.0</th>\n      <th>1992.0</th>\n      <th>1993.0</th>\n      <th>1994.0</th>\n      <th>...</th>\n      <th>2010.0</th>\n      <th>2011.0</th>\n      <th>2012.0</th>\n      <th>2013.0</th>\n      <th>2014.0</th>\n      <th>2015.0</th>\n      <th>2016.0</th>\n      <th>2017.0</th>\n      <th>2018.0</th>\n      <th>2019.0</th>\n    </tr>\n  </thead>\n  <tbody>\n    <tr>\n      <th>1</th>\n      <td>JAN</td>\n      <td>22.55</td>\n      <td>25.63</td>\n      <td>26.16</td>\n      <td>22.70</td>\n      <td>27.34</td>\n      <td>29.18</td>\n      <td>24.37</td>\n      <td>25.53</td>\n      <td>26.54</td>\n      <td>...</td>\n      <td>25.38</td>\n      <td>22.74</td>\n      <td>21.76</td>\n      <td>24.62</td>\n      <td>24.82</td>\n      <td>22.99</td>\n      <td>25.12</td>\n      <td>24.65</td>\n      <td>26.19</td>\n      <td>21.51</td>\n    </tr>\n    <tr>\n      <th>2</th>\n      <td>FEB</td>\n      <td>26.59</td>\n      <td>26.98</td>\n      <td>29.26</td>\n      <td>29.60</td>\n      <td>27.49</td>\n      <td>28.69</td>\n      <td>28.17</td>\n      <td>34.87</td>\n      <td>28.13</td>\n      <td>...</td>\n      <td>32.60</td>\n      <td>27.33</td>\n      <td>27.33</td>\n      <td>26.29</td>\n      <td>25.84</td>\n      <td>29.45</td>\n      <td>32.76</td>\n      <td>29.85</td>\n      <td>30.76</td>\n      <td>23.72</td>\n    </tr>\n    <tr>\n      <th>3</th>\n      <td>MAR</td>\n      <td>33.69</td>\n      <td>34.94</td>\n      <td>35.21</td>\n      <td>32.09</td>\n      <td>34.22</td>\n      <td>40.20</td>\n      <td>31.19</td>\n      <td>32.01</td>\n      <td>38.19</td>\n      <td>...</td>\n      <td>40.12</td>\n      <td>37.68</td>\n      <td>37.83</td>\n      <td>33.75</td>\n      <td>33.87</td>\n      <td>36.08</td>\n      <td>37.61</td>\n      <td>39.28</td>\n      <td>39.45</td>\n      <td>36.16</td>\n    </tr>\n    <tr>\n      <th>4</th>\n      <td>APR</td>\n      <td>43.23</td>\n      <td>43.76</td>\n      <td>44.19</td>\n      <td>39.65</td>\n      <td>40.78</td>\n      <td>41.87</td>\n      <td>41.14</td>\n      <td>45.31</td>\n      <td>42.23</td>\n      <td>...</td>\n      <td>44.99</td>\n      <td>42.40</td>\n      <td>39.27</td>\n      <td>39.13</td>\n      <td>42.19</td>\n      <td>40.20</td>\n      <td>43.37</td>\n      <td>45.65</td>\n      <td>44.37</td>\n      <td>41.86</td>\n    </tr>\n    <tr>\n      <th>5</th>\n      <td>MAY</td>\n      <td>45.84</td>\n      <td>43.98</td>\n      <td>50.14</td>\n      <td>47.20</td>\n      <td>47.94</td>\n      <td>45.21</td>\n      <td>46.07</td>\n      <td>48.86</td>\n      <td>46.94</td>\n      <td>...</td>\n      <td>49.15</td>\n      <td>47.08</td>\n      <td>47.38</td>\n      <td>48.53</td>\n      <td>45.76</td>\n      <td>44.97</td>\n      <td>48.01</td>\n      <td>45.59</td>\n      <td>46.52</td>\n      <td>47.45</td>\n    </tr>\n    <tr>\n      <th>6</th>\n      <td>JUN</td>\n      <td>50.71</td>\n      <td>48.46</td>\n      <td>47.98</td>\n      <td>46.57</td>\n      <td>48.36</td>\n      <td>47.71</td>\n      <td>47.60</td>\n      <td>48.80</td>\n      <td>49.37</td>\n      <td>...</td>\n      <td>48.44</td>\n      <td>44.91</td>\n      <td>47.61</td>\n      <td>48.12</td>\n      <td>47.60</td>\n      <td>45.62</td>\n      <td>46.58</td>\n      <td>48.76</td>\n      <td>46.50</td>\n      <td>48.12</td>\n    </tr>\n    <tr>\n      <th>7</th>\n      <td>JUL</td>\n      <td>43.01</td>\n      <td>47.83</td>\n      <td>45.73</td>\n      <td>47.01</td>\n      <td>44.28</td>\n      <td>47.38</td>\n      <td>45.77</td>\n      <td>46.26</td>\n      <td>43.05</td>\n      <td>...</td>\n      <td>44.30</td>\n      <td>42.60</td>\n      <td>48.34</td>\n      <td>42.90</td>\n      <td>44.62</td>\n      <td>44.04</td>\n      <td>42.04</td>\n      <td>41.87</td>\n      <td>40.98</td>\n      <td>46.09</td>\n    </tr>\n    <tr>\n      <th>8</th>\n      <td>AUG</td>\n      <td>38.23</td>\n      <td>46.06</td>\n      <td>39.54</td>\n      <td>40.51</td>\n      <td>42.67</td>\n      <td>43.40</td>\n      <td>40.87</td>\n      <td>41.55</td>\n      <td>41.16</td>\n      <td>...</td>\n      <td>37.24</td>\n      <td>41.55</td>\n      <td>43.10</td>\n      <td>36.79</td>\n      <td>41.51</td>\n      <td>39.71</td>\n      <td>37.97</td>\n      <td>39.16</td>\n      <td>39.21</td>\n      <td>36.36</td>\n    </tr>\n    <tr>\n      <th>9</th>\n      <td>SEP</td>\n      <td>39.72</td>\n      <td>42.65</td>\n      <td>41.57</td>\n      <td>41.07</td>\n      <td>37.91</td>\n      <td>40.96</td>\n      <td>38.44</td>\n      <td>39.30</td>\n      <td>37.73</td>\n      <td>...</td>\n      <td>35.73</td>\n      <td>34.30</td>\n      <td>39.41</td>\n      <td>35.79</td>\n      <td>34.68</td>\n      <td>39.49</td>\n      <td>37.71</td>\n      <td>38.39</td>\n      <td>37.78</td>\n      <td>38.98</td>\n    </tr>\n    <tr>\n      <th>10</th>\n      <td>OCT</td>\n      <td>36.58</td>\n      <td>39.65</td>\n      <td>32.61</td>\n      <td>39.69</td>\n      <td>34.61</td>\n      <td>35.41</td>\n      <td>35.83</td>\n      <td>38.20</td>\n      <td>35.63</td>\n      <td>...</td>\n      <td>34.87</td>\n      <td>35.01</td>\n      <td>36.63</td>\n      <td>35.55</td>\n      <td>32.83</td>\n      <td>36.76</td>\n      <td>37.74</td>\n      <td>38.26</td>\n      <td>33.71</td>\n      <td>33.11</td>\n    </tr>\n    <tr>\n      <th>11</th>\n      <td>NOV</td>\n      <td>32.54</td>\n      <td>33.02</td>\n      <td>30.34</td>\n      <td>32.49</td>\n      <td>31.40</td>\n      <td>32.33</td>\n      <td>31.08</td>\n      <td>34.08</td>\n      <td>30.84</td>\n      <td>...</td>\n      <td>30.58</td>\n      <td>31.30</td>\n      <td>30.86</td>\n      <td>29.31</td>\n      <td>29.62</td>\n      <td>29.80</td>\n      <td>31.56</td>\n      <td>29.53</td>\n      <td>28.01</td>\n      <td>30.58</td>\n    </tr>\n    <tr>\n      <th>12</th>\n      <td>DEC</td>\n      <td>26.14</td>\n      <td>26.87</td>\n      <td>26.32</td>\n      <td>26.52</td>\n      <td>26.20</td>\n      <td>27.87</td>\n      <td>26.26</td>\n      <td>29.77</td>\n      <td>27.15</td>\n      <td>...</td>\n      <td>24.53</td>\n      <td>26.99</td>\n      <td>28.75</td>\n      <td>27.12</td>\n      <td>27.02</td>\n      <td>26.75</td>\n      <td>28.13</td>\n      <td>26.86</td>\n      <td>25.85</td>\n      <td>24.22</td>\n    </tr>\n  </tbody>\n</table>\n<p>12 rows × 35 columns</p>\n</div>"
     },
     "execution_count": 60,
     "metadata": {},
     "output_type": "execute_result"
    }
   ],
   "source": [
    "df_max"
   ],
   "metadata": {
    "collapsed": false
   }
  },
  {
   "cell_type": "code",
   "execution_count": null,
   "outputs": [],
   "source": [],
   "metadata": {
    "collapsed": false
   }
  }
 ],
 "metadata": {
  "kernelspec": {
   "display_name": "Python 3",
   "language": "python",
   "name": "python3"
  },
  "language_info": {
   "codemirror_mode": {
    "name": "ipython",
    "version": 2
   },
   "file_extension": ".py",
   "mimetype": "text/x-python",
   "name": "python",
   "nbconvert_exporter": "python",
   "pygments_lexer": "ipython2",
   "version": "2.7.6"
  }
 },
 "nbformat": 4,
 "nbformat_minor": 0
}
