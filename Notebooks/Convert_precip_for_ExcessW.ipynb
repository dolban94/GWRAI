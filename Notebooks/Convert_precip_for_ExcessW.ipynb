{
 "cells": [
  {
   "cell_type": "markdown",
   "source": [
    "# Convert Precipiation for excess water"
   ],
   "metadata": {
    "collapsed": false
   }
  },
  {
   "cell_type": "code",
   "execution_count": 6,
   "metadata": {
    "collapsed": true
   },
   "outputs": [],
   "source": [
    "import numpy as np\n",
    "import pandas as pd\n",
    "import datetime"
   ]
  },
  {
   "cell_type": "code",
   "execution_count": 28,
   "outputs": [],
   "source": [
    "df = pd.read_excel(\"B:\\GroundwaterRech\\GithubRepo\\Restart\\Dataset\\Precipitation\\Precipitation\\Barnala.xlsx\",\n",
    "                  sheet_name='Sheet1' )"
   ],
   "metadata": {
    "collapsed": false
   }
  },
  {
   "cell_type": "code",
   "execution_count": 29,
   "outputs": [
    {
     "data": {
      "text/plain": "         P                month\n0      1.6  1985-05-01 00:00:00\n1      5.1  1985-06-01 00:00:00\n2      4.3  1985-07-01 00:00:00\n3     10.9  1985-08-01 00:00:00\n4     28.0  1985-09-01 00:00:00\n...    ...                  ...\n4316   0.0  2345-01-01 00:00:00\n4317   0.0  2345-02-01 00:00:00\n4318   0.0  2345-03-01 00:00:00\n4319   0.0  2345-04-01 00:00:00\n4320   0.0  2345-05-01 00:00:00\n\n[4321 rows x 2 columns]",
      "text/html": "<div>\n<style scoped>\n    .dataframe tbody tr th:only-of-type {\n        vertical-align: middle;\n    }\n\n    .dataframe tbody tr th {\n        vertical-align: top;\n    }\n\n    .dataframe thead th {\n        text-align: right;\n    }\n</style>\n<table border=\"1\" class=\"dataframe\">\n  <thead>\n    <tr style=\"text-align: right;\">\n      <th></th>\n      <th>P</th>\n      <th>month</th>\n    </tr>\n  </thead>\n  <tbody>\n    <tr>\n      <th>0</th>\n      <td>1.6</td>\n      <td>1985-05-01 00:00:00</td>\n    </tr>\n    <tr>\n      <th>1</th>\n      <td>5.1</td>\n      <td>1985-06-01 00:00:00</td>\n    </tr>\n    <tr>\n      <th>2</th>\n      <td>4.3</td>\n      <td>1985-07-01 00:00:00</td>\n    </tr>\n    <tr>\n      <th>3</th>\n      <td>10.9</td>\n      <td>1985-08-01 00:00:00</td>\n    </tr>\n    <tr>\n      <th>4</th>\n      <td>28.0</td>\n      <td>1985-09-01 00:00:00</td>\n    </tr>\n    <tr>\n      <th>...</th>\n      <td>...</td>\n      <td>...</td>\n    </tr>\n    <tr>\n      <th>4316</th>\n      <td>0.0</td>\n      <td>2345-01-01 00:00:00</td>\n    </tr>\n    <tr>\n      <th>4317</th>\n      <td>0.0</td>\n      <td>2345-02-01 00:00:00</td>\n    </tr>\n    <tr>\n      <th>4318</th>\n      <td>0.0</td>\n      <td>2345-03-01 00:00:00</td>\n    </tr>\n    <tr>\n      <th>4319</th>\n      <td>0.0</td>\n      <td>2345-04-01 00:00:00</td>\n    </tr>\n    <tr>\n      <th>4320</th>\n      <td>0.0</td>\n      <td>2345-05-01 00:00:00</td>\n    </tr>\n  </tbody>\n</table>\n<p>4321 rows × 2 columns</p>\n</div>"
     },
     "execution_count": 29,
     "metadata": {},
     "output_type": "execute_result"
    }
   ],
   "source": [
    "df"
   ],
   "metadata": {
    "collapsed": false
   }
  },
  {
   "cell_type": "code",
   "execution_count": 14,
   "outputs": [],
   "source": [
    "#only for P1\n",
    "l = []\n",
    "m = []\n",
    "i = 1\n",
    "while i < 427:\n",
    "    l.extend([df['P1'][i], df['P1'][i + 1], df['P1'][i + 2], df['P1'][i + 3], df['P1'][i + 4]])\n",
    "    m.extend([df['month'][i], df['month'][i + 1], df['month'][i + 2], df['month'][i + 3], df['month'][i + 4]])\n",
    "    i = i + 12"
   ],
   "metadata": {
    "collapsed": false
   }
  },
  {
   "cell_type": "code",
   "execution_count": 21,
   "outputs": [],
   "source": [
    "# only for p2\n",
    "l = []\n",
    "m = []\n",
    "i = 1\n",
    "while i < 427:\n",
    "    l.extend([df['P2'][i], df['P2'][i + 1], df['P2'][i + 2], df['P2'][i + 3], df['P2'][i + 4]])\n",
    "    m.extend([df['month'][i], df['month'][i + 1], df['month'][i + 2], df['month'][i + 3], df['month'][i + 4]])\n",
    "    i = i + 12"
   ],
   "metadata": {
    "collapsed": false
   }
  },
  {
   "cell_type": "code",
   "execution_count": 30,
   "outputs": [],
   "source": [
    "#only P\n",
    "l = []\n",
    "m = []\n",
    "i = 1\n",
    "while i < 427:\n",
    "    l.extend([df['P'][i], df['P'][i + 1], df['P'][i + 2], df['P'][i + 3], df['P'][i + 4]])\n",
    "    m.extend([df['month'][i], df['month'][i + 1], df['month'][i + 2], df['month'][i + 3], df['month'][i + 4]])\n",
    "    i = i + 12"
   ],
   "metadata": {
    "collapsed": false
   }
  },
  {
   "cell_type": "code",
   "execution_count": 31,
   "outputs": [],
   "source": [
    "df2 = pd.DataFrame()\n",
    "df2['Month'] = m\n",
    "df2['Precipitation'] = l"
   ],
   "metadata": {
    "collapsed": false
   }
  },
  {
   "cell_type": "code",
   "execution_count": 32,
   "outputs": [
    {
     "data": {
      "text/plain": "         Month  Precipitation\n0   1985-06-01            5.1\n1   1985-07-01            4.3\n2   1985-08-01           10.9\n3   1985-09-01           28.0\n4   1985-10-01           90.0\n..         ...            ...\n175 2020-06-01            3.4\n176 2020-07-01            9.1\n177 2020-08-01            5.7\n178 2020-09-01           17.6\n179 2020-10-01          158.7\n\n[180 rows x 2 columns]",
      "text/html": "<div>\n<style scoped>\n    .dataframe tbody tr th:only-of-type {\n        vertical-align: middle;\n    }\n\n    .dataframe tbody tr th {\n        vertical-align: top;\n    }\n\n    .dataframe thead th {\n        text-align: right;\n    }\n</style>\n<table border=\"1\" class=\"dataframe\">\n  <thead>\n    <tr style=\"text-align: right;\">\n      <th></th>\n      <th>Month</th>\n      <th>Precipitation</th>\n    </tr>\n  </thead>\n  <tbody>\n    <tr>\n      <th>0</th>\n      <td>1985-06-01</td>\n      <td>5.1</td>\n    </tr>\n    <tr>\n      <th>1</th>\n      <td>1985-07-01</td>\n      <td>4.3</td>\n    </tr>\n    <tr>\n      <th>2</th>\n      <td>1985-08-01</td>\n      <td>10.9</td>\n    </tr>\n    <tr>\n      <th>3</th>\n      <td>1985-09-01</td>\n      <td>28.0</td>\n    </tr>\n    <tr>\n      <th>4</th>\n      <td>1985-10-01</td>\n      <td>90.0</td>\n    </tr>\n    <tr>\n      <th>...</th>\n      <td>...</td>\n      <td>...</td>\n    </tr>\n    <tr>\n      <th>175</th>\n      <td>2020-06-01</td>\n      <td>3.4</td>\n    </tr>\n    <tr>\n      <th>176</th>\n      <td>2020-07-01</td>\n      <td>9.1</td>\n    </tr>\n    <tr>\n      <th>177</th>\n      <td>2020-08-01</td>\n      <td>5.7</td>\n    </tr>\n    <tr>\n      <th>178</th>\n      <td>2020-09-01</td>\n      <td>17.6</td>\n    </tr>\n    <tr>\n      <th>179</th>\n      <td>2020-10-01</td>\n      <td>158.7</td>\n    </tr>\n  </tbody>\n</table>\n<p>180 rows × 2 columns</p>\n</div>"
     },
     "execution_count": 32,
     "metadata": {},
     "output_type": "execute_result"
    }
   ],
   "source": [
    "df2"
   ],
   "metadata": {
    "collapsed": false
   }
  },
  {
   "cell_type": "code",
   "execution_count": 33,
   "outputs": [],
   "source": [
    "df3 = pd.DataFrame()"
   ],
   "metadata": {
    "collapsed": false
   }
  },
  {
   "cell_type": "code",
   "execution_count": 34,
   "outputs": [],
   "source": [
    "y = list(range(1986, 2021))\n",
    "x = 0\n",
    "l = []\n",
    "for i in range(0, 176, 5):\n",
    "    l.append(df2['Precipitation'][i] + df2['Precipitation'][i + 1] + df2['Precipitation'][i + 2] +\n",
    "              df2['Precipitation'][i + 3] + df2['Precipitation'][i + 4])\n",
    "    x = x + 1"
   ],
   "metadata": {
    "collapsed": false
   }
  },
  {
   "cell_type": "code",
   "execution_count": 35,
   "outputs": [],
   "source": [
    "df3['Precipitation']=l"
   ],
   "metadata": {
    "collapsed": false
   }
  },
  {
   "cell_type": "code",
   "execution_count": 36,
   "outputs": [
    {
     "data": {
      "text/plain": "    Precipitation\n0           138.3\n1           120.5\n2           147.4\n3            91.0\n4           126.3\n5           125.7\n6           184.5\n7           274.5\n8           150.3\n9           114.9\n10          136.0\n11          165.2\n12          228.1\n13           95.8\n14          201.1\n15          213.1\n16           94.9\n17          184.4\n18          223.4\n19          147.9\n20          130.8\n21          182.1\n22          139.4\n23          215.1\n24          190.1\n25          149.1\n26          109.3\n27          167.3\n28          205.0\n29          148.9\n30          133.8\n31          156.3\n32          177.5\n33          136.1\n34          176.0\n35          194.5",
      "text/html": "<div>\n<style scoped>\n    .dataframe tbody tr th:only-of-type {\n        vertical-align: middle;\n    }\n\n    .dataframe tbody tr th {\n        vertical-align: top;\n    }\n\n    .dataframe thead th {\n        text-align: right;\n    }\n</style>\n<table border=\"1\" class=\"dataframe\">\n  <thead>\n    <tr style=\"text-align: right;\">\n      <th></th>\n      <th>Precipitation</th>\n    </tr>\n  </thead>\n  <tbody>\n    <tr>\n      <th>0</th>\n      <td>138.3</td>\n    </tr>\n    <tr>\n      <th>1</th>\n      <td>120.5</td>\n    </tr>\n    <tr>\n      <th>2</th>\n      <td>147.4</td>\n    </tr>\n    <tr>\n      <th>3</th>\n      <td>91.0</td>\n    </tr>\n    <tr>\n      <th>4</th>\n      <td>126.3</td>\n    </tr>\n    <tr>\n      <th>5</th>\n      <td>125.7</td>\n    </tr>\n    <tr>\n      <th>6</th>\n      <td>184.5</td>\n    </tr>\n    <tr>\n      <th>7</th>\n      <td>274.5</td>\n    </tr>\n    <tr>\n      <th>8</th>\n      <td>150.3</td>\n    </tr>\n    <tr>\n      <th>9</th>\n      <td>114.9</td>\n    </tr>\n    <tr>\n      <th>10</th>\n      <td>136.0</td>\n    </tr>\n    <tr>\n      <th>11</th>\n      <td>165.2</td>\n    </tr>\n    <tr>\n      <th>12</th>\n      <td>228.1</td>\n    </tr>\n    <tr>\n      <th>13</th>\n      <td>95.8</td>\n    </tr>\n    <tr>\n      <th>14</th>\n      <td>201.1</td>\n    </tr>\n    <tr>\n      <th>15</th>\n      <td>213.1</td>\n    </tr>\n    <tr>\n      <th>16</th>\n      <td>94.9</td>\n    </tr>\n    <tr>\n      <th>17</th>\n      <td>184.4</td>\n    </tr>\n    <tr>\n      <th>18</th>\n      <td>223.4</td>\n    </tr>\n    <tr>\n      <th>19</th>\n      <td>147.9</td>\n    </tr>\n    <tr>\n      <th>20</th>\n      <td>130.8</td>\n    </tr>\n    <tr>\n      <th>21</th>\n      <td>182.1</td>\n    </tr>\n    <tr>\n      <th>22</th>\n      <td>139.4</td>\n    </tr>\n    <tr>\n      <th>23</th>\n      <td>215.1</td>\n    </tr>\n    <tr>\n      <th>24</th>\n      <td>190.1</td>\n    </tr>\n    <tr>\n      <th>25</th>\n      <td>149.1</td>\n    </tr>\n    <tr>\n      <th>26</th>\n      <td>109.3</td>\n    </tr>\n    <tr>\n      <th>27</th>\n      <td>167.3</td>\n    </tr>\n    <tr>\n      <th>28</th>\n      <td>205.0</td>\n    </tr>\n    <tr>\n      <th>29</th>\n      <td>148.9</td>\n    </tr>\n    <tr>\n      <th>30</th>\n      <td>133.8</td>\n    </tr>\n    <tr>\n      <th>31</th>\n      <td>156.3</td>\n    </tr>\n    <tr>\n      <th>32</th>\n      <td>177.5</td>\n    </tr>\n    <tr>\n      <th>33</th>\n      <td>136.1</td>\n    </tr>\n    <tr>\n      <th>34</th>\n      <td>176.0</td>\n    </tr>\n    <tr>\n      <th>35</th>\n      <td>194.5</td>\n    </tr>\n  </tbody>\n</table>\n</div>"
     },
     "execution_count": 36,
     "metadata": {},
     "output_type": "execute_result"
    }
   ],
   "source": [
    "df3"
   ],
   "metadata": {
    "collapsed": false
   }
  },
  {
   "cell_type": "code",
   "execution_count": null,
   "outputs": [],
   "source": [],
   "metadata": {
    "collapsed": false
   }
  }
 ],
 "metadata": {
  "kernelspec": {
   "display_name": "Python 3",
   "language": "python",
   "name": "python3"
  },
  "language_info": {
   "codemirror_mode": {
    "name": "ipython",
    "version": 2
   },
   "file_extension": ".py",
   "mimetype": "text/x-python",
   "name": "python",
   "nbconvert_exporter": "python",
   "pygments_lexer": "ipython2",
   "version": "2.7.6"
  }
 },
 "nbformat": 4,
 "nbformat_minor": 0
}
