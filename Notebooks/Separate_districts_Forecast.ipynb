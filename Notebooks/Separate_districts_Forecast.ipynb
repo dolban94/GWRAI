{
 "cells": [
  {
   "cell_type": "markdown",
   "source": [
    "## Dividing dataset into stations for forecasting"
   ],
   "metadata": {
    "collapsed": false
   }
  },
  {
   "cell_type": "code",
   "execution_count": 2,
   "metadata": {
    "collapsed": true,
    "ExecuteTime": {
     "end_time": "2023-08-17T17:27:35.486722200Z",
     "start_time": "2023-08-17T17:27:35.468506200Z"
    }
   },
   "outputs": [],
   "source": [
    "import numpy as np\n",
    "import pandas as pd"
   ]
  },
  {
   "cell_type": "code",
   "execution_count": 10,
   "outputs": [],
   "source": [
    "df = pd.read_excel(\"B:\\GroundwaterRech\\GithubRepo\\Restart\\Forecast_new\\SSP585\\Complete_SSP585.xlsx\", sheet_name='Sheet2')"
   ],
   "metadata": {
    "collapsed": false,
    "ExecuteTime": {
     "end_time": "2023-08-17T17:30:46.834814Z",
     "start_time": "2023-08-17T17:30:46.740694300Z"
    }
   }
  },
  {
   "cell_type": "code",
   "execution_count": 11,
   "outputs": [
    {
     "data": {
      "text/plain": "                     District  Object Id  Longitude  Latitude     Slope  \\\n0                    Faridkot          1      75.25     29.75  0.496398   \n1                     Patiala          2      76.00     29.75  0.992721   \n2                    Amritsar          6      74.75     30.00  0.701995   \n3                    Amritsar          7      75.00     30.00  0.784844   \n4                    Amritsar          8      75.25     30.00  0.784844   \n..                        ...        ...        ...       ...       ...   \n60  Shahid Bhagat Singh Nagar         71      75.00     32.00  1.446964   \n61  Shahid Bhagat Singh Nagar         72      75.25     32.00  1.446964   \n62  Shahid Bhagat Singh Nagar         73      75.50     32.00  0.701995   \n63                    Fazilka         74      75.75     32.00  2.218904   \n64  Shahid Bhagat Singh Nagar         75      75.50     32.25  2.827676   \n\n             Soil Type         2020         2021         2022         2023  \\\n0              Builtup  Agriculture  Agriculture  Agriculture  Agriculture   \n1     Haplic Calcisols  Agriculture  Agriculture  Agriculture  Agriculture   \n2              Bulitup  Agriculture  Agriculture  Agriculture  Agriculture   \n3              Builtup  Agriculture  Agriculture  Agriculture  Agriculture   \n4              Builtup  Agriculture  Agriculture  Agriculture  Agriculture   \n..                 ...          ...          ...          ...          ...   \n60  Calcaric Fluvisols  Agriculture  Agriculture  Agriculture  Agriculture   \n61    Haplic Calcisols  Agriculture  Agriculture  Agriculture  Agriculture   \n62                Loam         Lake         Lake         Lake         Lake   \n63                Loam  Agriculture  Agriculture  Agriculture  Agriculture   \n64  Calcaric Fluvisols      Builtup      Builtup      Builtup      Builtup   \n\n    ...     2026.5     2027.5     2028.5    2029.5     2030.5     2031.5  \\\n0   ...  15.020599   6.878714  10.023751  6.496914   8.960437   7.284741   \n1   ...  20.850402   9.100039  12.995266  8.081241  11.837848  10.273517   \n2   ...  11.746297   5.273022   8.348297  5.267925   7.185977   5.595599   \n3   ...  12.356531   5.559206   8.591733  5.415448   7.534079   5.850897   \n4   ...  14.759099   6.541877   9.927445  6.071998   8.696081   7.075055   \n..  ...        ...        ...        ...       ...        ...        ...   \n60  ...  16.108705   7.541932  14.202075  6.330524  11.535705   8.985610   \n61  ...  16.956535   8.228909  14.892566  7.100562  12.202949   9.290101   \n62  ...  17.891660   8.991508  15.655790  7.958886  12.942270   9.627012   \n63  ...  18.927861   9.842427  16.503391  8.920424  13.765633  10.001445   \n64  ...  19.632265  10.286879  17.018730  9.130059  15.033014  10.898490   \n\n       2032.5     2033.5     2034.5     2035.5  \n0   11.821019  11.525051  12.400593  11.357079  \n1   15.560639  16.467705  16.261239  13.542656  \n2    9.711944   8.799663  10.281154  10.125193  \n3   10.266573   9.359186  10.755794  10.480871  \n4   11.883630  11.420944  12.396968  11.471801  \n..        ...        ...        ...        ...  \n60  18.995635  15.925189  17.433840  10.152480  \n61  19.338407  16.426699  18.462546  10.901491  \n62  19.716681  16.981064  19.601804  11.732949  \n63  20.135535  17.595923  20.869544  12.660628  \n64  22.645233  18.220509  22.560542  13.089986  \n\n[65 rows x 102 columns]",
      "text/html": "<div>\n<style scoped>\n    .dataframe tbody tr th:only-of-type {\n        vertical-align: middle;\n    }\n\n    .dataframe tbody tr th {\n        vertical-align: top;\n    }\n\n    .dataframe thead th {\n        text-align: right;\n    }\n</style>\n<table border=\"1\" class=\"dataframe\">\n  <thead>\n    <tr style=\"text-align: right;\">\n      <th></th>\n      <th>District</th>\n      <th>Object Id</th>\n      <th>Longitude</th>\n      <th>Latitude</th>\n      <th>Slope</th>\n      <th>Soil Type</th>\n      <th>2020</th>\n      <th>2021</th>\n      <th>2022</th>\n      <th>2023</th>\n      <th>...</th>\n      <th>2026.5</th>\n      <th>2027.5</th>\n      <th>2028.5</th>\n      <th>2029.5</th>\n      <th>2030.5</th>\n      <th>2031.5</th>\n      <th>2032.5</th>\n      <th>2033.5</th>\n      <th>2034.5</th>\n      <th>2035.5</th>\n    </tr>\n  </thead>\n  <tbody>\n    <tr>\n      <th>0</th>\n      <td>Faridkot</td>\n      <td>1</td>\n      <td>75.25</td>\n      <td>29.75</td>\n      <td>0.496398</td>\n      <td>Builtup</td>\n      <td>Agriculture</td>\n      <td>Agriculture</td>\n      <td>Agriculture</td>\n      <td>Agriculture</td>\n      <td>...</td>\n      <td>15.020599</td>\n      <td>6.878714</td>\n      <td>10.023751</td>\n      <td>6.496914</td>\n      <td>8.960437</td>\n      <td>7.284741</td>\n      <td>11.821019</td>\n      <td>11.525051</td>\n      <td>12.400593</td>\n      <td>11.357079</td>\n    </tr>\n    <tr>\n      <th>1</th>\n      <td>Patiala</td>\n      <td>2</td>\n      <td>76.00</td>\n      <td>29.75</td>\n      <td>0.992721</td>\n      <td>Haplic Calcisols</td>\n      <td>Agriculture</td>\n      <td>Agriculture</td>\n      <td>Agriculture</td>\n      <td>Agriculture</td>\n      <td>...</td>\n      <td>20.850402</td>\n      <td>9.100039</td>\n      <td>12.995266</td>\n      <td>8.081241</td>\n      <td>11.837848</td>\n      <td>10.273517</td>\n      <td>15.560639</td>\n      <td>16.467705</td>\n      <td>16.261239</td>\n      <td>13.542656</td>\n    </tr>\n    <tr>\n      <th>2</th>\n      <td>Amritsar</td>\n      <td>6</td>\n      <td>74.75</td>\n      <td>30.00</td>\n      <td>0.701995</td>\n      <td>Bulitup</td>\n      <td>Agriculture</td>\n      <td>Agriculture</td>\n      <td>Agriculture</td>\n      <td>Agriculture</td>\n      <td>...</td>\n      <td>11.746297</td>\n      <td>5.273022</td>\n      <td>8.348297</td>\n      <td>5.267925</td>\n      <td>7.185977</td>\n      <td>5.595599</td>\n      <td>9.711944</td>\n      <td>8.799663</td>\n      <td>10.281154</td>\n      <td>10.125193</td>\n    </tr>\n    <tr>\n      <th>3</th>\n      <td>Amritsar</td>\n      <td>7</td>\n      <td>75.00</td>\n      <td>30.00</td>\n      <td>0.784844</td>\n      <td>Builtup</td>\n      <td>Agriculture</td>\n      <td>Agriculture</td>\n      <td>Agriculture</td>\n      <td>Agriculture</td>\n      <td>...</td>\n      <td>12.356531</td>\n      <td>5.559206</td>\n      <td>8.591733</td>\n      <td>5.415448</td>\n      <td>7.534079</td>\n      <td>5.850897</td>\n      <td>10.266573</td>\n      <td>9.359186</td>\n      <td>10.755794</td>\n      <td>10.480871</td>\n    </tr>\n    <tr>\n      <th>4</th>\n      <td>Amritsar</td>\n      <td>8</td>\n      <td>75.25</td>\n      <td>30.00</td>\n      <td>0.784844</td>\n      <td>Builtup</td>\n      <td>Agriculture</td>\n      <td>Agriculture</td>\n      <td>Agriculture</td>\n      <td>Agriculture</td>\n      <td>...</td>\n      <td>14.759099</td>\n      <td>6.541877</td>\n      <td>9.927445</td>\n      <td>6.071998</td>\n      <td>8.696081</td>\n      <td>7.075055</td>\n      <td>11.883630</td>\n      <td>11.420944</td>\n      <td>12.396968</td>\n      <td>11.471801</td>\n    </tr>\n    <tr>\n      <th>...</th>\n      <td>...</td>\n      <td>...</td>\n      <td>...</td>\n      <td>...</td>\n      <td>...</td>\n      <td>...</td>\n      <td>...</td>\n      <td>...</td>\n      <td>...</td>\n      <td>...</td>\n      <td>...</td>\n      <td>...</td>\n      <td>...</td>\n      <td>...</td>\n      <td>...</td>\n      <td>...</td>\n      <td>...</td>\n      <td>...</td>\n      <td>...</td>\n      <td>...</td>\n      <td>...</td>\n    </tr>\n    <tr>\n      <th>60</th>\n      <td>Shahid Bhagat Singh Nagar</td>\n      <td>71</td>\n      <td>75.00</td>\n      <td>32.00</td>\n      <td>1.446964</td>\n      <td>Calcaric Fluvisols</td>\n      <td>Agriculture</td>\n      <td>Agriculture</td>\n      <td>Agriculture</td>\n      <td>Agriculture</td>\n      <td>...</td>\n      <td>16.108705</td>\n      <td>7.541932</td>\n      <td>14.202075</td>\n      <td>6.330524</td>\n      <td>11.535705</td>\n      <td>8.985610</td>\n      <td>18.995635</td>\n      <td>15.925189</td>\n      <td>17.433840</td>\n      <td>10.152480</td>\n    </tr>\n    <tr>\n      <th>61</th>\n      <td>Shahid Bhagat Singh Nagar</td>\n      <td>72</td>\n      <td>75.25</td>\n      <td>32.00</td>\n      <td>1.446964</td>\n      <td>Haplic Calcisols</td>\n      <td>Agriculture</td>\n      <td>Agriculture</td>\n      <td>Agriculture</td>\n      <td>Agriculture</td>\n      <td>...</td>\n      <td>16.956535</td>\n      <td>8.228909</td>\n      <td>14.892566</td>\n      <td>7.100562</td>\n      <td>12.202949</td>\n      <td>9.290101</td>\n      <td>19.338407</td>\n      <td>16.426699</td>\n      <td>18.462546</td>\n      <td>10.901491</td>\n    </tr>\n    <tr>\n      <th>62</th>\n      <td>Shahid Bhagat Singh Nagar</td>\n      <td>73</td>\n      <td>75.50</td>\n      <td>32.00</td>\n      <td>0.701995</td>\n      <td>Loam</td>\n      <td>Lake</td>\n      <td>Lake</td>\n      <td>Lake</td>\n      <td>Lake</td>\n      <td>...</td>\n      <td>17.891660</td>\n      <td>8.991508</td>\n      <td>15.655790</td>\n      <td>7.958886</td>\n      <td>12.942270</td>\n      <td>9.627012</td>\n      <td>19.716681</td>\n      <td>16.981064</td>\n      <td>19.601804</td>\n      <td>11.732949</td>\n    </tr>\n    <tr>\n      <th>63</th>\n      <td>Fazilka</td>\n      <td>74</td>\n      <td>75.75</td>\n      <td>32.00</td>\n      <td>2.218904</td>\n      <td>Loam</td>\n      <td>Agriculture</td>\n      <td>Agriculture</td>\n      <td>Agriculture</td>\n      <td>Agriculture</td>\n      <td>...</td>\n      <td>18.927861</td>\n      <td>9.842427</td>\n      <td>16.503391</td>\n      <td>8.920424</td>\n      <td>13.765633</td>\n      <td>10.001445</td>\n      <td>20.135535</td>\n      <td>17.595923</td>\n      <td>20.869544</td>\n      <td>12.660628</td>\n    </tr>\n    <tr>\n      <th>64</th>\n      <td>Shahid Bhagat Singh Nagar</td>\n      <td>75</td>\n      <td>75.50</td>\n      <td>32.25</td>\n      <td>2.827676</td>\n      <td>Calcaric Fluvisols</td>\n      <td>Builtup</td>\n      <td>Builtup</td>\n      <td>Builtup</td>\n      <td>Builtup</td>\n      <td>...</td>\n      <td>19.632265</td>\n      <td>10.286879</td>\n      <td>17.018730</td>\n      <td>9.130059</td>\n      <td>15.033014</td>\n      <td>10.898490</td>\n      <td>22.645233</td>\n      <td>18.220509</td>\n      <td>22.560542</td>\n      <td>13.089986</td>\n    </tr>\n  </tbody>\n</table>\n<p>65 rows × 102 columns</p>\n</div>"
     },
     "execution_count": 11,
     "metadata": {},
     "output_type": "execute_result"
    }
   ],
   "source": [
    "df"
   ],
   "metadata": {
    "collapsed": false,
    "ExecuteTime": {
     "end_time": "2023-08-17T17:30:47.895622600Z",
     "start_time": "2023-08-17T17:30:47.858693500Z"
    }
   }
  },
  {
   "cell_type": "code",
   "execution_count": 12,
   "outputs": [],
   "source": [
    "l = list(df.columns)\n",
    "pts = list(df['Object Id'].values)\n",
    "d = {}"
   ],
   "metadata": {
    "collapsed": false,
    "ExecuteTime": {
     "end_time": "2023-08-17T17:30:55.221942400Z",
     "start_time": "2023-08-17T17:30:55.209428Z"
    }
   }
  },
  {
   "cell_type": "code",
   "execution_count": 13,
   "outputs": [],
   "source": [
    "years = [i for i in range(2020, 2036)]\n"
   ],
   "metadata": {
    "collapsed": false,
    "ExecuteTime": {
     "end_time": "2023-08-17T17:30:55.957779300Z",
     "start_time": "2023-08-17T17:30:55.926315Z"
    }
   }
  },
  {
   "cell_type": "code",
   "execution_count": 14,
   "outputs": [],
   "source": [
    "for i in pts:\n",
    "    d[i] = {'Longitude': df['Longitude'][pts.index(i)], 'Latitude': df['Latitude'][pts.index(i)],\n",
    "            'District': df['District'][pts.index(i)], 'Slope': df['Slope'][pts.index(i)],\n",
    "            'Soil Type': df['Soil Type'][pts.index(i)]}"
   ],
   "metadata": {
    "collapsed": false,
    "ExecuteTime": {
     "end_time": "2023-08-17T17:30:56.417598500Z",
     "start_time": "2023-08-17T17:30:56.411578600Z"
    }
   }
  },
  {
   "cell_type": "code",
   "execution_count": 15,
   "outputs": [],
   "source": [
    "df1 = pd.DataFrame(columns=['Year', 'District', 'Longitude', 'Latitude', 'Slope', 'Soil Type', 'LULC',\n",
    "                            'Max Temperature', 'Min Temperature', 'Precipitation','Evapotranspiration','Aridity Index'])"
   ],
   "metadata": {
    "collapsed": false,
    "ExecuteTime": {
     "end_time": "2023-08-17T17:30:57.435945400Z",
     "start_time": "2023-08-17T17:30:57.404305200Z"
    }
   }
  },
  {
   "cell_type": "code",
   "execution_count": 16,
   "outputs": [],
   "source": [
    "for i in pts:\n",
    "    df1 = pd.DataFrame()\n",
    "    v = list(df.iloc[pts.index(i), 6:].values)\n",
    "    df1['Year'] = years\n",
    "    df1['District'] = d[i]['District']\n",
    "    df1['Longitude'] = d[i]['Longitude']\n",
    "    df1['Latitude'] = d[i]['Latitude']\n",
    "    df1['Slope'] = d[i]['Slope']\n",
    "    df1['Soil Type'] = d[i]['Soil Type']\n",
    "    df1['LULC'] = v[0:16]\n",
    "    df1['Max Temperature'] = v[16:32]\n",
    "    df1['Min Temperature'] = v[32:48]\n",
    "    df1['Precipitation'] = v[48:64]\n",
    "    df1['Evapotranspiration'] = v[64:80]\n",
    "    df1['Aridity Index'] = v[80:96]\n",
    "    df1.to_excel(\"B:\\GroundwaterRech\\GithubRepo\\Restart\\Forecast_new\\SSP585\\District Wise\\\\\"+str(i) + '.xlsx', index=False)"
   ],
   "metadata": {
    "collapsed": false,
    "ExecuteTime": {
     "end_time": "2023-08-17T17:31:08.047515700Z",
     "start_time": "2023-08-17T17:31:05.709189600Z"
    }
   }
  },
  {
   "cell_type": "code",
   "execution_count": null,
   "outputs": [],
   "source": [],
   "metadata": {
    "collapsed": false
   }
  }
 ],
 "metadata": {
  "kernelspec": {
   "display_name": "Python 3",
   "language": "python",
   "name": "python3"
  },
  "language_info": {
   "codemirror_mode": {
    "name": "ipython",
    "version": 2
   },
   "file_extension": ".py",
   "mimetype": "text/x-python",
   "name": "python",
   "nbconvert_exporter": "python",
   "pygments_lexer": "ipython2",
   "version": "2.7.6"
  }
 },
 "nbformat": 4,
 "nbformat_minor": 0
}
