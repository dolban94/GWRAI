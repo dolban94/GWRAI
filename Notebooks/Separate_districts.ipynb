{
 "cells": [
  {
   "cell_type": "code",
   "execution_count": 9,
   "metadata": {
    "collapsed": true,
    "ExecuteTime": {
     "end_time": "2023-08-17T16:41:51.983744300Z",
     "start_time": "2023-08-17T16:41:51.968136500Z"
    }
   },
   "outputs": [],
   "source": [
    "import numpy as np\n",
    "import pandas as pd"
   ]
  },
  {
   "cell_type": "code",
   "execution_count": 10,
   "outputs": [],
   "source": [
    "df = pd.read_excel(\"B:\\GroundwaterRech\\GithubRepo\\Restart\\Dataset\\DatasetFinal(ALL Features).xlsx\", sheet_name='Sheet10')"
   ],
   "metadata": {
    "collapsed": false,
    "ExecuteTime": {
     "end_time": "2023-08-17T16:41:52.519540400Z",
     "start_time": "2023-08-17T16:41:52.331073400Z"
    }
   }
  },
  {
   "cell_type": "code",
   "execution_count": 11,
   "outputs": [
    {
     "data": {
      "text/plain": "                     District  Object Id  Longitude  Latitude     Slope  \\\n0                    Faridkot          1      75.25     29.75  0.496398   \n1                     Patiala          2      76.00     29.75  0.992721   \n2                    Amritsar          6      74.75     30.00  0.701995   \n3                    Amritsar          7      75.00     30.00  0.784844   \n4                    Amritsar          8      75.25     30.00  0.784844   \n..                        ...        ...        ...       ...       ...   \n60  Shahid Bhagat Singh Nagar         71      75.00     32.00  1.446964   \n61  Shahid Bhagat Singh Nagar         72      75.25     32.00  1.446964   \n62  Shahid Bhagat Singh Nagar         73      75.50     32.00  0.701995   \n63                    Fazilka         74      75.75     32.00  2.218904   \n64  Shahid Bhagat Singh Nagar         75      75.50     32.25  2.827676   \n\n             Soil Type         1986         1987         1988         1989  \\\n0              Builtup  Agriculture  Agriculture  Agriculture  Agriculture   \n1     Haplic Calcisols  Agriculture  Agriculture  Agriculture  Agriculture   \n2              Bulitup  Agriculture  Agriculture  Agriculture  Agriculture   \n3              Builtup  Agriculture  Agriculture  Agriculture  Agriculture   \n4              Builtup  Agriculture  Agriculture  Agriculture  Agriculture   \n..                 ...          ...          ...          ...          ...   \n60  Calcaric Fluvisols  Agriculture  Agriculture  Agriculture  Agriculture   \n61    Haplic Calcisols  Agriculture  Agriculture  Agriculture  Agriculture   \n62                Loam         Lake         Lake         Lake         Lake   \n63                Loam  Agriculture  Agriculture  Agriculture  Agriculture   \n64  Calcaric Fluvisols      Builtup      Builtup      Builtup      Builtup   \n\n    ...     2010.6     2011.6     2012.6     2013.6     2014.6     2015.6  \\\n0   ...  24.915493  24.176991  20.049107  22.977578  17.926724  22.520179   \n1   ...  28.497653  30.271111  26.819820  31.782805  20.844828  24.192825   \n2   ...  34.648241  35.550239  27.687500  37.142180  30.129630  36.093137   \n3   ...  38.641414  42.014286  33.634615  43.690476  38.744186  41.252427   \n4   ...  34.648241  35.550239  27.687500  37.142180  30.129630  36.093137   \n..  ...        ...        ...        ...        ...        ...        ...   \n60  ...  56.553299  62.072464  54.888889  65.100478  40.877934  53.564356   \n61  ...  56.267677  61.185714  54.625000  64.790476  40.497674  52.524272   \n62  ...  56.553299  62.072464  54.888889  65.100478  40.877934  53.564356   \n63  ...  16.381974  16.307377  13.288703  13.495763  11.277108  14.489540   \n64  ...  56.267677  61.185714  54.625000  64.790476  40.497674  52.524272   \n\n       2016.6     2017.6     2018.6     2019.6  \n0   19.695455  18.004386  19.718894  18.389381  \n1   24.823529  24.557018  29.134884  22.035874  \n2   30.153846  27.223810  31.075758  30.336538  \n3   33.574879  30.619048  37.522613  34.870813  \n4   30.153846  27.223810  31.075758  30.336538  \n..        ...        ...        ...        ...  \n60  51.179612  55.846890  62.191919  48.995192  \n61  50.932367  55.580952  61.879397  48.760766  \n62  51.179612  55.846890  62.191919  48.995192  \n63  12.270042  11.485597  12.081897  11.348361  \n64  50.932367  55.580952  61.879397  48.760766  \n\n[65 rows x 244 columns]",
      "text/html": "<div>\n<style scoped>\n    .dataframe tbody tr th:only-of-type {\n        vertical-align: middle;\n    }\n\n    .dataframe tbody tr th {\n        vertical-align: top;\n    }\n\n    .dataframe thead th {\n        text-align: right;\n    }\n</style>\n<table border=\"1\" class=\"dataframe\">\n  <thead>\n    <tr style=\"text-align: right;\">\n      <th></th>\n      <th>District</th>\n      <th>Object Id</th>\n      <th>Longitude</th>\n      <th>Latitude</th>\n      <th>Slope</th>\n      <th>Soil Type</th>\n      <th>1986</th>\n      <th>1987</th>\n      <th>1988</th>\n      <th>1989</th>\n      <th>...</th>\n      <th>2010.6</th>\n      <th>2011.6</th>\n      <th>2012.6</th>\n      <th>2013.6</th>\n      <th>2014.6</th>\n      <th>2015.6</th>\n      <th>2016.6</th>\n      <th>2017.6</th>\n      <th>2018.6</th>\n      <th>2019.6</th>\n    </tr>\n  </thead>\n  <tbody>\n    <tr>\n      <th>0</th>\n      <td>Faridkot</td>\n      <td>1</td>\n      <td>75.25</td>\n      <td>29.75</td>\n      <td>0.496398</td>\n      <td>Builtup</td>\n      <td>Agriculture</td>\n      <td>Agriculture</td>\n      <td>Agriculture</td>\n      <td>Agriculture</td>\n      <td>...</td>\n      <td>24.915493</td>\n      <td>24.176991</td>\n      <td>20.049107</td>\n      <td>22.977578</td>\n      <td>17.926724</td>\n      <td>22.520179</td>\n      <td>19.695455</td>\n      <td>18.004386</td>\n      <td>19.718894</td>\n      <td>18.389381</td>\n    </tr>\n    <tr>\n      <th>1</th>\n      <td>Patiala</td>\n      <td>2</td>\n      <td>76.00</td>\n      <td>29.75</td>\n      <td>0.992721</td>\n      <td>Haplic Calcisols</td>\n      <td>Agriculture</td>\n      <td>Agriculture</td>\n      <td>Agriculture</td>\n      <td>Agriculture</td>\n      <td>...</td>\n      <td>28.497653</td>\n      <td>30.271111</td>\n      <td>26.819820</td>\n      <td>31.782805</td>\n      <td>20.844828</td>\n      <td>24.192825</td>\n      <td>24.823529</td>\n      <td>24.557018</td>\n      <td>29.134884</td>\n      <td>22.035874</td>\n    </tr>\n    <tr>\n      <th>2</th>\n      <td>Amritsar</td>\n      <td>6</td>\n      <td>74.75</td>\n      <td>30.00</td>\n      <td>0.701995</td>\n      <td>Bulitup</td>\n      <td>Agriculture</td>\n      <td>Agriculture</td>\n      <td>Agriculture</td>\n      <td>Agriculture</td>\n      <td>...</td>\n      <td>34.648241</td>\n      <td>35.550239</td>\n      <td>27.687500</td>\n      <td>37.142180</td>\n      <td>30.129630</td>\n      <td>36.093137</td>\n      <td>30.153846</td>\n      <td>27.223810</td>\n      <td>31.075758</td>\n      <td>30.336538</td>\n    </tr>\n    <tr>\n      <th>3</th>\n      <td>Amritsar</td>\n      <td>7</td>\n      <td>75.00</td>\n      <td>30.00</td>\n      <td>0.784844</td>\n      <td>Builtup</td>\n      <td>Agriculture</td>\n      <td>Agriculture</td>\n      <td>Agriculture</td>\n      <td>Agriculture</td>\n      <td>...</td>\n      <td>38.641414</td>\n      <td>42.014286</td>\n      <td>33.634615</td>\n      <td>43.690476</td>\n      <td>38.744186</td>\n      <td>41.252427</td>\n      <td>33.574879</td>\n      <td>30.619048</td>\n      <td>37.522613</td>\n      <td>34.870813</td>\n    </tr>\n    <tr>\n      <th>4</th>\n      <td>Amritsar</td>\n      <td>8</td>\n      <td>75.25</td>\n      <td>30.00</td>\n      <td>0.784844</td>\n      <td>Builtup</td>\n      <td>Agriculture</td>\n      <td>Agriculture</td>\n      <td>Agriculture</td>\n      <td>Agriculture</td>\n      <td>...</td>\n      <td>34.648241</td>\n      <td>35.550239</td>\n      <td>27.687500</td>\n      <td>37.142180</td>\n      <td>30.129630</td>\n      <td>36.093137</td>\n      <td>30.153846</td>\n      <td>27.223810</td>\n      <td>31.075758</td>\n      <td>30.336538</td>\n    </tr>\n    <tr>\n      <th>...</th>\n      <td>...</td>\n      <td>...</td>\n      <td>...</td>\n      <td>...</td>\n      <td>...</td>\n      <td>...</td>\n      <td>...</td>\n      <td>...</td>\n      <td>...</td>\n      <td>...</td>\n      <td>...</td>\n      <td>...</td>\n      <td>...</td>\n      <td>...</td>\n      <td>...</td>\n      <td>...</td>\n      <td>...</td>\n      <td>...</td>\n      <td>...</td>\n      <td>...</td>\n      <td>...</td>\n    </tr>\n    <tr>\n      <th>60</th>\n      <td>Shahid Bhagat Singh Nagar</td>\n      <td>71</td>\n      <td>75.00</td>\n      <td>32.00</td>\n      <td>1.446964</td>\n      <td>Calcaric Fluvisols</td>\n      <td>Agriculture</td>\n      <td>Agriculture</td>\n      <td>Agriculture</td>\n      <td>Agriculture</td>\n      <td>...</td>\n      <td>56.553299</td>\n      <td>62.072464</td>\n      <td>54.888889</td>\n      <td>65.100478</td>\n      <td>40.877934</td>\n      <td>53.564356</td>\n      <td>51.179612</td>\n      <td>55.846890</td>\n      <td>62.191919</td>\n      <td>48.995192</td>\n    </tr>\n    <tr>\n      <th>61</th>\n      <td>Shahid Bhagat Singh Nagar</td>\n      <td>72</td>\n      <td>75.25</td>\n      <td>32.00</td>\n      <td>1.446964</td>\n      <td>Haplic Calcisols</td>\n      <td>Agriculture</td>\n      <td>Agriculture</td>\n      <td>Agriculture</td>\n      <td>Agriculture</td>\n      <td>...</td>\n      <td>56.267677</td>\n      <td>61.185714</td>\n      <td>54.625000</td>\n      <td>64.790476</td>\n      <td>40.497674</td>\n      <td>52.524272</td>\n      <td>50.932367</td>\n      <td>55.580952</td>\n      <td>61.879397</td>\n      <td>48.760766</td>\n    </tr>\n    <tr>\n      <th>62</th>\n      <td>Shahid Bhagat Singh Nagar</td>\n      <td>73</td>\n      <td>75.50</td>\n      <td>32.00</td>\n      <td>0.701995</td>\n      <td>Loam</td>\n      <td>Lake</td>\n      <td>Lake</td>\n      <td>Lake</td>\n      <td>Lake</td>\n      <td>...</td>\n      <td>56.553299</td>\n      <td>62.072464</td>\n      <td>54.888889</td>\n      <td>65.100478</td>\n      <td>40.877934</td>\n      <td>53.564356</td>\n      <td>51.179612</td>\n      <td>55.846890</td>\n      <td>62.191919</td>\n      <td>48.995192</td>\n    </tr>\n    <tr>\n      <th>63</th>\n      <td>Fazilka</td>\n      <td>74</td>\n      <td>75.75</td>\n      <td>32.00</td>\n      <td>2.218904</td>\n      <td>Loam</td>\n      <td>Agriculture</td>\n      <td>Agriculture</td>\n      <td>Agriculture</td>\n      <td>Agriculture</td>\n      <td>...</td>\n      <td>16.381974</td>\n      <td>16.307377</td>\n      <td>13.288703</td>\n      <td>13.495763</td>\n      <td>11.277108</td>\n      <td>14.489540</td>\n      <td>12.270042</td>\n      <td>11.485597</td>\n      <td>12.081897</td>\n      <td>11.348361</td>\n    </tr>\n    <tr>\n      <th>64</th>\n      <td>Shahid Bhagat Singh Nagar</td>\n      <td>75</td>\n      <td>75.50</td>\n      <td>32.25</td>\n      <td>2.827676</td>\n      <td>Calcaric Fluvisols</td>\n      <td>Builtup</td>\n      <td>Builtup</td>\n      <td>Builtup</td>\n      <td>Builtup</td>\n      <td>...</td>\n      <td>56.267677</td>\n      <td>61.185714</td>\n      <td>54.625000</td>\n      <td>64.790476</td>\n      <td>40.497674</td>\n      <td>52.524272</td>\n      <td>50.932367</td>\n      <td>55.580952</td>\n      <td>61.879397</td>\n      <td>48.760766</td>\n    </tr>\n  </tbody>\n</table>\n<p>65 rows × 244 columns</p>\n</div>"
     },
     "execution_count": 11,
     "metadata": {},
     "output_type": "execute_result"
    }
   ],
   "source": [
    "df"
   ],
   "metadata": {
    "collapsed": false,
    "ExecuteTime": {
     "end_time": "2023-08-17T16:41:53.095375400Z",
     "start_time": "2023-08-17T16:41:53.051140100Z"
    }
   }
  },
  {
   "cell_type": "code",
   "execution_count": 12,
   "outputs": [],
   "source": [
    "l = list(df.columns)\n",
    "pts = list(df['Object Id'].values)\n",
    "d = {}"
   ],
   "metadata": {
    "collapsed": false,
    "ExecuteTime": {
     "end_time": "2023-08-17T16:41:53.731554700Z",
     "start_time": "2023-08-17T16:41:53.715928400Z"
    }
   }
  },
  {
   "cell_type": "code",
   "execution_count": 13,
   "outputs": [],
   "source": [
    "years = [i for i in range(1986, 2020)]\n"
   ],
   "metadata": {
    "collapsed": false,
    "ExecuteTime": {
     "end_time": "2023-08-17T16:41:54.369585Z",
     "start_time": "2023-08-17T16:41:54.353961400Z"
    }
   }
  },
  {
   "cell_type": "code",
   "execution_count": 14,
   "outputs": [],
   "source": [
    "for i in pts:\n",
    "    d[i] = {'Longitude': df['Longitude'][pts.index(i)], 'Latitude': df['Latitude'][pts.index(i)],\n",
    "            'District': df['District'][pts.index(i)], 'Slope': df['Slope'][pts.index(i)],\n",
    "            'Soil Type': df['Soil Type'][pts.index(i)]}"
   ],
   "metadata": {
    "collapsed": false,
    "ExecuteTime": {
     "end_time": "2023-08-17T16:41:55.333978800Z",
     "start_time": "2023-08-17T16:41:55.318356100Z"
    }
   }
  },
  {
   "cell_type": "code",
   "execution_count": 15,
   "outputs": [],
   "source": [
    "df1 = pd.DataFrame(columns=['Year', 'District', 'Longitude', 'Latitude', 'Slope', 'Soil Type', 'LULC',\n",
    "                            'Max Temperature', 'Min Temperature', 'Precipitation', 'Groundwater Recharge','Evapotranspiration','Aridity Index'])"
   ],
   "metadata": {
    "collapsed": false,
    "ExecuteTime": {
     "end_time": "2023-08-17T16:41:55.574550300Z",
     "start_time": "2023-08-17T16:41:55.558937800Z"
    }
   }
  },
  {
   "cell_type": "code",
   "execution_count": 16,
   "outputs": [],
   "source": [
    "for i in pts:\n",
    "    df1 = pd.DataFrame()\n",
    "    v = list(df.iloc[pts.index(i), 6:].values)\n",
    "    df1['Year'] = years\n",
    "    df1['District'] = d[i]['District']\n",
    "    df1['Longitude'] = d[i]['Longitude']\n",
    "    df1['Latitude'] = d[i]['Latitude']\n",
    "    df1['Slope'] = d[i]['Slope']\n",
    "    df1['Soil Type'] = d[i]['Soil Type']\n",
    "    df1['LULC'] = v[0:34]\n",
    "    df1['Max Temperature'] = v[34:68]\n",
    "    df1['Min Temperature'] = v[68:102]\n",
    "    df1['Precipitation'] = v[102:136]\n",
    "    df1['Groundwater Recharge'] = v[136:170]\n",
    "    df1['Evapotranspiration'] = v[170:204]\n",
    "    df1['Aridity Index'] = v[204:238]\n",
    "    df1.to_excel(\"B:\\GroundwaterRech\\GithubRepo\\Restart\\Dataset\\District Wise\\\\3\\\\\"+str(i) + '.xlsx', index=False)"
   ],
   "metadata": {
    "collapsed": false,
    "ExecuteTime": {
     "end_time": "2023-08-17T16:41:58.745832200Z",
     "start_time": "2023-08-17T16:41:55.762639900Z"
    }
   }
  },
  {
   "cell_type": "code",
   "execution_count": 24,
   "outputs": [
    {
     "data": {
      "text/plain": "array(['Agriculture', 'Agriculture', 'Agriculture', 'Agriculture',\n       'Agriculture', 'Agriculture', 'Agriculture', 'Agriculture',\n       'Agriculture', 'Agriculture', 'Agriculture', 'Agriculture',\n       'Agriculture', 'Agriculture', 'Agriculture', 'Agriculture',\n       'Agriculture', 'Agriculture', 'Agriculture', 'Agriculture',\n       'Agriculture', 'Agriculture', 'Agriculture', 'Agriculture',\n       'Agriculture', 'Agriculture', 'Agriculture', 'Agriculture',\n       'Agriculture', 'Agriculture', 'Builtup', 'Builtup', 'Builtup',\n       'Builtup', 40.902, 43.932, 40.48999999999999, 42.026, 40.756,\n       41.83199999999999, 40.872, 41.726, 40.20399999999999, 40.858,\n       39.65, 40.59, 42.174, 42.54199999999999, 42.014, 40.246, 42.602,\n       40.77, 40.98, 41.26000000000001, 39.48200000000001,\n       40.90199999999999, 36.482, 42.09399999999999, 39.16, 38.514,\n       42.20399999999999, 38.974, 39.752, 39.914, 39.182, 39.938, 37.816,\n       38.9, 21.64, 23.072, 22.144, 21.556, 22.416, 22.114, 21.748,\n       21.106, 21.21, 21.924, 20.856, 21.824, 22.594, 22.454, 21.566,\n       22.114, 23.22, 22.982, 22.984, 21.926, 22.11, 23.348, 21.966,\n       22.832, 21.272, 22.12, 22.52, 21.896, 23.016, 21.306, 22.686,\n       21.494, 22.208, 22.342, 167.86, 93.04, 302.4, 199.08, 240.16,\n       144.84, 202.94, 153.8, 160.54, 245.58, 246.08, 220.4, 147.46,\n       143.06, 169.88, 183.76, 151.52, 187.68, 139.4, 161.58, 310.62,\n       142.88, 214.26, 99.46, 207.24, 235.94, 187.64, 252.14, 218.98,\n       227.74, 186.66, 174.0, 208.76, 198.88, -0.7, -0.7399999999999999,\n       -1.35, -1.26, -1.13, -0.84, -1.3, -2.04, -1.0, -2.65, -2.49, -1.46,\n       -1.75, -0.76, -1.51, -1.66, -0.9299999999999997, -2.26, -1.39,\n       -0.75, -2.15, -1.43, -1.87, -2.5, -2.2, -2.05, -0.3999999999999999,\n       -1.5, 0.8999999999999999, 1.85, -0.1499999999999995, -2.375,\n       -4.899999999999999, -1.1], dtype=object)"
     },
     "execution_count": 24,
     "metadata": {},
     "output_type": "execute_result"
    }
   ],
   "source": [
    "df.iloc[pts.index(52), 6:].values"
   ],
   "metadata": {
    "collapsed": false
   }
  },
  {
   "cell_type": "code",
   "execution_count": null,
   "outputs": [],
   "source": [],
   "metadata": {
    "collapsed": false
   }
  }
 ],
 "metadata": {
  "kernelspec": {
   "display_name": "Python 3",
   "language": "python",
   "name": "python3"
  },
  "language_info": {
   "codemirror_mode": {
    "name": "ipython",
    "version": 2
   },
   "file_extension": ".py",
   "mimetype": "text/x-python",
   "name": "python",
   "nbconvert_exporter": "python",
   "pygments_lexer": "ipython2",
   "version": "2.7.6"
  }
 },
 "nbformat": 4,
 "nbformat_minor": 0
}
