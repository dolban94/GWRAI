{
 "cells": [
  {
   "cell_type": "markdown",
   "source": [
    "# Preprocess Precipitaion"
   ],
   "metadata": {
    "collapsed": false
   }
  },
  {
   "cell_type": "code",
   "execution_count": 1,
   "metadata": {
    "collapsed": true
   },
   "outputs": [],
   "source": [
    "import numpy as np\n",
    "import pandas as pd\n",
    "import datetime"
   ]
  },
  {
   "cell_type": "code",
   "execution_count": null,
   "outputs": [],
   "source": [],
   "metadata": {
    "collapsed": false
   }
  },
  {
   "cell_type": "code",
   "execution_count": 24,
   "outputs": [],
   "source": [
    "df = pd.read_excel(\"B:\\GroundwaterRech\\GithubRepo\\Restart\\Dataset\\Precipitation\\Precipitation\\Barnala.xlsx\",\n",
    "                  sheet_name='Sheet1' )"
   ],
   "metadata": {
    "collapsed": false
   }
  },
  {
   "cell_type": "code",
   "execution_count": 25,
   "outputs": [
    {
     "data": {
      "text/plain": "         P                month\n0      1.6  1985-05-01 00:00:00\n1      5.1  1985-06-01 00:00:00\n2      4.3  1985-07-01 00:00:00\n3     10.9  1985-08-01 00:00:00\n4     28.0  1985-09-01 00:00:00\n...    ...                  ...\n4316   0.0  2345-01-01 00:00:00\n4317   0.0  2345-02-01 00:00:00\n4318   0.0  2345-03-01 00:00:00\n4319   0.0  2345-04-01 00:00:00\n4320   0.0  2345-05-01 00:00:00\n\n[4321 rows x 2 columns]",
      "text/html": "<div>\n<style scoped>\n    .dataframe tbody tr th:only-of-type {\n        vertical-align: middle;\n    }\n\n    .dataframe tbody tr th {\n        vertical-align: top;\n    }\n\n    .dataframe thead th {\n        text-align: right;\n    }\n</style>\n<table border=\"1\" class=\"dataframe\">\n  <thead>\n    <tr style=\"text-align: right;\">\n      <th></th>\n      <th>P</th>\n      <th>month</th>\n    </tr>\n  </thead>\n  <tbody>\n    <tr>\n      <th>0</th>\n      <td>1.6</td>\n      <td>1985-05-01 00:00:00</td>\n    </tr>\n    <tr>\n      <th>1</th>\n      <td>5.1</td>\n      <td>1985-06-01 00:00:00</td>\n    </tr>\n    <tr>\n      <th>2</th>\n      <td>4.3</td>\n      <td>1985-07-01 00:00:00</td>\n    </tr>\n    <tr>\n      <th>3</th>\n      <td>10.9</td>\n      <td>1985-08-01 00:00:00</td>\n    </tr>\n    <tr>\n      <th>4</th>\n      <td>28.0</td>\n      <td>1985-09-01 00:00:00</td>\n    </tr>\n    <tr>\n      <th>...</th>\n      <td>...</td>\n      <td>...</td>\n    </tr>\n    <tr>\n      <th>4316</th>\n      <td>0.0</td>\n      <td>2345-01-01 00:00:00</td>\n    </tr>\n    <tr>\n      <th>4317</th>\n      <td>0.0</td>\n      <td>2345-02-01 00:00:00</td>\n    </tr>\n    <tr>\n      <th>4318</th>\n      <td>0.0</td>\n      <td>2345-03-01 00:00:00</td>\n    </tr>\n    <tr>\n      <th>4319</th>\n      <td>0.0</td>\n      <td>2345-04-01 00:00:00</td>\n    </tr>\n    <tr>\n      <th>4320</th>\n      <td>0.0</td>\n      <td>2345-05-01 00:00:00</td>\n    </tr>\n  </tbody>\n</table>\n<p>4321 rows × 2 columns</p>\n</div>"
     },
     "execution_count": 25,
     "metadata": {},
     "output_type": "execute_result"
    }
   ],
   "source": [
    "df"
   ],
   "metadata": {
    "collapsed": false
   }
  },
  {
   "cell_type": "code",
   "execution_count": 10,
   "outputs": [],
   "source": [
    "#only for P1\n",
    "l = []\n",
    "m = []\n",
    "i = 1\n",
    "while i < 427:\n",
    "    l.extend([df['P1'][i], df['P1'][i + 1], df['P1'][i + 2], df['P1'][i + 3], df['P1'][i + 4]])\n",
    "    m.extend([df['month'][i], df['month'][i + 1], df['month'][i + 2], df['month'][i + 3], df['month'][i + 4]])\n",
    "    i = i + 12"
   ],
   "metadata": {
    "collapsed": false
   }
  },
  {
   "cell_type": "code",
   "execution_count": 26,
   "outputs": [
    {
     "ename": "KeyError",
     "evalue": "'P2'",
     "output_type": "error",
     "traceback": [
      "\u001B[1;31m---------------------------------------------------------------------------\u001B[0m",
      "\u001B[1;31mKeyError\u001B[0m                                  Traceback (most recent call last)",
      "File \u001B[1;32mb:\\code\\ml\\venv\\lib\\site-packages\\pandas\\core\\indexes\\base.py:3800\u001B[0m, in \u001B[0;36mIndex.get_loc\u001B[1;34m(self, key, method, tolerance)\u001B[0m\n\u001B[0;32m   3799\u001B[0m \u001B[38;5;28;01mtry\u001B[39;00m:\n\u001B[1;32m-> 3800\u001B[0m     \u001B[38;5;28;01mreturn\u001B[39;00m \u001B[38;5;28;43mself\u001B[39;49m\u001B[38;5;241;43m.\u001B[39;49m\u001B[43m_engine\u001B[49m\u001B[38;5;241;43m.\u001B[39;49m\u001B[43mget_loc\u001B[49m\u001B[43m(\u001B[49m\u001B[43mcasted_key\u001B[49m\u001B[43m)\u001B[49m\n\u001B[0;32m   3801\u001B[0m \u001B[38;5;28;01mexcept\u001B[39;00m \u001B[38;5;167;01mKeyError\u001B[39;00m \u001B[38;5;28;01mas\u001B[39;00m err:\n",
      "File \u001B[1;32mb:\\code\\ml\\venv\\lib\\site-packages\\pandas\\_libs\\index.pyx:138\u001B[0m, in \u001B[0;36mpandas._libs.index.IndexEngine.get_loc\u001B[1;34m()\u001B[0m\n",
      "File \u001B[1;32mb:\\code\\ml\\venv\\lib\\site-packages\\pandas\\_libs\\index.pyx:165\u001B[0m, in \u001B[0;36mpandas._libs.index.IndexEngine.get_loc\u001B[1;34m()\u001B[0m\n",
      "File \u001B[1;32mpandas\\_libs\\hashtable_class_helper.pxi:5745\u001B[0m, in \u001B[0;36mpandas._libs.hashtable.PyObjectHashTable.get_item\u001B[1;34m()\u001B[0m\n",
      "File \u001B[1;32mpandas\\_libs\\hashtable_class_helper.pxi:5753\u001B[0m, in \u001B[0;36mpandas._libs.hashtable.PyObjectHashTable.get_item\u001B[1;34m()\u001B[0m\n",
      "\u001B[1;31mKeyError\u001B[0m: 'P2'",
      "\nThe above exception was the direct cause of the following exception:\n",
      "\u001B[1;31mKeyError\u001B[0m                                  Traceback (most recent call last)",
      "Cell \u001B[1;32mIn [26], line 6\u001B[0m\n\u001B[0;32m      4\u001B[0m i \u001B[38;5;241m=\u001B[39m \u001B[38;5;241m1\u001B[39m\n\u001B[0;32m      5\u001B[0m \u001B[38;5;28;01mwhile\u001B[39;00m i \u001B[38;5;241m<\u001B[39m \u001B[38;5;241m427\u001B[39m:\n\u001B[1;32m----> 6\u001B[0m     l\u001B[38;5;241m.\u001B[39mextend([\u001B[43mdf\u001B[49m\u001B[43m[\u001B[49m\u001B[38;5;124;43m'\u001B[39;49m\u001B[38;5;124;43mP2\u001B[39;49m\u001B[38;5;124;43m'\u001B[39;49m\u001B[43m]\u001B[49m[i], df[\u001B[38;5;124m'\u001B[39m\u001B[38;5;124mP2\u001B[39m\u001B[38;5;124m'\u001B[39m][i \u001B[38;5;241m+\u001B[39m \u001B[38;5;241m1\u001B[39m], df[\u001B[38;5;124m'\u001B[39m\u001B[38;5;124mP2\u001B[39m\u001B[38;5;124m'\u001B[39m][i \u001B[38;5;241m+\u001B[39m \u001B[38;5;241m2\u001B[39m], df[\u001B[38;5;124m'\u001B[39m\u001B[38;5;124mP2\u001B[39m\u001B[38;5;124m'\u001B[39m][i \u001B[38;5;241m+\u001B[39m \u001B[38;5;241m3\u001B[39m], df[\u001B[38;5;124m'\u001B[39m\u001B[38;5;124mP2\u001B[39m\u001B[38;5;124m'\u001B[39m][i \u001B[38;5;241m+\u001B[39m \u001B[38;5;241m4\u001B[39m]])\n\u001B[0;32m      7\u001B[0m     m\u001B[38;5;241m.\u001B[39mextend([df[\u001B[38;5;124m'\u001B[39m\u001B[38;5;124mmonth\u001B[39m\u001B[38;5;124m'\u001B[39m][i], df[\u001B[38;5;124m'\u001B[39m\u001B[38;5;124mmonth\u001B[39m\u001B[38;5;124m'\u001B[39m][i \u001B[38;5;241m+\u001B[39m \u001B[38;5;241m1\u001B[39m], df[\u001B[38;5;124m'\u001B[39m\u001B[38;5;124mmonth\u001B[39m\u001B[38;5;124m'\u001B[39m][i \u001B[38;5;241m+\u001B[39m \u001B[38;5;241m2\u001B[39m], df[\u001B[38;5;124m'\u001B[39m\u001B[38;5;124mmonth\u001B[39m\u001B[38;5;124m'\u001B[39m][i \u001B[38;5;241m+\u001B[39m \u001B[38;5;241m3\u001B[39m], df[\u001B[38;5;124m'\u001B[39m\u001B[38;5;124mmonth\u001B[39m\u001B[38;5;124m'\u001B[39m][i \u001B[38;5;241m+\u001B[39m \u001B[38;5;241m4\u001B[39m]])\n\u001B[0;32m      8\u001B[0m     i \u001B[38;5;241m=\u001B[39m i \u001B[38;5;241m+\u001B[39m \u001B[38;5;241m12\u001B[39m\n",
      "File \u001B[1;32mb:\\code\\ml\\venv\\lib\\site-packages\\pandas\\core\\frame.py:3805\u001B[0m, in \u001B[0;36mDataFrame.__getitem__\u001B[1;34m(self, key)\u001B[0m\n\u001B[0;32m   3803\u001B[0m \u001B[38;5;28;01mif\u001B[39;00m \u001B[38;5;28mself\u001B[39m\u001B[38;5;241m.\u001B[39mcolumns\u001B[38;5;241m.\u001B[39mnlevels \u001B[38;5;241m>\u001B[39m \u001B[38;5;241m1\u001B[39m:\n\u001B[0;32m   3804\u001B[0m     \u001B[38;5;28;01mreturn\u001B[39;00m \u001B[38;5;28mself\u001B[39m\u001B[38;5;241m.\u001B[39m_getitem_multilevel(key)\n\u001B[1;32m-> 3805\u001B[0m indexer \u001B[38;5;241m=\u001B[39m \u001B[38;5;28;43mself\u001B[39;49m\u001B[38;5;241;43m.\u001B[39;49m\u001B[43mcolumns\u001B[49m\u001B[38;5;241;43m.\u001B[39;49m\u001B[43mget_loc\u001B[49m\u001B[43m(\u001B[49m\u001B[43mkey\u001B[49m\u001B[43m)\u001B[49m\n\u001B[0;32m   3806\u001B[0m \u001B[38;5;28;01mif\u001B[39;00m is_integer(indexer):\n\u001B[0;32m   3807\u001B[0m     indexer \u001B[38;5;241m=\u001B[39m [indexer]\n",
      "File \u001B[1;32mb:\\code\\ml\\venv\\lib\\site-packages\\pandas\\core\\indexes\\base.py:3802\u001B[0m, in \u001B[0;36mIndex.get_loc\u001B[1;34m(self, key, method, tolerance)\u001B[0m\n\u001B[0;32m   3800\u001B[0m     \u001B[38;5;28;01mreturn\u001B[39;00m \u001B[38;5;28mself\u001B[39m\u001B[38;5;241m.\u001B[39m_engine\u001B[38;5;241m.\u001B[39mget_loc(casted_key)\n\u001B[0;32m   3801\u001B[0m \u001B[38;5;28;01mexcept\u001B[39;00m \u001B[38;5;167;01mKeyError\u001B[39;00m \u001B[38;5;28;01mas\u001B[39;00m err:\n\u001B[1;32m-> 3802\u001B[0m     \u001B[38;5;28;01mraise\u001B[39;00m \u001B[38;5;167;01mKeyError\u001B[39;00m(key) \u001B[38;5;28;01mfrom\u001B[39;00m \u001B[38;5;21;01merr\u001B[39;00m\n\u001B[0;32m   3803\u001B[0m \u001B[38;5;28;01mexcept\u001B[39;00m \u001B[38;5;167;01mTypeError\u001B[39;00m:\n\u001B[0;32m   3804\u001B[0m     \u001B[38;5;66;03m# If we have a listlike key, _check_indexing_error will raise\u001B[39;00m\n\u001B[0;32m   3805\u001B[0m     \u001B[38;5;66;03m#  InvalidIndexError. Otherwise we fall through and re-raise\u001B[39;00m\n\u001B[0;32m   3806\u001B[0m     \u001B[38;5;66;03m#  the TypeError.\u001B[39;00m\n\u001B[0;32m   3807\u001B[0m     \u001B[38;5;28mself\u001B[39m\u001B[38;5;241m.\u001B[39m_check_indexing_error(key)\n",
      "\u001B[1;31mKeyError\u001B[0m: 'P2'"
     ]
    }
   ],
   "source": [
    "# only for p2\n",
    "l = []\n",
    "m = []\n",
    "i = 1\n",
    "while i < 427:\n",
    "    l.extend([df['P2'][i], df['P2'][i + 1], df['P2'][i + 2], df['P2'][i + 3], df['P2'][i + 4]])\n",
    "    m.extend([df['month'][i], df['month'][i + 1], df['month'][i + 2], df['month'][i + 3], df['month'][i + 4]])\n",
    "    i = i + 12"
   ],
   "metadata": {
    "collapsed": false
   }
  },
  {
   "cell_type": "code",
   "execution_count": 27,
   "outputs": [],
   "source": [
    "#only P\n",
    "l = []\n",
    "m = []\n",
    "i = 1\n",
    "while i < 427:\n",
    "    l.extend([df['P'][i], df['P'][i + 1], df['P'][i + 2], df['P'][i + 3], df['P'][i + 4]])\n",
    "    m.extend([df['month'][i], df['month'][i + 1], df['month'][i + 2], df['month'][i + 3], df['month'][i + 4]])\n",
    "    i = i + 12"
   ],
   "metadata": {
    "collapsed": false
   }
  },
  {
   "cell_type": "code",
   "execution_count": 28,
   "outputs": [],
   "source": [
    "df2 = pd.DataFrame()\n",
    "df2['Month'] = m\n",
    "df2['Precipitation'] = l"
   ],
   "metadata": {
    "collapsed": false
   }
  },
  {
   "cell_type": "code",
   "execution_count": 29,
   "outputs": [
    {
     "data": {
      "text/plain": "         Month  Precipitation\n0   1985-06-01            5.1\n1   1985-07-01            4.3\n2   1985-08-01           10.9\n3   1985-09-01           28.0\n4   1985-10-01           90.0\n..         ...            ...\n175 2020-06-01            3.4\n176 2020-07-01            9.1\n177 2020-08-01            5.7\n178 2020-09-01           17.6\n179 2020-10-01          158.7\n\n[180 rows x 2 columns]",
      "text/html": "<div>\n<style scoped>\n    .dataframe tbody tr th:only-of-type {\n        vertical-align: middle;\n    }\n\n    .dataframe tbody tr th {\n        vertical-align: top;\n    }\n\n    .dataframe thead th {\n        text-align: right;\n    }\n</style>\n<table border=\"1\" class=\"dataframe\">\n  <thead>\n    <tr style=\"text-align: right;\">\n      <th></th>\n      <th>Month</th>\n      <th>Precipitation</th>\n    </tr>\n  </thead>\n  <tbody>\n    <tr>\n      <th>0</th>\n      <td>1985-06-01</td>\n      <td>5.1</td>\n    </tr>\n    <tr>\n      <th>1</th>\n      <td>1985-07-01</td>\n      <td>4.3</td>\n    </tr>\n    <tr>\n      <th>2</th>\n      <td>1985-08-01</td>\n      <td>10.9</td>\n    </tr>\n    <tr>\n      <th>3</th>\n      <td>1985-09-01</td>\n      <td>28.0</td>\n    </tr>\n    <tr>\n      <th>4</th>\n      <td>1985-10-01</td>\n      <td>90.0</td>\n    </tr>\n    <tr>\n      <th>...</th>\n      <td>...</td>\n      <td>...</td>\n    </tr>\n    <tr>\n      <th>175</th>\n      <td>2020-06-01</td>\n      <td>3.4</td>\n    </tr>\n    <tr>\n      <th>176</th>\n      <td>2020-07-01</td>\n      <td>9.1</td>\n    </tr>\n    <tr>\n      <th>177</th>\n      <td>2020-08-01</td>\n      <td>5.7</td>\n    </tr>\n    <tr>\n      <th>178</th>\n      <td>2020-09-01</td>\n      <td>17.6</td>\n    </tr>\n    <tr>\n      <th>179</th>\n      <td>2020-10-01</td>\n      <td>158.7</td>\n    </tr>\n  </tbody>\n</table>\n<p>180 rows × 2 columns</p>\n</div>"
     },
     "execution_count": 29,
     "metadata": {},
     "output_type": "execute_result"
    }
   ],
   "source": [
    "df2"
   ],
   "metadata": {
    "collapsed": false
   }
  },
  {
   "cell_type": "code",
   "execution_count": 30,
   "outputs": [],
   "source": [
    "df3 = pd.DataFrame()"
   ],
   "metadata": {
    "collapsed": false
   }
  },
  {
   "cell_type": "code",
   "execution_count": 31,
   "outputs": [],
   "source": [
    "y = list(range(1986, 2021))\n",
    "x = 0\n",
    "l = []\n",
    "for i in range(0, 176, 5):\n",
    "    l.append((df2['Precipitation'][i] + df2['Precipitation'][i + 1] + df2['Precipitation'][i + 2] +\n",
    "              df2['Precipitation'][i + 3] + df2['Precipitation'][i + 4]) / 5)\n",
    "    x = x + 1"
   ],
   "metadata": {
    "collapsed": false
   }
  },
  {
   "cell_type": "code",
   "execution_count": 32,
   "outputs": [],
   "source": [
    "df3['Precipitation']=l"
   ],
   "metadata": {
    "collapsed": false
   }
  },
  {
   "cell_type": "code",
   "execution_count": 33,
   "outputs": [
    {
     "data": {
      "text/plain": "    Precipitation\n0           27.66\n1           24.10\n2           29.48\n3           18.20\n4           25.26\n5           25.14\n6           36.90\n7           54.90\n8           30.06\n9           22.98\n10          27.20\n11          33.04\n12          45.62\n13          19.16\n14          40.22\n15          42.62\n16          18.98\n17          36.88\n18          44.68\n19          29.58\n20          26.16\n21          36.42\n22          27.88\n23          43.02\n24          38.02\n25          29.82\n26          21.86\n27          33.46\n28          41.00\n29          29.78\n30          26.76\n31          31.26\n32          35.50\n33          27.22\n34          35.20\n35          38.90",
      "text/html": "<div>\n<style scoped>\n    .dataframe tbody tr th:only-of-type {\n        vertical-align: middle;\n    }\n\n    .dataframe tbody tr th {\n        vertical-align: top;\n    }\n\n    .dataframe thead th {\n        text-align: right;\n    }\n</style>\n<table border=\"1\" class=\"dataframe\">\n  <thead>\n    <tr style=\"text-align: right;\">\n      <th></th>\n      <th>Precipitation</th>\n    </tr>\n  </thead>\n  <tbody>\n    <tr>\n      <th>0</th>\n      <td>27.66</td>\n    </tr>\n    <tr>\n      <th>1</th>\n      <td>24.10</td>\n    </tr>\n    <tr>\n      <th>2</th>\n      <td>29.48</td>\n    </tr>\n    <tr>\n      <th>3</th>\n      <td>18.20</td>\n    </tr>\n    <tr>\n      <th>4</th>\n      <td>25.26</td>\n    </tr>\n    <tr>\n      <th>5</th>\n      <td>25.14</td>\n    </tr>\n    <tr>\n      <th>6</th>\n      <td>36.90</td>\n    </tr>\n    <tr>\n      <th>7</th>\n      <td>54.90</td>\n    </tr>\n    <tr>\n      <th>8</th>\n      <td>30.06</td>\n    </tr>\n    <tr>\n      <th>9</th>\n      <td>22.98</td>\n    </tr>\n    <tr>\n      <th>10</th>\n      <td>27.20</td>\n    </tr>\n    <tr>\n      <th>11</th>\n      <td>33.04</td>\n    </tr>\n    <tr>\n      <th>12</th>\n      <td>45.62</td>\n    </tr>\n    <tr>\n      <th>13</th>\n      <td>19.16</td>\n    </tr>\n    <tr>\n      <th>14</th>\n      <td>40.22</td>\n    </tr>\n    <tr>\n      <th>15</th>\n      <td>42.62</td>\n    </tr>\n    <tr>\n      <th>16</th>\n      <td>18.98</td>\n    </tr>\n    <tr>\n      <th>17</th>\n      <td>36.88</td>\n    </tr>\n    <tr>\n      <th>18</th>\n      <td>44.68</td>\n    </tr>\n    <tr>\n      <th>19</th>\n      <td>29.58</td>\n    </tr>\n    <tr>\n      <th>20</th>\n      <td>26.16</td>\n    </tr>\n    <tr>\n      <th>21</th>\n      <td>36.42</td>\n    </tr>\n    <tr>\n      <th>22</th>\n      <td>27.88</td>\n    </tr>\n    <tr>\n      <th>23</th>\n      <td>43.02</td>\n    </tr>\n    <tr>\n      <th>24</th>\n      <td>38.02</td>\n    </tr>\n    <tr>\n      <th>25</th>\n      <td>29.82</td>\n    </tr>\n    <tr>\n      <th>26</th>\n      <td>21.86</td>\n    </tr>\n    <tr>\n      <th>27</th>\n      <td>33.46</td>\n    </tr>\n    <tr>\n      <th>28</th>\n      <td>41.00</td>\n    </tr>\n    <tr>\n      <th>29</th>\n      <td>29.78</td>\n    </tr>\n    <tr>\n      <th>30</th>\n      <td>26.76</td>\n    </tr>\n    <tr>\n      <th>31</th>\n      <td>31.26</td>\n    </tr>\n    <tr>\n      <th>32</th>\n      <td>35.50</td>\n    </tr>\n    <tr>\n      <th>33</th>\n      <td>27.22</td>\n    </tr>\n    <tr>\n      <th>34</th>\n      <td>35.20</td>\n    </tr>\n    <tr>\n      <th>35</th>\n      <td>38.90</td>\n    </tr>\n  </tbody>\n</table>\n</div>"
     },
     "execution_count": 33,
     "metadata": {},
     "output_type": "execute_result"
    }
   ],
   "source": [
    "df3"
   ],
   "metadata": {
    "collapsed": false
   }
  },
  {
   "cell_type": "code",
   "execution_count": null,
   "outputs": [],
   "source": [],
   "metadata": {
    "collapsed": false
   }
  }
 ],
 "metadata": {
  "kernelspec": {
   "display_name": "Python 3",
   "language": "python",
   "name": "python3"
  },
  "language_info": {
   "codemirror_mode": {
    "name": "ipython",
    "version": 2
   },
   "file_extension": ".py",
   "mimetype": "text/x-python",
   "name": "python",
   "nbconvert_exporter": "python",
   "pygments_lexer": "ipython2",
   "version": "2.7.6"
  }
 },
 "nbformat": 4,
 "nbformat_minor": 0
}
