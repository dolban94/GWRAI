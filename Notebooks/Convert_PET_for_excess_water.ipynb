{
 "cells": [
  {
   "cell_type": "code",
   "execution_count": 2,
   "outputs": [],
   "source": [
    "import numpy as np\n",
    "import pandas as pd\n",
    "import datetime"
   ],
   "metadata": {
    "collapsed": false
   }
  },
  {
   "cell_type": "code",
   "execution_count": 29,
   "outputs": [
    {
     "ename": "ParserError",
     "evalue": "Error tokenizing data. C error: Expected 3 fields in line 4, saw 7\n",
     "output_type": "error",
     "traceback": [
      "\u001B[1;31m---------------------------------------------------------------------------\u001B[0m",
      "\u001B[1;31mParserError\u001B[0m                               Traceback (most recent call last)",
      "Cell \u001B[1;32mIn [29], line 1\u001B[0m\n\u001B[1;32m----> 1\u001B[0m df \u001B[38;5;241m=\u001B[39m \u001B[43mpd\u001B[49m\u001B[38;5;241;43m.\u001B[39;49m\u001B[43mread_csv\u001B[49m\u001B[43m(\u001B[49m\u001B[38;5;124;43m\"\u001B[39;49m\u001B[38;5;124;43mB:\u001B[39;49m\u001B[38;5;124;43m\\\u001B[39;49m\u001B[38;5;124;43mGroundwaterRech\u001B[39;49m\u001B[38;5;124;43m\\\u001B[39;49m\u001B[38;5;124;43mGithubRepo\u001B[39;49m\u001B[38;5;124;43m\\\u001B[39;49m\u001B[38;5;124;43mRestart\u001B[39;49m\u001B[38;5;124;43m\\\u001B[39;49m\u001B[38;5;124;43mDataset\u001B[39;49m\u001B[38;5;124;43m\\\u001B[39;49m\u001B[38;5;124;43mDistrict wise PET\u001B[39;49m\u001B[38;5;124;43m\\\u001B[39;49m\u001B[38;5;124;43mDistrict wise PET\u001B[39;49m\u001B[38;5;124;43m\\\u001B[39;49m\u001B[38;5;124;43mBarnala.csv\u001B[39;49m\u001B[38;5;124;43m\"\u001B[39;49m\u001B[43m,\u001B[49m\n\u001B[0;32m      2\u001B[0m \u001B[43m                   \u001B[49m\u001B[43m)\u001B[49m\n",
      "File \u001B[1;32mb:\\code\\ml\\venv\\lib\\site-packages\\pandas\\util\\_decorators.py:211\u001B[0m, in \u001B[0;36mdeprecate_kwarg.<locals>._deprecate_kwarg.<locals>.wrapper\u001B[1;34m(*args, **kwargs)\u001B[0m\n\u001B[0;32m    209\u001B[0m     \u001B[38;5;28;01melse\u001B[39;00m:\n\u001B[0;32m    210\u001B[0m         kwargs[new_arg_name] \u001B[38;5;241m=\u001B[39m new_arg_value\n\u001B[1;32m--> 211\u001B[0m \u001B[38;5;28;01mreturn\u001B[39;00m func(\u001B[38;5;241m*\u001B[39margs, \u001B[38;5;241m*\u001B[39m\u001B[38;5;241m*\u001B[39mkwargs)\n",
      "File \u001B[1;32mb:\\code\\ml\\venv\\lib\\site-packages\\pandas\\util\\_decorators.py:317\u001B[0m, in \u001B[0;36mdeprecate_nonkeyword_arguments.<locals>.decorate.<locals>.wrapper\u001B[1;34m(*args, **kwargs)\u001B[0m\n\u001B[0;32m    311\u001B[0m \u001B[38;5;28;01mif\u001B[39;00m \u001B[38;5;28mlen\u001B[39m(args) \u001B[38;5;241m>\u001B[39m num_allow_args:\n\u001B[0;32m    312\u001B[0m     warnings\u001B[38;5;241m.\u001B[39mwarn(\n\u001B[0;32m    313\u001B[0m         msg\u001B[38;5;241m.\u001B[39mformat(arguments\u001B[38;5;241m=\u001B[39marguments),\n\u001B[0;32m    314\u001B[0m         \u001B[38;5;167;01mFutureWarning\u001B[39;00m,\n\u001B[0;32m    315\u001B[0m         stacklevel\u001B[38;5;241m=\u001B[39mfind_stack_level(inspect\u001B[38;5;241m.\u001B[39mcurrentframe()),\n\u001B[0;32m    316\u001B[0m     )\n\u001B[1;32m--> 317\u001B[0m \u001B[38;5;28;01mreturn\u001B[39;00m func(\u001B[38;5;241m*\u001B[39margs, \u001B[38;5;241m*\u001B[39m\u001B[38;5;241m*\u001B[39mkwargs)\n",
      "File \u001B[1;32mb:\\code\\ml\\venv\\lib\\site-packages\\pandas\\io\\parsers\\readers.py:950\u001B[0m, in \u001B[0;36mread_csv\u001B[1;34m(filepath_or_buffer, sep, delimiter, header, names, index_col, usecols, squeeze, prefix, mangle_dupe_cols, dtype, engine, converters, true_values, false_values, skipinitialspace, skiprows, skipfooter, nrows, na_values, keep_default_na, na_filter, verbose, skip_blank_lines, parse_dates, infer_datetime_format, keep_date_col, date_parser, dayfirst, cache_dates, iterator, chunksize, compression, thousands, decimal, lineterminator, quotechar, quoting, doublequote, escapechar, comment, encoding, encoding_errors, dialect, error_bad_lines, warn_bad_lines, on_bad_lines, delim_whitespace, low_memory, memory_map, float_precision, storage_options)\u001B[0m\n\u001B[0;32m    935\u001B[0m kwds_defaults \u001B[38;5;241m=\u001B[39m _refine_defaults_read(\n\u001B[0;32m    936\u001B[0m     dialect,\n\u001B[0;32m    937\u001B[0m     delimiter,\n\u001B[1;32m   (...)\u001B[0m\n\u001B[0;32m    946\u001B[0m     defaults\u001B[38;5;241m=\u001B[39m{\u001B[38;5;124m\"\u001B[39m\u001B[38;5;124mdelimiter\u001B[39m\u001B[38;5;124m\"\u001B[39m: \u001B[38;5;124m\"\u001B[39m\u001B[38;5;124m,\u001B[39m\u001B[38;5;124m\"\u001B[39m},\n\u001B[0;32m    947\u001B[0m )\n\u001B[0;32m    948\u001B[0m kwds\u001B[38;5;241m.\u001B[39mupdate(kwds_defaults)\n\u001B[1;32m--> 950\u001B[0m \u001B[38;5;28;01mreturn\u001B[39;00m \u001B[43m_read\u001B[49m\u001B[43m(\u001B[49m\u001B[43mfilepath_or_buffer\u001B[49m\u001B[43m,\u001B[49m\u001B[43m \u001B[49m\u001B[43mkwds\u001B[49m\u001B[43m)\u001B[49m\n",
      "File \u001B[1;32mb:\\code\\ml\\venv\\lib\\site-packages\\pandas\\io\\parsers\\readers.py:611\u001B[0m, in \u001B[0;36m_read\u001B[1;34m(filepath_or_buffer, kwds)\u001B[0m\n\u001B[0;32m    608\u001B[0m     \u001B[38;5;28;01mreturn\u001B[39;00m parser\n\u001B[0;32m    610\u001B[0m \u001B[38;5;28;01mwith\u001B[39;00m parser:\n\u001B[1;32m--> 611\u001B[0m     \u001B[38;5;28;01mreturn\u001B[39;00m \u001B[43mparser\u001B[49m\u001B[38;5;241;43m.\u001B[39;49m\u001B[43mread\u001B[49m\u001B[43m(\u001B[49m\u001B[43mnrows\u001B[49m\u001B[43m)\u001B[49m\n",
      "File \u001B[1;32mb:\\code\\ml\\venv\\lib\\site-packages\\pandas\\io\\parsers\\readers.py:1772\u001B[0m, in \u001B[0;36mTextFileReader.read\u001B[1;34m(self, nrows)\u001B[0m\n\u001B[0;32m   1765\u001B[0m nrows \u001B[38;5;241m=\u001B[39m validate_integer(\u001B[38;5;124m\"\u001B[39m\u001B[38;5;124mnrows\u001B[39m\u001B[38;5;124m\"\u001B[39m, nrows)\n\u001B[0;32m   1766\u001B[0m \u001B[38;5;28;01mtry\u001B[39;00m:\n\u001B[0;32m   1767\u001B[0m     \u001B[38;5;66;03m# error: \"ParserBase\" has no attribute \"read\"\u001B[39;00m\n\u001B[0;32m   1768\u001B[0m     (\n\u001B[0;32m   1769\u001B[0m         index,\n\u001B[0;32m   1770\u001B[0m         columns,\n\u001B[0;32m   1771\u001B[0m         col_dict,\n\u001B[1;32m-> 1772\u001B[0m     ) \u001B[38;5;241m=\u001B[39m \u001B[38;5;28;43mself\u001B[39;49m\u001B[38;5;241;43m.\u001B[39;49m\u001B[43m_engine\u001B[49m\u001B[38;5;241;43m.\u001B[39;49m\u001B[43mread\u001B[49m\u001B[43m(\u001B[49m\u001B[43m  \u001B[49m\u001B[38;5;66;43;03m# type: ignore[attr-defined]\u001B[39;49;00m\n\u001B[0;32m   1773\u001B[0m \u001B[43m        \u001B[49m\u001B[43mnrows\u001B[49m\n\u001B[0;32m   1774\u001B[0m \u001B[43m    \u001B[49m\u001B[43m)\u001B[49m\n\u001B[0;32m   1775\u001B[0m \u001B[38;5;28;01mexcept\u001B[39;00m \u001B[38;5;167;01mException\u001B[39;00m:\n\u001B[0;32m   1776\u001B[0m     \u001B[38;5;28mself\u001B[39m\u001B[38;5;241m.\u001B[39mclose()\n",
      "File \u001B[1;32mb:\\code\\ml\\venv\\lib\\site-packages\\pandas\\io\\parsers\\c_parser_wrapper.py:243\u001B[0m, in \u001B[0;36mCParserWrapper.read\u001B[1;34m(self, nrows)\u001B[0m\n\u001B[0;32m    241\u001B[0m \u001B[38;5;28;01mtry\u001B[39;00m:\n\u001B[0;32m    242\u001B[0m     \u001B[38;5;28;01mif\u001B[39;00m \u001B[38;5;28mself\u001B[39m\u001B[38;5;241m.\u001B[39mlow_memory:\n\u001B[1;32m--> 243\u001B[0m         chunks \u001B[38;5;241m=\u001B[39m \u001B[38;5;28;43mself\u001B[39;49m\u001B[38;5;241;43m.\u001B[39;49m\u001B[43m_reader\u001B[49m\u001B[38;5;241;43m.\u001B[39;49m\u001B[43mread_low_memory\u001B[49m\u001B[43m(\u001B[49m\u001B[43mnrows\u001B[49m\u001B[43m)\u001B[49m\n\u001B[0;32m    244\u001B[0m         \u001B[38;5;66;03m# destructive to chunks\u001B[39;00m\n\u001B[0;32m    245\u001B[0m         data \u001B[38;5;241m=\u001B[39m _concatenate_chunks(chunks)\n",
      "File \u001B[1;32mb:\\code\\ml\\venv\\lib\\site-packages\\pandas\\_libs\\parsers.pyx:808\u001B[0m, in \u001B[0;36mpandas._libs.parsers.TextReader.read_low_memory\u001B[1;34m()\u001B[0m\n",
      "File \u001B[1;32mb:\\code\\ml\\venv\\lib\\site-packages\\pandas\\_libs\\parsers.pyx:866\u001B[0m, in \u001B[0;36mpandas._libs.parsers.TextReader._read_rows\u001B[1;34m()\u001B[0m\n",
      "File \u001B[1;32mb:\\code\\ml\\venv\\lib\\site-packages\\pandas\\_libs\\parsers.pyx:852\u001B[0m, in \u001B[0;36mpandas._libs.parsers.TextReader._tokenize_rows\u001B[1;34m()\u001B[0m\n",
      "File \u001B[1;32mb:\\code\\ml\\venv\\lib\\site-packages\\pandas\\_libs\\parsers.pyx:1973\u001B[0m, in \u001B[0;36mpandas._libs.parsers.raise_parser_error\u001B[1;34m()\u001B[0m\n",
      "\u001B[1;31mParserError\u001B[0m: Error tokenizing data. C error: Expected 3 fields in line 4, saw 7\n"
     ]
    }
   ],
   "source": [
    "df = pd.read_csv(\"B:\\GroundwaterRech\\GithubRepo\\Restart\\Dataset\\District wise PET\\District wise PET\\Barnala.csv\",\n",
    "                   )"
   ],
   "metadata": {
    "collapsed": false
   }
  },
  {
   "cell_type": "code",
   "execution_count": 12,
   "outputs": [
    {
     "data": {
      "text/plain": "      P1   P2   month\n0    6.2  6.3  May-85\n1    6.5  6.5  Jun-85\n2    4.1  4.1  Jul-85\n3    4.1  4.1  Aug-85\n4    4.4  4.3  Sep-85\n..   ...  ...     ...\n829  0.0  0.0  Jun-54\n830  0.0  0.0  Jul-54\n831  0.0  0.0  Aug-54\n832  0.0  0.0  Sep-54\n833  0.0  0.0  Oct-54\n\n[834 rows x 3 columns]",
      "text/html": "<div>\n<style scoped>\n    .dataframe tbody tr th:only-of-type {\n        vertical-align: middle;\n    }\n\n    .dataframe tbody tr th {\n        vertical-align: top;\n    }\n\n    .dataframe thead th {\n        text-align: right;\n    }\n</style>\n<table border=\"1\" class=\"dataframe\">\n  <thead>\n    <tr style=\"text-align: right;\">\n      <th></th>\n      <th>P1</th>\n      <th>P2</th>\n      <th>month</th>\n    </tr>\n  </thead>\n  <tbody>\n    <tr>\n      <th>0</th>\n      <td>6.2</td>\n      <td>6.3</td>\n      <td>May-85</td>\n    </tr>\n    <tr>\n      <th>1</th>\n      <td>6.5</td>\n      <td>6.5</td>\n      <td>Jun-85</td>\n    </tr>\n    <tr>\n      <th>2</th>\n      <td>4.1</td>\n      <td>4.1</td>\n      <td>Jul-85</td>\n    </tr>\n    <tr>\n      <th>3</th>\n      <td>4.1</td>\n      <td>4.1</td>\n      <td>Aug-85</td>\n    </tr>\n    <tr>\n      <th>4</th>\n      <td>4.4</td>\n      <td>4.3</td>\n      <td>Sep-85</td>\n    </tr>\n    <tr>\n      <th>...</th>\n      <td>...</td>\n      <td>...</td>\n      <td>...</td>\n    </tr>\n    <tr>\n      <th>829</th>\n      <td>0.0</td>\n      <td>0.0</td>\n      <td>Jun-54</td>\n    </tr>\n    <tr>\n      <th>830</th>\n      <td>0.0</td>\n      <td>0.0</td>\n      <td>Jul-54</td>\n    </tr>\n    <tr>\n      <th>831</th>\n      <td>0.0</td>\n      <td>0.0</td>\n      <td>Aug-54</td>\n    </tr>\n    <tr>\n      <th>832</th>\n      <td>0.0</td>\n      <td>0.0</td>\n      <td>Sep-54</td>\n    </tr>\n    <tr>\n      <th>833</th>\n      <td>0.0</td>\n      <td>0.0</td>\n      <td>Oct-54</td>\n    </tr>\n  </tbody>\n</table>\n<p>834 rows × 3 columns</p>\n</div>"
     },
     "execution_count": 12,
     "metadata": {},
     "output_type": "execute_result"
    }
   ],
   "source": [
    "df"
   ],
   "metadata": {
    "collapsed": false
   }
  },
  {
   "cell_type": "code",
   "execution_count": 13,
   "outputs": [],
   "source": [
    "#only for P1\n",
    "l = []\n",
    "m = []\n",
    "i = 1\n",
    "while i < 427:\n",
    "    l.extend([df['P1'][i], df['P1'][i + 1], df['P1'][i + 2], df['P1'][i + 3], df['P1'][i + 4]])\n",
    "    m.extend([df['month'][i], df['month'][i + 1], df['month'][i + 2], df['month'][i + 3], df['month'][i + 4]])\n",
    "    i = i + 12"
   ],
   "metadata": {
    "collapsed": false
   }
  },
  {
   "cell_type": "code",
   "execution_count": 20,
   "outputs": [],
   "source": [
    "# only for p2\n",
    "l = []\n",
    "m = []\n",
    "i = 1\n",
    "while i < 427:\n",
    "    l.extend([df['P2'][i], df['P2'][i + 1], df['P2'][i + 2], df['P2'][i + 3], df['P2'][i + 4]])\n",
    "    m.extend([df['month'][i], df['month'][i + 1], df['month'][i + 2], df['month'][i + 3], df['month'][i + 4]])\n",
    "    i = i + 12"
   ],
   "metadata": {
    "collapsed": false
   }
  },
  {
   "cell_type": "code",
   "execution_count": null,
   "outputs": [],
   "source": [
    "#only P\n",
    "l = []\n",
    "m = []\n",
    "i = 1\n",
    "while i < 427:\n",
    "    l.extend([df['P'][i], df['P'][i + 1], df['P'][i + 2], df['P'][i + 3], df['P'][i + 4]])\n",
    "    m.extend([df['month'][i], df['month'][i + 1], df['month'][i + 2], df['month'][i + 3], df['month'][i + 4]])\n",
    "    i = i + 12"
   ],
   "metadata": {
    "collapsed": false
   }
  },
  {
   "cell_type": "code",
   "execution_count": 21,
   "outputs": [],
   "source": [
    "df2 = pd.DataFrame()\n",
    "df2['Month'] = m\n",
    "df2['Precipitation'] = l"
   ],
   "metadata": {
    "collapsed": false
   }
  },
  {
   "cell_type": "code",
   "execution_count": 22,
   "outputs": [
    {
     "data": {
      "text/plain": "      Month  Precipitation\n0    Jun-85            6.5\n1    Jul-85            4.1\n2    Aug-85            4.1\n3    Sep-85            4.3\n4    Oct-85            3.1\n..      ...            ...\n175  Jun-20            0.0\n176  Jul-20            0.0\n177  Aug-20            0.0\n178  Sep-20            0.0\n179  Oct-20            0.0\n\n[180 rows x 2 columns]",
      "text/html": "<div>\n<style scoped>\n    .dataframe tbody tr th:only-of-type {\n        vertical-align: middle;\n    }\n\n    .dataframe tbody tr th {\n        vertical-align: top;\n    }\n\n    .dataframe thead th {\n        text-align: right;\n    }\n</style>\n<table border=\"1\" class=\"dataframe\">\n  <thead>\n    <tr style=\"text-align: right;\">\n      <th></th>\n      <th>Month</th>\n      <th>Precipitation</th>\n    </tr>\n  </thead>\n  <tbody>\n    <tr>\n      <th>0</th>\n      <td>Jun-85</td>\n      <td>6.5</td>\n    </tr>\n    <tr>\n      <th>1</th>\n      <td>Jul-85</td>\n      <td>4.1</td>\n    </tr>\n    <tr>\n      <th>2</th>\n      <td>Aug-85</td>\n      <td>4.1</td>\n    </tr>\n    <tr>\n      <th>3</th>\n      <td>Sep-85</td>\n      <td>4.3</td>\n    </tr>\n    <tr>\n      <th>4</th>\n      <td>Oct-85</td>\n      <td>3.1</td>\n    </tr>\n    <tr>\n      <th>...</th>\n      <td>...</td>\n      <td>...</td>\n    </tr>\n    <tr>\n      <th>175</th>\n      <td>Jun-20</td>\n      <td>0.0</td>\n    </tr>\n    <tr>\n      <th>176</th>\n      <td>Jul-20</td>\n      <td>0.0</td>\n    </tr>\n    <tr>\n      <th>177</th>\n      <td>Aug-20</td>\n      <td>0.0</td>\n    </tr>\n    <tr>\n      <th>178</th>\n      <td>Sep-20</td>\n      <td>0.0</td>\n    </tr>\n    <tr>\n      <th>179</th>\n      <td>Oct-20</td>\n      <td>0.0</td>\n    </tr>\n  </tbody>\n</table>\n<p>180 rows × 2 columns</p>\n</div>"
     },
     "execution_count": 22,
     "metadata": {},
     "output_type": "execute_result"
    }
   ],
   "source": [
    "df2"
   ],
   "metadata": {
    "collapsed": false
   }
  },
  {
   "cell_type": "code",
   "execution_count": 23,
   "outputs": [],
   "source": [
    "df3 = pd.DataFrame()"
   ],
   "metadata": {
    "collapsed": false
   }
  },
  {
   "cell_type": "code",
   "execution_count": 24,
   "outputs": [],
   "source": [
    "y = list(range(1986, 2021))\n",
    "x = 0\n",
    "l = []\n",
    "for i in range(0, 176, 5):\n",
    "    l.append(df2['Precipitation'][i] + df2['Precipitation'][i + 1] + df2['Precipitation'][i + 2] +\n",
    "              df2['Precipitation'][i + 3] + df2['Precipitation'][i + 4])\n",
    "    x = x + 1"
   ],
   "metadata": {
    "collapsed": false
   }
  },
  {
   "cell_type": "code",
   "execution_count": 25,
   "outputs": [],
   "source": [
    "df3['Precipitation']=l"
   ],
   "metadata": {
    "collapsed": false
   }
  },
  {
   "cell_type": "code",
   "execution_count": 27,
   "outputs": [
    {
     "data": {
      "text/plain": "    Precipitation\n0            22.1\n1            22.5\n2            23.3\n3            21.6\n4            22.1\n5            21.3\n6            22.6\n7            21.6\n8            22.3\n9            20.7\n10           21.9\n11           20.8\n12           20.8\n13           21.8\n14           22.4\n15           21.5\n16           21.7\n17           21.8\n18           20.8\n19           21.9\n20           22.0\n21           21.2\n22           21.8\n23           20.5\n24           22.3\n25           19.8\n26           21.0\n27           20.8\n28           21.0\n29           21.5\n30           20.6\n31           20.7\n32           21.0\n33           19.9\n34           20.9\n35            0.0",
      "text/html": "<div>\n<style scoped>\n    .dataframe tbody tr th:only-of-type {\n        vertical-align: middle;\n    }\n\n    .dataframe tbody tr th {\n        vertical-align: top;\n    }\n\n    .dataframe thead th {\n        text-align: right;\n    }\n</style>\n<table border=\"1\" class=\"dataframe\">\n  <thead>\n    <tr style=\"text-align: right;\">\n      <th></th>\n      <th>Precipitation</th>\n    </tr>\n  </thead>\n  <tbody>\n    <tr>\n      <th>0</th>\n      <td>22.1</td>\n    </tr>\n    <tr>\n      <th>1</th>\n      <td>22.5</td>\n    </tr>\n    <tr>\n      <th>2</th>\n      <td>23.3</td>\n    </tr>\n    <tr>\n      <th>3</th>\n      <td>21.6</td>\n    </tr>\n    <tr>\n      <th>4</th>\n      <td>22.1</td>\n    </tr>\n    <tr>\n      <th>5</th>\n      <td>21.3</td>\n    </tr>\n    <tr>\n      <th>6</th>\n      <td>22.6</td>\n    </tr>\n    <tr>\n      <th>7</th>\n      <td>21.6</td>\n    </tr>\n    <tr>\n      <th>8</th>\n      <td>22.3</td>\n    </tr>\n    <tr>\n      <th>9</th>\n      <td>20.7</td>\n    </tr>\n    <tr>\n      <th>10</th>\n      <td>21.9</td>\n    </tr>\n    <tr>\n      <th>11</th>\n      <td>20.8</td>\n    </tr>\n    <tr>\n      <th>12</th>\n      <td>20.8</td>\n    </tr>\n    <tr>\n      <th>13</th>\n      <td>21.8</td>\n    </tr>\n    <tr>\n      <th>14</th>\n      <td>22.4</td>\n    </tr>\n    <tr>\n      <th>15</th>\n      <td>21.5</td>\n    </tr>\n    <tr>\n      <th>16</th>\n      <td>21.7</td>\n    </tr>\n    <tr>\n      <th>17</th>\n      <td>21.8</td>\n    </tr>\n    <tr>\n      <th>18</th>\n      <td>20.8</td>\n    </tr>\n    <tr>\n      <th>19</th>\n      <td>21.9</td>\n    </tr>\n    <tr>\n      <th>20</th>\n      <td>22.0</td>\n    </tr>\n    <tr>\n      <th>21</th>\n      <td>21.2</td>\n    </tr>\n    <tr>\n      <th>22</th>\n      <td>21.8</td>\n    </tr>\n    <tr>\n      <th>23</th>\n      <td>20.5</td>\n    </tr>\n    <tr>\n      <th>24</th>\n      <td>22.3</td>\n    </tr>\n    <tr>\n      <th>25</th>\n      <td>19.8</td>\n    </tr>\n    <tr>\n      <th>26</th>\n      <td>21.0</td>\n    </tr>\n    <tr>\n      <th>27</th>\n      <td>20.8</td>\n    </tr>\n    <tr>\n      <th>28</th>\n      <td>21.0</td>\n    </tr>\n    <tr>\n      <th>29</th>\n      <td>21.5</td>\n    </tr>\n    <tr>\n      <th>30</th>\n      <td>20.6</td>\n    </tr>\n    <tr>\n      <th>31</th>\n      <td>20.7</td>\n    </tr>\n    <tr>\n      <th>32</th>\n      <td>21.0</td>\n    </tr>\n    <tr>\n      <th>33</th>\n      <td>19.9</td>\n    </tr>\n    <tr>\n      <th>34</th>\n      <td>20.9</td>\n    </tr>\n    <tr>\n      <th>35</th>\n      <td>0.0</td>\n    </tr>\n  </tbody>\n</table>\n</div>"
     },
     "execution_count": 27,
     "metadata": {},
     "output_type": "execute_result"
    }
   ],
   "source": [
    "df3"
   ],
   "metadata": {
    "collapsed": false
   }
  },
  {
   "cell_type": "code",
   "execution_count": null,
   "outputs": [],
   "source": [],
   "metadata": {
    "collapsed": false
   }
  }
 ],
 "metadata": {
  "kernelspec": {
   "display_name": "Python 3",
   "language": "python",
   "name": "python3"
  },
  "language_info": {
   "codemirror_mode": {
    "name": "ipython",
    "version": 2
   },
   "file_extension": ".py",
   "mimetype": "text/x-python",
   "name": "python",
   "nbconvert_exporter": "python",
   "pygments_lexer": "ipython2",
   "version": "2.7.6"
  }
 },
 "nbformat": 4,
 "nbformat_minor": 0
}
