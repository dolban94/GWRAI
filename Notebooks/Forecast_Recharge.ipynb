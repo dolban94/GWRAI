{
 "cells": [
  {
   "cell_type": "markdown",
   "source": [
    "## Forecasting Groundwater Recharge"
   ],
   "metadata": {
    "collapsed": false
   }
  },
  {
   "cell_type": "code",
   "execution_count": null,
   "metadata": {
    "collapsed": true
   },
   "outputs": [],
   "source": [
    "import numpy as np\n",
    "import pandas as pd\n",
    "from sklearn.preprocessing import MinMaxScaler\n",
    "import joblib"
   ]
  },
  {
   "cell_type": "code",
   "execution_count": null,
   "outputs": [],
   "source": [
    "import matplotlib.pyplot as plt\n",
    "import seaborn as sns\n",
    "import statsmodels.api as sm"
   ],
   "metadata": {
    "collapsed": false
   }
  },
  {
   "cell_type": "code",
   "execution_count": null,
   "outputs": [],
   "source": [
    "df2 = pd.DataFrame()\n",
    "n = [3, 4, 5, 12, 13, 14, 23, 24, 25, 44]\n",
    "for i in range(1, 76):\n",
    "    if i not in n:\n",
    "        df = pd.read_excel(\"B:\\GroundwaterRech\\GithubRepo\\Restart\\Forecast_new\\SSP126\\District Wise\\\\\" + str(i) + \".xlsx\")\n",
    "        df1 = df.drop(['Year', 'Longitude', 'Latitude'], axis=1)\n",
    "        df2 = pd.concat([df2, df1])\n",
    "        # df2 = pd.concat([df2, df])"
   ],
   "metadata": {
    "collapsed": false
   }
  },
  {
   "cell_type": "code",
   "execution_count": null,
   "outputs": [],
   "source": [
    "df2"
   ],
   "metadata": {
    "collapsed": false
   }
  },
  {
   "cell_type": "code",
   "execution_count": null,
   "outputs": [],
   "source": [
    "df2['Soil Type'] = df2['Soil Type'].replace('Builtup', 1)\n",
    "df2['Soil Type'] = df2['Soil Type'].replace('Bulitup', 1)\n",
    "\n",
    "df2['Soil Type'] = df2['Soil Type'].replace('Haplic Luvisols', 2)\n",
    "df2['Soil Type'] = df2['Soil Type'].replace('Haplic Calcisols', 3)\n",
    "df2['Soil Type'] = df2['Soil Type'].replace('Loam', 4)\n",
    "df2['Soil Type'] = df2['Soil Type'].replace('Calcaric Fluvisols', 5)\n"
   ],
   "metadata": {
    "collapsed": false
   }
  },
  {
   "cell_type": "markdown",
   "source": [
    "##### Forecast"
   ],
   "metadata": {
    "collapsed": false
   }
  },
  {
   "cell_type": "code",
   "execution_count": null,
   "outputs": [],
   "source": [
    "X = df2"
   ],
   "metadata": {
    "collapsed": false
   }
  },
  {
   "cell_type": "code",
   "execution_count": null,
   "outputs": [],
   "source": [
    "X = pd.get_dummies(X)"
   ],
   "metadata": {
    "collapsed": false
   }
  },
  {
   "cell_type": "code",
   "execution_count": null,
   "outputs": [],
   "source": [
    "X"
   ],
   "metadata": {
    "collapsed": false
   }
  },
  {
   "cell_type": "code",
   "execution_count": null,
   "outputs": [],
   "source": [
    "scaler = joblib.load(\"B:\\GroundwaterRech\\GithubRepo\\Restart\\Results\\Pretrained Model\\scaler(Pre-Post).pkl\")\n",
    "X = scaler.transform(X)"
   ],
   "metadata": {
    "collapsed": false
   }
  },
  {
   "cell_type": "code",
   "execution_count": null,
   "outputs": [],
   "source": [
    "X"
   ],
   "metadata": {
    "collapsed": false
   }
  },
  {
   "cell_type": "code",
   "execution_count": null,
   "outputs": [],
   "source": [
    "m=joblib.load(\"B:\\GroundwaterRech\\GithubRepo\\Restart\\Results\\Pretrained Model\\Pre-post\\XG Boost.pkl\")\n",
    "pred_array=np.array(m.predict(X))\n",
    "pred_array.reshape(-1,16)"
   ],
   "metadata": {
    "collapsed": false
   }
  },
  {
   "cell_type": "code",
   "execution_count": null,
   "outputs": [],
   "source": [
    "m=joblib.load('XG Boost.pkl')\n",
    "pred_array=np.array(m.predict(X))\n",
    "pred_array.reshape(-1,16)"
   ],
   "metadata": {
    "collapsed": false
   }
  },
  {
   "cell_type": "code",
   "execution_count": null,
   "outputs": [],
   "source": [
    "std_predictions=pd.read_csv(\"B:\\Out_53.csv\")"
   ],
   "metadata": {
    "collapsed": false
   }
  },
  {
   "cell_type": "code",
   "execution_count": null,
   "outputs": [],
   "source": [
    "std_predictions=np.array(std_predictions['STD'])"
   ],
   "metadata": {
    "collapsed": false
   }
  },
  {
   "cell_type": "markdown",
   "source": [
    "Uncertaininty"
   ],
   "metadata": {
    "collapsed": false
   }
  },
  {
   "cell_type": "code",
   "execution_count": null,
   "outputs": [],
   "source": [
    "df3 = pd.DataFrame()\n",
    "n = [3, 4, 5, 12, 13, 14, 23, 24, 25, 44]\n",
    "for i in range(1, 76):\n",
    "    if i not in n:\n",
    "        df = pd.read_excel(\"B:\\GroundwaterRech\\GithubRepo\\Restart\\Dataset\\District Wise\\\\2\\\\\" + str(i) + \".xlsx\")\n",
    "        df1 = df.drop([ 'Year','Longitude', 'Latitude'], axis=1)\n",
    "        df3 = pd.concat([df3, df1])\n",
    "\n",
    "df3 = df3.reset_index()\n",
    "df3.drop('index', inplace=True, axis=1)\n",
    "\n",
    "df3['Soil Type'] = df3['Soil Type'].replace('Builtup', 1)\n",
    "df3['Soil Type'] = df3['Soil Type'].replace('Bulitup', 1)\n",
    "\n",
    "df3['Soil Type'] = df3['Soil Type'].replace('Haplic Luvisols', 2)\n",
    "df3['Soil Type'] = df3['Soil Type'].replace('Haplic Calcisols', 3)\n",
    "df3['Soil Type'] = df3['Soil Type'].replace('Loam', 4)\n",
    "df3['Soil Type'] = df3['Soil Type'].replace('Calcaric Fluvisols', 5)\n",
    "X1 = df3.drop('Groundwater Recharge', axis=1)\n",
    "y1 = df3['Groundwater Recharge']\n",
    "\n",
    "X1 = pd.get_dummies(X1)\n",
    "\n",
    "scaler = MinMaxScaler()\n",
    "X1 = scaler.fit_transform(X1)"
   ],
   "metadata": {
    "collapsed": false
   }
  },
  {
   "cell_type": "code",
   "execution_count": null,
   "outputs": [],
   "source": [],
   "metadata": {
    "collapsed": false
   }
  },
  {
   "cell_type": "code",
   "execution_count": null,
   "outputs": [],
   "source": [
    "from sklearn.utils import resample\n",
    "from xgboost import XGBRegressor"
   ],
   "metadata": {
    "collapsed": false
   }
  },
  {
   "cell_type": "code",
   "execution_count": null,
   "outputs": [],
   "source": [
    "n_bootstrap = 1000\n",
    "bootstrap_predictions = np.zeros((n_bootstrap, len(X)))\n",
    "for i in range(n_bootstrap):\n",
    "    # Resample the training data with replacement\n",
    "    X_boot, y_boot = resample(X1, y1, random_state=i)\n",
    "    # Fit XGB model to the bootstrapped data\n",
    "    xgb_boot = XGBRegressor(learning_rate=0.1, max_depth=8, n_estimators=150, random_state=i)\n",
    "    xgb_boot.fit(X_boot, y_boot)\n",
    "\n",
    "    # Make predictions on the test set\n",
    "    bootstrap_predictions[i] = xgb_boot.predict(X)"
   ],
   "metadata": {
    "collapsed": false
   }
  },
  {
   "cell_type": "code",
   "execution_count": null,
   "outputs": [],
   "source": [
    "mean_predictions = np.mean(bootstrap_predictions, axis=0)\n",
    "std_predictions = np.std(bootstrap_predictions, axis=0)\n",
    "confidence_interval = np.percentile(bootstrap_predictions, [2.5, 97.5], axis=0)\n"
   ],
   "metadata": {
    "collapsed": false
   }
  },
  {
   "cell_type": "code",
   "execution_count": null,
   "outputs": [],
   "source": [
    "confidence_interval"
   ],
   "metadata": {
    "collapsed": false
   }
  },
  {
   "cell_type": "code",
   "execution_count": null,
   "outputs": [],
   "source": [
    "plt.figure(figsize=(10, 6))\n",
    "plt.fill_between(range(len(X[:81])), confidence_interval[0][:81], confidence_interval[1][:81], color='gray', alpha=0.4, label='95% Confidence Interval')\n",
    "\n",
    "# plt.plot(range(len(test_labels[:100])), test_labels[:100], label='True Values')\n",
    "plt.plot(range(len(X[:81])), mean_predictions[:81], label='Mean Predictions', color='red')\n",
    "\n",
    "plt.title('Groundwater Recharge Forecast with Uncertainty',fontsize=16,fontweight='bold')\n",
    "plt.xlabel('Sample Index',fontsize=14,fontweight='bold')\n",
    "plt.ylabel('Groundwater Recharge (m)',fontsize=14,fontweight='bold')\n",
    "plt.legend()\n",
    "plt.grid(True)\n",
    "plt.savefig('B:\\GroundwaterRech\\GithubRepo\\Restart\\Results\\Images\\\\uncertainty_forecast.png', dpi=1200)\n",
    "plt.show()"
   ],
   "metadata": {
    "collapsed": false
   }
  },
  {
   "cell_type": "code",
   "execution_count": null,
   "outputs": [],
   "source": [
    "boots_p=bootstrap_predictions.transpose()"
   ],
   "metadata": {
    "collapsed": false
   }
  },
  {
   "cell_type": "code",
   "execution_count": null,
   "outputs": [],
   "source": [
    "boots_p"
   ],
   "metadata": {
    "collapsed": false
   }
  },
  {
   "cell_type": "code",
   "execution_count": null,
   "outputs": [],
   "source": [],
   "metadata": {
    "collapsed": false
   }
  }
 ],
 "metadata": {
  "kernelspec": {
   "display_name": "Python 3",
   "language": "python",
   "name": "python3"
  },
  "language_info": {
   "codemirror_mode": {
    "name": "ipython",
    "version": 2
   },
   "file_extension": ".py",
   "mimetype": "text/x-python",
   "name": "python",
   "nbconvert_exporter": "python",
   "pygments_lexer": "ipython2",
   "version": "2.7.6"
  }
 },
 "nbformat": 4,
 "nbformat_minor": 0
}
