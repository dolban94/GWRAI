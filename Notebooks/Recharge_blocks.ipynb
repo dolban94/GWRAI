{
 "cells": [
  {
   "cell_type": "markdown",
   "source": [
    "Convert Level to recharge"
   ],
   "metadata": {
    "collapsed": false
   }
  },
  {
   "cell_type": "code",
   "execution_count": 1,
   "metadata": {
    "collapsed": true
   },
   "outputs": [],
   "source": [
    "import numpy as np\n",
    "import pandas as pd"
   ]
  },
  {
   "cell_type": "code",
   "execution_count": 2,
   "outputs": [],
   "source": [
    "df=pd.read_excel(\"B:\\GroundwaterRech\\GithubRepo\\Restart\\Dataset\\Recharge_Blocks.xlsx\",sheet_name='Before')"
   ],
   "metadata": {
    "collapsed": false
   }
  },
  {
   "cell_type": "code",
   "execution_count": 3,
   "outputs": [
    {
     "data": {
      "text/plain": "       DISTRICT            BLOCK  JUN86  OCT86  JUN87  OCT87  JUN88  OCT88  \\\n0       PATIALA           SANAUR   0.00   0.00   0.00   0.00   0.00   0.00   \n1       SANGRUR       LEHRA GAGA   5.15   4.55   4.60   5.70   5.95   2.75   \n2      AMRITSAR     HARSHA CHINA   7.83   6.61   7.96   7.03   8.37   4.53   \n3      BATHINDA  BHAGTA BHAI KE    0.00   0.00   0.00   0.00   0.00   0.00   \n4     JALANDHAR         NURMAHAL  10.87   9.40  10.68  11.73  13.40   7.58   \n..          ...              ...    ...    ...    ...    ...    ...    ...   \n113       ROPAR      NURPUR BEDI   3.00   1.80   2.74   2.75   3.60   0.55   \n114       ROPAR            ROPAR   2.02   0.89   2.40   1.99   3.05   0.38   \n115     SANGRUR          SANGRUR   4.30   4.08   4.77   5.25   5.96   2.03   \n116     SANGRUR            SUNAM  11.09  11.02  11.54  11.29  12.04  11.04   \n117  TARN TARAN        GANDIWIND   5.03   3.00   5.15   4.50   5.90   4.35   \n\n     JUN89  OCT89  ...  JUNE_2017  OCT_2017  JUNE_2018  OCT_2018  JUNE_2019  \\\n0     0.00   0.00  ...      20.40     21.90      23.05     25.30      23.35   \n1     4.25   4.80  ...      33.25     33.90      34.40     35.15      35.45   \n2     8.51   7.95  ...      14.70     15.70      14.70     14.90      15.20   \n3     0.00   0.00  ...      26.10     28.64      28.54     29.55      27.60   \n4    11.35  10.60  ...      21.80     24.10      22.80     23.20      22.90   \n..     ...    ...  ...        ...       ...        ...       ...        ...   \n113   2.82   1.85  ...      16.60     17.50      17.60     17.40      16.00   \n114   1.80   0.93  ...       7.30      6.60       6.90      5.00       6.45   \n115   4.23   5.10  ...      37.05     37.95      40.05     41.00      40.25   \n116  10.09  10.29  ...      34.40     34.90      36.10     36.80      37.05   \n117   6.02   5.30  ...      15.80     16.40      15.30     15.50      16.30   \n\n     OCT_2019  Null  Unnamed: 71  Unnamed: 72  Unnamed: 73  \n0       29.15    19          0.0          0.0          0.0  \n1       36.70    19          NaN          NaN          NaN  \n2       15.20    18          NaN          NaN          NaN  \n3       31.42    18          NaN          NaN          NaN  \n4       25.50    18          NaN          NaN          NaN  \n..        ...   ...          ...          ...          ...  \n113     16.10     0          NaN          NaN          NaN  \n114      4.80     0          NaN          NaN          NaN  \n115     41.55     0          NaN          NaN          NaN  \n116     38.05     0          NaN          NaN          NaN  \n117     15.80     0          NaN          NaN          NaN  \n\n[118 rows x 74 columns]",
      "text/html": "<div>\n<style scoped>\n    .dataframe tbody tr th:only-of-type {\n        vertical-align: middle;\n    }\n\n    .dataframe tbody tr th {\n        vertical-align: top;\n    }\n\n    .dataframe thead th {\n        text-align: right;\n    }\n</style>\n<table border=\"1\" class=\"dataframe\">\n  <thead>\n    <tr style=\"text-align: right;\">\n      <th></th>\n      <th>DISTRICT</th>\n      <th>BLOCK</th>\n      <th>JUN86</th>\n      <th>OCT86</th>\n      <th>JUN87</th>\n      <th>OCT87</th>\n      <th>JUN88</th>\n      <th>OCT88</th>\n      <th>JUN89</th>\n      <th>OCT89</th>\n      <th>...</th>\n      <th>JUNE_2017</th>\n      <th>OCT_2017</th>\n      <th>JUNE_2018</th>\n      <th>OCT_2018</th>\n      <th>JUNE_2019</th>\n      <th>OCT_2019</th>\n      <th>Null</th>\n      <th>Unnamed: 71</th>\n      <th>Unnamed: 72</th>\n      <th>Unnamed: 73</th>\n    </tr>\n  </thead>\n  <tbody>\n    <tr>\n      <th>0</th>\n      <td>PATIALA</td>\n      <td>SANAUR</td>\n      <td>0.00</td>\n      <td>0.00</td>\n      <td>0.00</td>\n      <td>0.00</td>\n      <td>0.00</td>\n      <td>0.00</td>\n      <td>0.00</td>\n      <td>0.00</td>\n      <td>...</td>\n      <td>20.40</td>\n      <td>21.90</td>\n      <td>23.05</td>\n      <td>25.30</td>\n      <td>23.35</td>\n      <td>29.15</td>\n      <td>19</td>\n      <td>0.0</td>\n      <td>0.0</td>\n      <td>0.0</td>\n    </tr>\n    <tr>\n      <th>1</th>\n      <td>SANGRUR</td>\n      <td>LEHRA GAGA</td>\n      <td>5.15</td>\n      <td>4.55</td>\n      <td>4.60</td>\n      <td>5.70</td>\n      <td>5.95</td>\n      <td>2.75</td>\n      <td>4.25</td>\n      <td>4.80</td>\n      <td>...</td>\n      <td>33.25</td>\n      <td>33.90</td>\n      <td>34.40</td>\n      <td>35.15</td>\n      <td>35.45</td>\n      <td>36.70</td>\n      <td>19</td>\n      <td>NaN</td>\n      <td>NaN</td>\n      <td>NaN</td>\n    </tr>\n    <tr>\n      <th>2</th>\n      <td>AMRITSAR</td>\n      <td>HARSHA CHINA</td>\n      <td>7.83</td>\n      <td>6.61</td>\n      <td>7.96</td>\n      <td>7.03</td>\n      <td>8.37</td>\n      <td>4.53</td>\n      <td>8.51</td>\n      <td>7.95</td>\n      <td>...</td>\n      <td>14.70</td>\n      <td>15.70</td>\n      <td>14.70</td>\n      <td>14.90</td>\n      <td>15.20</td>\n      <td>15.20</td>\n      <td>18</td>\n      <td>NaN</td>\n      <td>NaN</td>\n      <td>NaN</td>\n    </tr>\n    <tr>\n      <th>3</th>\n      <td>BATHINDA</td>\n      <td>BHAGTA BHAI KE</td>\n      <td>0.00</td>\n      <td>0.00</td>\n      <td>0.00</td>\n      <td>0.00</td>\n      <td>0.00</td>\n      <td>0.00</td>\n      <td>0.00</td>\n      <td>0.00</td>\n      <td>...</td>\n      <td>26.10</td>\n      <td>28.64</td>\n      <td>28.54</td>\n      <td>29.55</td>\n      <td>27.60</td>\n      <td>31.42</td>\n      <td>18</td>\n      <td>NaN</td>\n      <td>NaN</td>\n      <td>NaN</td>\n    </tr>\n    <tr>\n      <th>4</th>\n      <td>JALANDHAR</td>\n      <td>NURMAHAL</td>\n      <td>10.87</td>\n      <td>9.40</td>\n      <td>10.68</td>\n      <td>11.73</td>\n      <td>13.40</td>\n      <td>7.58</td>\n      <td>11.35</td>\n      <td>10.60</td>\n      <td>...</td>\n      <td>21.80</td>\n      <td>24.10</td>\n      <td>22.80</td>\n      <td>23.20</td>\n      <td>22.90</td>\n      <td>25.50</td>\n      <td>18</td>\n      <td>NaN</td>\n      <td>NaN</td>\n      <td>NaN</td>\n    </tr>\n    <tr>\n      <th>...</th>\n      <td>...</td>\n      <td>...</td>\n      <td>...</td>\n      <td>...</td>\n      <td>...</td>\n      <td>...</td>\n      <td>...</td>\n      <td>...</td>\n      <td>...</td>\n      <td>...</td>\n      <td>...</td>\n      <td>...</td>\n      <td>...</td>\n      <td>...</td>\n      <td>...</td>\n      <td>...</td>\n      <td>...</td>\n      <td>...</td>\n      <td>...</td>\n      <td>...</td>\n      <td>...</td>\n    </tr>\n    <tr>\n      <th>113</th>\n      <td>ROPAR</td>\n      <td>NURPUR BEDI</td>\n      <td>3.00</td>\n      <td>1.80</td>\n      <td>2.74</td>\n      <td>2.75</td>\n      <td>3.60</td>\n      <td>0.55</td>\n      <td>2.82</td>\n      <td>1.85</td>\n      <td>...</td>\n      <td>16.60</td>\n      <td>17.50</td>\n      <td>17.60</td>\n      <td>17.40</td>\n      <td>16.00</td>\n      <td>16.10</td>\n      <td>0</td>\n      <td>NaN</td>\n      <td>NaN</td>\n      <td>NaN</td>\n    </tr>\n    <tr>\n      <th>114</th>\n      <td>ROPAR</td>\n      <td>ROPAR</td>\n      <td>2.02</td>\n      <td>0.89</td>\n      <td>2.40</td>\n      <td>1.99</td>\n      <td>3.05</td>\n      <td>0.38</td>\n      <td>1.80</td>\n      <td>0.93</td>\n      <td>...</td>\n      <td>7.30</td>\n      <td>6.60</td>\n      <td>6.90</td>\n      <td>5.00</td>\n      <td>6.45</td>\n      <td>4.80</td>\n      <td>0</td>\n      <td>NaN</td>\n      <td>NaN</td>\n      <td>NaN</td>\n    </tr>\n    <tr>\n      <th>115</th>\n      <td>SANGRUR</td>\n      <td>SANGRUR</td>\n      <td>4.30</td>\n      <td>4.08</td>\n      <td>4.77</td>\n      <td>5.25</td>\n      <td>5.96</td>\n      <td>2.03</td>\n      <td>4.23</td>\n      <td>5.10</td>\n      <td>...</td>\n      <td>37.05</td>\n      <td>37.95</td>\n      <td>40.05</td>\n      <td>41.00</td>\n      <td>40.25</td>\n      <td>41.55</td>\n      <td>0</td>\n      <td>NaN</td>\n      <td>NaN</td>\n      <td>NaN</td>\n    </tr>\n    <tr>\n      <th>116</th>\n      <td>SANGRUR</td>\n      <td>SUNAM</td>\n      <td>11.09</td>\n      <td>11.02</td>\n      <td>11.54</td>\n      <td>11.29</td>\n      <td>12.04</td>\n      <td>11.04</td>\n      <td>10.09</td>\n      <td>10.29</td>\n      <td>...</td>\n      <td>34.40</td>\n      <td>34.90</td>\n      <td>36.10</td>\n      <td>36.80</td>\n      <td>37.05</td>\n      <td>38.05</td>\n      <td>0</td>\n      <td>NaN</td>\n      <td>NaN</td>\n      <td>NaN</td>\n    </tr>\n    <tr>\n      <th>117</th>\n      <td>TARN TARAN</td>\n      <td>GANDIWIND</td>\n      <td>5.03</td>\n      <td>3.00</td>\n      <td>5.15</td>\n      <td>4.50</td>\n      <td>5.90</td>\n      <td>4.35</td>\n      <td>6.02</td>\n      <td>5.30</td>\n      <td>...</td>\n      <td>15.80</td>\n      <td>16.40</td>\n      <td>15.30</td>\n      <td>15.50</td>\n      <td>16.30</td>\n      <td>15.80</td>\n      <td>0</td>\n      <td>NaN</td>\n      <td>NaN</td>\n      <td>NaN</td>\n    </tr>\n  </tbody>\n</table>\n<p>118 rows × 74 columns</p>\n</div>"
     },
     "execution_count": 3,
     "metadata": {},
     "output_type": "execute_result"
    }
   ],
   "source": [
    "df"
   ],
   "metadata": {
    "collapsed": false
   }
  },
  {
   "cell_type": "code",
   "execution_count": 40,
   "outputs": [],
   "source": [
    "y=[i for i in range(1986,2020)]\n",
    "df1=pd.DataFrame(columns=y)"
   ],
   "metadata": {
    "collapsed": false
   }
  },
  {
   "cell_type": "code",
   "execution_count": 41,
   "outputs": [],
   "source": [
    "c=list(df.columns[2:70])"
   ],
   "metadata": {
    "collapsed": false
   }
  },
  {
   "cell_type": "code",
   "execution_count": 42,
   "outputs": [
    {
     "name": "stdout",
     "output_type": "stream",
     "text": [
      "['JUN86', 'OCT86', 'JUN87', 'OCT87', 'JUN88', 'OCT88', 'JUN89', 'OCT89', 'JUN90', 'OCT90', 'JUN91', 'OCT91', 'JUN92', 'OCT92', 'JUN93', 'OCT93', 'JUN94', 'OCT94', 'JUN95', 'OCT95', 'JUN96', 'OCT96', 'JUN97', 'OCT97', 'JUNE_98', 'OCT_98', 'JUNE_99', 'OCT_99', 'JUNE_2K', 'OCT_2K', 'JUNE_01', 'OCT_01', 'JUNE_02', 'OCT_02', 'JUNE_03', 'OCT_03', 'JUNE_04', 'OCT_04', 'JUNE_05', 'OCT_05', 'JUNE_06', 'OCT_06', 'JUNE_07', 'OCT_07', 'JUNE_08', 'OCT_08', 'JUNE_09', 'OCT_09', 'JUNE_10', 'OCT_10', 'JUNE_11', 'OCT_11', 'JUNE_12', 'OCT_12', 'JUNE_13', 'OCT_13', 'JUNE_14', 'OCT_14', 'JUNE_2015', 'OCT_2015', 'JUNE_2016', 'OCT_2016', 'JUNE_2017', 'OCT_2017', 'JUNE_2018', 'OCT_2018', 'JUNE_2019', 'OCT_2019']\n"
     ]
    }
   ],
   "source": [
    "print(c)"
   ],
   "metadata": {
    "collapsed": false
   }
  },
  {
   "cell_type": "code",
   "execution_count": 43,
   "outputs": [],
   "source": [
    "c1=list(df1.columns)\n",
    "x=0\n",
    "for i in range(0,len(c),2):\n",
    "    df1[c1[x]]= df[c[i+1]] - df[c[i]]\n",
    "    x=x+1\n"
   ],
   "metadata": {
    "collapsed": false
   }
  },
  {
   "cell_type": "code",
   "execution_count": 44,
   "outputs": [
    {
     "data": {
      "text/plain": "     1986  1987  1988  1989  1990  1991  1992  1993  1994  1995  ...   2010  \\\n0    0.00  0.00  0.00  0.00  0.00  0.10  0.06 -1.18  0.10 -1.92  ...  15.00   \n1   -0.60  1.10 -3.20  0.55 -0.90  0.25 -0.35 -0.69 -0.45 -1.37  ...   0.00   \n2   -1.22 -0.93 -3.84 -0.56 -1.89 -0.48 -0.58 -1.06 -0.63 -0.93  ...   0.00   \n3    0.00  0.00  0.00  0.00  0.00  0.00  0.00  0.00  0.00 -0.53  ...  -0.05   \n4   -1.47  1.05 -5.82 -0.75 -5.15 -0.40 -1.40 -0.88 -0.75 -3.25  ...  -1.83   \n..    ...   ...   ...   ...   ...   ...   ...   ...   ...   ...  ...    ...   \n113 -1.20  0.01 -3.05 -0.97 -1.33 -1.11 -1.08 -1.28 -2.07 -1.93  ...  -2.30   \n114 -1.13 -0.41 -2.67 -0.87 -1.98 -1.16 -1.11 -1.89 -1.92 -1.54  ...  -3.40   \n115 -0.22  0.48 -3.93  0.87 -0.25  0.38  0.15 -0.15  0.14 -1.03  ...   0.78   \n116 -0.07 -0.25 -1.00  0.20 -0.35 -0.35  0.70 -0.20 -0.25 -0.80  ...  -0.35   \n117 -2.03 -0.65 -1.55 -0.72 -1.22 -0.55 -0.74 -0.97 -1.95 -2.94  ...  -0.25   \n\n     2011   2012  2013  2014  2015  2016  2017  2018  2019  \n0   -0.07 -15.90  0.00  0.00  0.95  0.20  1.50  2.25  5.80  \n1    0.00   0.00  0.00  0.00  0.30 -0.10  0.65  0.75  1.25  \n2    0.00   0.00  0.00  0.00 -0.50  0.70  1.00  0.20  0.00  \n3    1.05   1.50 -0.10  0.45  2.48  3.09  2.54  1.01  3.82  \n4   -2.50   1.05  0.00  0.00  1.20  3.40  2.30  0.40  2.60  \n..    ...    ...   ...   ...   ...   ...   ...   ...   ...  \n113 -0.60  -1.20 -1.30 -0.45  1.38  0.90  0.90 -0.20  0.10  \n114 -0.90   0.30 -1.70 -0.05  0.40  0.40 -0.70 -1.90 -1.65  \n115 -0.25  -0.10  0.00  0.98  0.24 -0.05  0.90  0.95  1.30  \n116 -0.18   0.57 -0.27  1.00  0.73  0.10  0.50  0.70  1.00  \n117 -1.02   0.02 -1.10 -0.90 -0.90  0.00  0.60  0.20 -0.50  \n\n[118 rows x 34 columns]",
      "text/html": "<div>\n<style scoped>\n    .dataframe tbody tr th:only-of-type {\n        vertical-align: middle;\n    }\n\n    .dataframe tbody tr th {\n        vertical-align: top;\n    }\n\n    .dataframe thead th {\n        text-align: right;\n    }\n</style>\n<table border=\"1\" class=\"dataframe\">\n  <thead>\n    <tr style=\"text-align: right;\">\n      <th></th>\n      <th>1986</th>\n      <th>1987</th>\n      <th>1988</th>\n      <th>1989</th>\n      <th>1990</th>\n      <th>1991</th>\n      <th>1992</th>\n      <th>1993</th>\n      <th>1994</th>\n      <th>1995</th>\n      <th>...</th>\n      <th>2010</th>\n      <th>2011</th>\n      <th>2012</th>\n      <th>2013</th>\n      <th>2014</th>\n      <th>2015</th>\n      <th>2016</th>\n      <th>2017</th>\n      <th>2018</th>\n      <th>2019</th>\n    </tr>\n  </thead>\n  <tbody>\n    <tr>\n      <th>0</th>\n      <td>0.00</td>\n      <td>0.00</td>\n      <td>0.00</td>\n      <td>0.00</td>\n      <td>0.00</td>\n      <td>0.10</td>\n      <td>0.06</td>\n      <td>-1.18</td>\n      <td>0.10</td>\n      <td>-1.92</td>\n      <td>...</td>\n      <td>15.00</td>\n      <td>-0.07</td>\n      <td>-15.90</td>\n      <td>0.00</td>\n      <td>0.00</td>\n      <td>0.95</td>\n      <td>0.20</td>\n      <td>1.50</td>\n      <td>2.25</td>\n      <td>5.80</td>\n    </tr>\n    <tr>\n      <th>1</th>\n      <td>-0.60</td>\n      <td>1.10</td>\n      <td>-3.20</td>\n      <td>0.55</td>\n      <td>-0.90</td>\n      <td>0.25</td>\n      <td>-0.35</td>\n      <td>-0.69</td>\n      <td>-0.45</td>\n      <td>-1.37</td>\n      <td>...</td>\n      <td>0.00</td>\n      <td>0.00</td>\n      <td>0.00</td>\n      <td>0.00</td>\n      <td>0.00</td>\n      <td>0.30</td>\n      <td>-0.10</td>\n      <td>0.65</td>\n      <td>0.75</td>\n      <td>1.25</td>\n    </tr>\n    <tr>\n      <th>2</th>\n      <td>-1.22</td>\n      <td>-0.93</td>\n      <td>-3.84</td>\n      <td>-0.56</td>\n      <td>-1.89</td>\n      <td>-0.48</td>\n      <td>-0.58</td>\n      <td>-1.06</td>\n      <td>-0.63</td>\n      <td>-0.93</td>\n      <td>...</td>\n      <td>0.00</td>\n      <td>0.00</td>\n      <td>0.00</td>\n      <td>0.00</td>\n      <td>0.00</td>\n      <td>-0.50</td>\n      <td>0.70</td>\n      <td>1.00</td>\n      <td>0.20</td>\n      <td>0.00</td>\n    </tr>\n    <tr>\n      <th>3</th>\n      <td>0.00</td>\n      <td>0.00</td>\n      <td>0.00</td>\n      <td>0.00</td>\n      <td>0.00</td>\n      <td>0.00</td>\n      <td>0.00</td>\n      <td>0.00</td>\n      <td>0.00</td>\n      <td>-0.53</td>\n      <td>...</td>\n      <td>-0.05</td>\n      <td>1.05</td>\n      <td>1.50</td>\n      <td>-0.10</td>\n      <td>0.45</td>\n      <td>2.48</td>\n      <td>3.09</td>\n      <td>2.54</td>\n      <td>1.01</td>\n      <td>3.82</td>\n    </tr>\n    <tr>\n      <th>4</th>\n      <td>-1.47</td>\n      <td>1.05</td>\n      <td>-5.82</td>\n      <td>-0.75</td>\n      <td>-5.15</td>\n      <td>-0.40</td>\n      <td>-1.40</td>\n      <td>-0.88</td>\n      <td>-0.75</td>\n      <td>-3.25</td>\n      <td>...</td>\n      <td>-1.83</td>\n      <td>-2.50</td>\n      <td>1.05</td>\n      <td>0.00</td>\n      <td>0.00</td>\n      <td>1.20</td>\n      <td>3.40</td>\n      <td>2.30</td>\n      <td>0.40</td>\n      <td>2.60</td>\n    </tr>\n    <tr>\n      <th>...</th>\n      <td>...</td>\n      <td>...</td>\n      <td>...</td>\n      <td>...</td>\n      <td>...</td>\n      <td>...</td>\n      <td>...</td>\n      <td>...</td>\n      <td>...</td>\n      <td>...</td>\n      <td>...</td>\n      <td>...</td>\n      <td>...</td>\n      <td>...</td>\n      <td>...</td>\n      <td>...</td>\n      <td>...</td>\n      <td>...</td>\n      <td>...</td>\n      <td>...</td>\n      <td>...</td>\n    </tr>\n    <tr>\n      <th>113</th>\n      <td>-1.20</td>\n      <td>0.01</td>\n      <td>-3.05</td>\n      <td>-0.97</td>\n      <td>-1.33</td>\n      <td>-1.11</td>\n      <td>-1.08</td>\n      <td>-1.28</td>\n      <td>-2.07</td>\n      <td>-1.93</td>\n      <td>...</td>\n      <td>-2.30</td>\n      <td>-0.60</td>\n      <td>-1.20</td>\n      <td>-1.30</td>\n      <td>-0.45</td>\n      <td>1.38</td>\n      <td>0.90</td>\n      <td>0.90</td>\n      <td>-0.20</td>\n      <td>0.10</td>\n    </tr>\n    <tr>\n      <th>114</th>\n      <td>-1.13</td>\n      <td>-0.41</td>\n      <td>-2.67</td>\n      <td>-0.87</td>\n      <td>-1.98</td>\n      <td>-1.16</td>\n      <td>-1.11</td>\n      <td>-1.89</td>\n      <td>-1.92</td>\n      <td>-1.54</td>\n      <td>...</td>\n      <td>-3.40</td>\n      <td>-0.90</td>\n      <td>0.30</td>\n      <td>-1.70</td>\n      <td>-0.05</td>\n      <td>0.40</td>\n      <td>0.40</td>\n      <td>-0.70</td>\n      <td>-1.90</td>\n      <td>-1.65</td>\n    </tr>\n    <tr>\n      <th>115</th>\n      <td>-0.22</td>\n      <td>0.48</td>\n      <td>-3.93</td>\n      <td>0.87</td>\n      <td>-0.25</td>\n      <td>0.38</td>\n      <td>0.15</td>\n      <td>-0.15</td>\n      <td>0.14</td>\n      <td>-1.03</td>\n      <td>...</td>\n      <td>0.78</td>\n      <td>-0.25</td>\n      <td>-0.10</td>\n      <td>0.00</td>\n      <td>0.98</td>\n      <td>0.24</td>\n      <td>-0.05</td>\n      <td>0.90</td>\n      <td>0.95</td>\n      <td>1.30</td>\n    </tr>\n    <tr>\n      <th>116</th>\n      <td>-0.07</td>\n      <td>-0.25</td>\n      <td>-1.00</td>\n      <td>0.20</td>\n      <td>-0.35</td>\n      <td>-0.35</td>\n      <td>0.70</td>\n      <td>-0.20</td>\n      <td>-0.25</td>\n      <td>-0.80</td>\n      <td>...</td>\n      <td>-0.35</td>\n      <td>-0.18</td>\n      <td>0.57</td>\n      <td>-0.27</td>\n      <td>1.00</td>\n      <td>0.73</td>\n      <td>0.10</td>\n      <td>0.50</td>\n      <td>0.70</td>\n      <td>1.00</td>\n    </tr>\n    <tr>\n      <th>117</th>\n      <td>-2.03</td>\n      <td>-0.65</td>\n      <td>-1.55</td>\n      <td>-0.72</td>\n      <td>-1.22</td>\n      <td>-0.55</td>\n      <td>-0.74</td>\n      <td>-0.97</td>\n      <td>-1.95</td>\n      <td>-2.94</td>\n      <td>...</td>\n      <td>-0.25</td>\n      <td>-1.02</td>\n      <td>0.02</td>\n      <td>-1.10</td>\n      <td>-0.90</td>\n      <td>-0.90</td>\n      <td>0.00</td>\n      <td>0.60</td>\n      <td>0.20</td>\n      <td>-0.50</td>\n    </tr>\n  </tbody>\n</table>\n<p>118 rows × 34 columns</p>\n</div>"
     },
     "execution_count": 44,
     "metadata": {},
     "output_type": "execute_result"
    }
   ],
   "source": [
    "df1"
   ],
   "metadata": {
    "collapsed": false
   }
  },
  {
   "cell_type": "code",
   "execution_count": 46,
   "outputs": [],
   "source": [
    "df1.to_excel('Output.xlsx',index=False)"
   ],
   "metadata": {
    "collapsed": false
   }
  },
  {
   "cell_type": "code",
   "execution_count": null,
   "outputs": [],
   "source": [],
   "metadata": {
    "collapsed": false
   }
  },
  {
   "cell_type": "code",
   "execution_count": null,
   "outputs": [],
   "source": [],
   "metadata": {
    "collapsed": false
   }
  }
 ],
 "metadata": {
  "kernelspec": {
   "display_name": "Python 3",
   "language": "python",
   "name": "python3"
  },
  "language_info": {
   "codemirror_mode": {
    "name": "ipython",
    "version": 2
   },
   "file_extension": ".py",
   "mimetype": "text/x-python",
   "name": "python",
   "nbconvert_exporter": "python",
   "pygments_lexer": "ipython2",
   "version": "2.7.6"
  }
 },
 "nbformat": 4,
 "nbformat_minor": 0
}
