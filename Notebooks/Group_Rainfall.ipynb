{
 "nbformat": 4,
 "nbformat_minor": 0,
 "metadata": {
  "colab": {
   "provenance": []
  },
  "kernelspec": {
   "name": "python3",
   "display_name": "Python 3"
  },
  "language_info": {
   "name": "python"
  }
 },
 "cells": [
  {
   "cell_type": "code",
   "execution_count": 1,
   "metadata": {
    "id": "c4-WtvNK5yiT"
   },
   "outputs": [],
   "source": [
    "import numpy as np\n",
    "import pandas as pd\n",
    "import datetime"
   ]
  },
  {
   "cell_type": "code",
   "source": [
    "df=pd.read_excel(\"B:\\GroundwaterRech\\Final Excel Datasets\\Final Excel Datasets\\Rainfall_Punjab without districts\\\\1986.xlsx\")"
   ],
   "metadata": {
    "id": "oFjREElv5-r8"
   },
   "execution_count": 2,
   "outputs": []
  },
  {
   "cell_type": "code",
   "source": [
    "df"
   ],
   "metadata": {
    "colab": {
     "base_uri": "https://localhost:8080/",
     "height": 285
    },
    "id": "9oHp-lqi6BJt",
    "outputId": "2d5aa46f-f3a0-4e37-8f71-8a1c7ccff0d0"
   },
   "execution_count": 3,
   "outputs": [
    {
     "data": {
      "text/plain": "    OBJECTID * Shape *      X      Y  1  2  3  4  5  6  ...  356  357  358  \\\n0            1   Point  75.25  29.75  0  0  0  0  0  0  ...    0    0    0   \n1            2   Point  76.00  29.75  0  0  0  0  0  0  ...    0    0    0   \n2            3   Point  74.00  30.00  0  0  0  0  0  0  ...    0    0    0   \n3            4   Point  74.25  30.00  0  0  0  0  0  0  ...    0    0    0   \n4            5   Point  74.50  30.00  0  0  0  0  0  0  ...    0    0    0   \n..         ...     ...    ...    ... .. .. .. .. .. ..  ...  ...  ...  ...   \n70          71   Point  75.00  32.00  0  0  0  0  0  0  ...    0    0    0   \n71          72   Point  75.25  32.00  0  0  0  0  0  0  ...    0    0    0   \n72          73   Point  75.50  32.00  0  0  0  0  0  0  ...    0    0    0   \n73          74   Point  75.75  32.00  0  0  0  0  0  0  ...    0    0    0   \n74          75   Point  75.50  32.25  0  0  0  0  0  0  ...    0    0    0   \n\n    359  360  361  362  363  364  365  \n0     0    0    0    0    0    0    0  \n1     0    0    0    0    0    0    0  \n2     0    0    0    0    0    0    0  \n3     0    0    0    0    0    0    0  \n4     0    0    0    0    0    0    0  \n..  ...  ...  ...  ...  ...  ...  ...  \n70    0    0    0    0    0    0    0  \n71    0    0    0    0    0    0    0  \n72    0    0    0    0    0    0    0  \n73    0    0    0    0    0    0    0  \n74    0    0    0    0    0    0    0  \n\n[75 rows x 369 columns]",
      "text/html": "<div>\n<style scoped>\n    .dataframe tbody tr th:only-of-type {\n        vertical-align: middle;\n    }\n\n    .dataframe tbody tr th {\n        vertical-align: top;\n    }\n\n    .dataframe thead th {\n        text-align: right;\n    }\n</style>\n<table border=\"1\" class=\"dataframe\">\n  <thead>\n    <tr style=\"text-align: right;\">\n      <th></th>\n      <th>OBJECTID *</th>\n      <th>Shape *</th>\n      <th>X</th>\n      <th>Y</th>\n      <th>1</th>\n      <th>2</th>\n      <th>3</th>\n      <th>4</th>\n      <th>5</th>\n      <th>6</th>\n      <th>...</th>\n      <th>356</th>\n      <th>357</th>\n      <th>358</th>\n      <th>359</th>\n      <th>360</th>\n      <th>361</th>\n      <th>362</th>\n      <th>363</th>\n      <th>364</th>\n      <th>365</th>\n    </tr>\n  </thead>\n  <tbody>\n    <tr>\n      <th>0</th>\n      <td>1</td>\n      <td>Point</td>\n      <td>75.25</td>\n      <td>29.75</td>\n      <td>0</td>\n      <td>0</td>\n      <td>0</td>\n      <td>0</td>\n      <td>0</td>\n      <td>0</td>\n      <td>...</td>\n      <td>0</td>\n      <td>0</td>\n      <td>0</td>\n      <td>0</td>\n      <td>0</td>\n      <td>0</td>\n      <td>0</td>\n      <td>0</td>\n      <td>0</td>\n      <td>0</td>\n    </tr>\n    <tr>\n      <th>1</th>\n      <td>2</td>\n      <td>Point</td>\n      <td>76.00</td>\n      <td>29.75</td>\n      <td>0</td>\n      <td>0</td>\n      <td>0</td>\n      <td>0</td>\n      <td>0</td>\n      <td>0</td>\n      <td>...</td>\n      <td>0</td>\n      <td>0</td>\n      <td>0</td>\n      <td>0</td>\n      <td>0</td>\n      <td>0</td>\n      <td>0</td>\n      <td>0</td>\n      <td>0</td>\n      <td>0</td>\n    </tr>\n    <tr>\n      <th>2</th>\n      <td>3</td>\n      <td>Point</td>\n      <td>74.00</td>\n      <td>30.00</td>\n      <td>0</td>\n      <td>0</td>\n      <td>0</td>\n      <td>0</td>\n      <td>0</td>\n      <td>0</td>\n      <td>...</td>\n      <td>0</td>\n      <td>0</td>\n      <td>0</td>\n      <td>0</td>\n      <td>0</td>\n      <td>0</td>\n      <td>0</td>\n      <td>0</td>\n      <td>0</td>\n      <td>0</td>\n    </tr>\n    <tr>\n      <th>3</th>\n      <td>4</td>\n      <td>Point</td>\n      <td>74.25</td>\n      <td>30.00</td>\n      <td>0</td>\n      <td>0</td>\n      <td>0</td>\n      <td>0</td>\n      <td>0</td>\n      <td>0</td>\n      <td>...</td>\n      <td>0</td>\n      <td>0</td>\n      <td>0</td>\n      <td>0</td>\n      <td>0</td>\n      <td>0</td>\n      <td>0</td>\n      <td>0</td>\n      <td>0</td>\n      <td>0</td>\n    </tr>\n    <tr>\n      <th>4</th>\n      <td>5</td>\n      <td>Point</td>\n      <td>74.50</td>\n      <td>30.00</td>\n      <td>0</td>\n      <td>0</td>\n      <td>0</td>\n      <td>0</td>\n      <td>0</td>\n      <td>0</td>\n      <td>...</td>\n      <td>0</td>\n      <td>0</td>\n      <td>0</td>\n      <td>0</td>\n      <td>0</td>\n      <td>0</td>\n      <td>0</td>\n      <td>0</td>\n      <td>0</td>\n      <td>0</td>\n    </tr>\n    <tr>\n      <th>...</th>\n      <td>...</td>\n      <td>...</td>\n      <td>...</td>\n      <td>...</td>\n      <td>...</td>\n      <td>...</td>\n      <td>...</td>\n      <td>...</td>\n      <td>...</td>\n      <td>...</td>\n      <td>...</td>\n      <td>...</td>\n      <td>...</td>\n      <td>...</td>\n      <td>...</td>\n      <td>...</td>\n      <td>...</td>\n      <td>...</td>\n      <td>...</td>\n      <td>...</td>\n      <td>...</td>\n    </tr>\n    <tr>\n      <th>70</th>\n      <td>71</td>\n      <td>Point</td>\n      <td>75.00</td>\n      <td>32.00</td>\n      <td>0</td>\n      <td>0</td>\n      <td>0</td>\n      <td>0</td>\n      <td>0</td>\n      <td>0</td>\n      <td>...</td>\n      <td>0</td>\n      <td>0</td>\n      <td>0</td>\n      <td>0</td>\n      <td>0</td>\n      <td>0</td>\n      <td>0</td>\n      <td>0</td>\n      <td>0</td>\n      <td>0</td>\n    </tr>\n    <tr>\n      <th>71</th>\n      <td>72</td>\n      <td>Point</td>\n      <td>75.25</td>\n      <td>32.00</td>\n      <td>0</td>\n      <td>0</td>\n      <td>0</td>\n      <td>0</td>\n      <td>0</td>\n      <td>0</td>\n      <td>...</td>\n      <td>0</td>\n      <td>0</td>\n      <td>0</td>\n      <td>0</td>\n      <td>0</td>\n      <td>0</td>\n      <td>0</td>\n      <td>0</td>\n      <td>0</td>\n      <td>0</td>\n    </tr>\n    <tr>\n      <th>72</th>\n      <td>73</td>\n      <td>Point</td>\n      <td>75.50</td>\n      <td>32.00</td>\n      <td>0</td>\n      <td>0</td>\n      <td>0</td>\n      <td>0</td>\n      <td>0</td>\n      <td>0</td>\n      <td>...</td>\n      <td>0</td>\n      <td>0</td>\n      <td>0</td>\n      <td>0</td>\n      <td>0</td>\n      <td>0</td>\n      <td>0</td>\n      <td>0</td>\n      <td>0</td>\n      <td>0</td>\n    </tr>\n    <tr>\n      <th>73</th>\n      <td>74</td>\n      <td>Point</td>\n      <td>75.75</td>\n      <td>32.00</td>\n      <td>0</td>\n      <td>0</td>\n      <td>0</td>\n      <td>0</td>\n      <td>0</td>\n      <td>0</td>\n      <td>...</td>\n      <td>0</td>\n      <td>0</td>\n      <td>0</td>\n      <td>0</td>\n      <td>0</td>\n      <td>0</td>\n      <td>0</td>\n      <td>0</td>\n      <td>0</td>\n      <td>0</td>\n    </tr>\n    <tr>\n      <th>74</th>\n      <td>75</td>\n      <td>Point</td>\n      <td>75.50</td>\n      <td>32.25</td>\n      <td>0</td>\n      <td>0</td>\n      <td>0</td>\n      <td>0</td>\n      <td>0</td>\n      <td>0</td>\n      <td>...</td>\n      <td>0</td>\n      <td>0</td>\n      <td>0</td>\n      <td>0</td>\n      <td>0</td>\n      <td>0</td>\n      <td>0</td>\n      <td>0</td>\n      <td>0</td>\n      <td>0</td>\n    </tr>\n  </tbody>\n</table>\n<p>75 rows × 369 columns</p>\n</div>"
     },
     "execution_count": 3,
     "metadata": {},
     "output_type": "execute_result"
    }
   ]
  },
  {
   "cell_type": "code",
   "source": [
    "leap_years=[1988,1992,1996,2000,2004,2008,2012,2016]\n",
    "gf=pd.DataFrame()\n",
    "for i in range(1986,2020):\n",
    "  days=365\n",
    "  if i in leap_years:\n",
    "    days=366\n",
    "  df=pd.read_excel(\"B:\\GroundwaterRech\\Final Excel Datasets\\Final Excel Datasets\\Rainfall_Punjab without districts\\\\\"+str(i)+\".xlsx\") # importing datset\n",
    "  \n",
    "  test_date = datetime.datetime.strptime(\"01-01-\"+str(i), \"%d-%m-%Y\")    # Date generation\n",
    "  date_generated = pd.date_range(test_date, periods=days)\n",
    "  Columns=list(df.columns[:4])\n",
    "  Columns.extend(list(date_generated.strftime(\"%B\")))\n",
    "  # print(Columns)\n",
    "  df.columns=Columns                #Renaming Columns\n",
    "\n",
    "  df1=df.transpose()\n",
    "  df1=df1.reset_index()\n",
    "  df2=df1.drop(df.index[0:4],axis=0)\n",
    "  df2=df2.groupby(df2['index']).mean()\n",
    "  df3=df2.transpose()\n",
    "  \n",
    "  df3.drop(['April', 'December', 'February', 'January',\n",
    "       'March', 'May', 'November'],inplace=True,axis=1)\n",
    "  df3.columns=['August_'+str(i),'July_'+str(i),'June_'+str(i),'October_'+str(i),'September_'+str(i)]\n",
    "  gf=pd.concat([gf,df3],axis=1)\n",
    "  df3.to_excel('output_'+str(i)+\".xlsx\")\n",
    "  "
   ],
   "metadata": {
    "id": "uOR5dntA5zT9"
   },
   "execution_count": 5,
   "outputs": []
  },
  {
   "cell_type": "code",
   "source": [
    "gf"
   ],
   "metadata": {
    "colab": {
     "base_uri": "https://localhost:8080/",
     "height": 268
    },
    "id": "Mt2irxzm6Gfs",
    "outputId": "2ef9d748-a923-4cc4-b47c-3b25a7b16cac"
   },
   "execution_count": 6,
   "outputs": [
    {
     "data": {
      "text/plain": "    August_1986  July_1986  June_1986  October_1986  September_1986  \\\n0      0.203412   0.251440   0.229097      0.013479        0.008707   \n1      2.990822   5.463890   3.068461      0.092042        2.329605   \n2      0.870924   4.135042   4.275149      0.000000        0.531249   \n3      0.962646   3.591406   5.317869      0.000000        0.638478   \n4      1.337076   3.013776   9.352163      0.044971        0.210380   \n..          ...        ...        ...           ...             ...   \n70     5.166555   5.306421   2.651372      0.048915        1.344582   \n71     8.508435   5.761795   2.991760      0.197556        0.815037   \n72    10.248265   6.257312   3.019631      0.303399        0.945039   \n73    10.252125   6.455371   4.424302      0.546769        0.948811   \n74     7.123341  10.189782   1.617768      0.183922        0.926786   \n\n    August_1987  July_1987  June_1987  October_1987  September_1987  ...  \\\n0      0.018188   0.058768   0.455938      0.024074        0.000000  ...   \n1      1.313404   0.126901   1.158792      0.065124        0.000000  ...   \n2      1.246544   1.920444   0.317123      0.203081        0.443431  ...   \n3      0.651169   1.623306   0.802546      0.602049        0.345818  ...   \n4      0.389669   0.791049   1.805280      0.834389        0.216722  ...   \n..          ...        ...        ...           ...             ...  ...   \n70     6.205111   2.612399   0.726624      2.309988        1.120715  ...   \n71     6.776989   3.132997   1.158718      2.602274        2.450321  ...   \n72     6.103414   3.038227   1.307031      2.204210        2.983822  ...   \n73     7.692004   5.578393   1.923573      1.922750        1.999218  ...   \n74     3.895360   3.325492   0.953190      1.180063        1.701256  ...   \n\n    August_2018  July_2018  June_2018  October_2018  September_2018  \\\n0      1.044206   2.362659   1.353080      0.000000        1.104036   \n1      1.064870   4.476630   2.096648      0.000000        3.792548   \n2      0.131323   1.964936   1.698773      0.311284        0.384850   \n3      0.269782   2.553420   1.688844      0.150134        1.146986   \n4      1.678976   2.527534   1.652392      0.000000        2.474822   \n..          ...        ...        ...           ...             ...   \n70     5.451759   6.324701   2.211341      0.377294       10.456299   \n71     8.660172   5.814552   2.533323      0.481064       12.007664   \n72     7.742540   5.233192   3.222832      0.326193       10.817946   \n73    20.223344   9.050203   5.044864      0.156491       12.175258   \n74    16.921899   8.576183   5.051222      1.606253       11.267380   \n\n    August_2019  July_2019  June_2019  October_2019  September_2019  \n0      1.031624   3.449959   0.785414      0.051734        0.131973  \n1      2.730199   2.094702   0.558186      0.052906        1.070811  \n2      0.850209   1.791089   0.536558      0.036972        0.449172  \n3      0.831329   2.822213   0.751563      0.137803        0.146355  \n4      0.973431   3.965198   0.556181      0.082826        0.036464  \n..          ...        ...        ...           ...             ...  \n70     4.078076   3.934866   0.728282      0.346616        2.551651  \n71     5.528861   5.152072   1.095911      0.206472        3.229341  \n72     5.196711   5.162995   0.754729      0.343710        1.988962  \n73    12.755270  13.850579   0.569107      0.426498        3.926616  \n74    13.183286  11.681777   0.553387      0.158165        9.441587  \n\n[75 rows x 170 columns]",
      "text/html": "<div>\n<style scoped>\n    .dataframe tbody tr th:only-of-type {\n        vertical-align: middle;\n    }\n\n    .dataframe tbody tr th {\n        vertical-align: top;\n    }\n\n    .dataframe thead th {\n        text-align: right;\n    }\n</style>\n<table border=\"1\" class=\"dataframe\">\n  <thead>\n    <tr style=\"text-align: right;\">\n      <th></th>\n      <th>August_1986</th>\n      <th>July_1986</th>\n      <th>June_1986</th>\n      <th>October_1986</th>\n      <th>September_1986</th>\n      <th>August_1987</th>\n      <th>July_1987</th>\n      <th>June_1987</th>\n      <th>October_1987</th>\n      <th>September_1987</th>\n      <th>...</th>\n      <th>August_2018</th>\n      <th>July_2018</th>\n      <th>June_2018</th>\n      <th>October_2018</th>\n      <th>September_2018</th>\n      <th>August_2019</th>\n      <th>July_2019</th>\n      <th>June_2019</th>\n      <th>October_2019</th>\n      <th>September_2019</th>\n    </tr>\n  </thead>\n  <tbody>\n    <tr>\n      <th>0</th>\n      <td>0.203412</td>\n      <td>0.251440</td>\n      <td>0.229097</td>\n      <td>0.013479</td>\n      <td>0.008707</td>\n      <td>0.018188</td>\n      <td>0.058768</td>\n      <td>0.455938</td>\n      <td>0.024074</td>\n      <td>0.000000</td>\n      <td>...</td>\n      <td>1.044206</td>\n      <td>2.362659</td>\n      <td>1.353080</td>\n      <td>0.000000</td>\n      <td>1.104036</td>\n      <td>1.031624</td>\n      <td>3.449959</td>\n      <td>0.785414</td>\n      <td>0.051734</td>\n      <td>0.131973</td>\n    </tr>\n    <tr>\n      <th>1</th>\n      <td>2.990822</td>\n      <td>5.463890</td>\n      <td>3.068461</td>\n      <td>0.092042</td>\n      <td>2.329605</td>\n      <td>1.313404</td>\n      <td>0.126901</td>\n      <td>1.158792</td>\n      <td>0.065124</td>\n      <td>0.000000</td>\n      <td>...</td>\n      <td>1.064870</td>\n      <td>4.476630</td>\n      <td>2.096648</td>\n      <td>0.000000</td>\n      <td>3.792548</td>\n      <td>2.730199</td>\n      <td>2.094702</td>\n      <td>0.558186</td>\n      <td>0.052906</td>\n      <td>1.070811</td>\n    </tr>\n    <tr>\n      <th>2</th>\n      <td>0.870924</td>\n      <td>4.135042</td>\n      <td>4.275149</td>\n      <td>0.000000</td>\n      <td>0.531249</td>\n      <td>1.246544</td>\n      <td>1.920444</td>\n      <td>0.317123</td>\n      <td>0.203081</td>\n      <td>0.443431</td>\n      <td>...</td>\n      <td>0.131323</td>\n      <td>1.964936</td>\n      <td>1.698773</td>\n      <td>0.311284</td>\n      <td>0.384850</td>\n      <td>0.850209</td>\n      <td>1.791089</td>\n      <td>0.536558</td>\n      <td>0.036972</td>\n      <td>0.449172</td>\n    </tr>\n    <tr>\n      <th>3</th>\n      <td>0.962646</td>\n      <td>3.591406</td>\n      <td>5.317869</td>\n      <td>0.000000</td>\n      <td>0.638478</td>\n      <td>0.651169</td>\n      <td>1.623306</td>\n      <td>0.802546</td>\n      <td>0.602049</td>\n      <td>0.345818</td>\n      <td>...</td>\n      <td>0.269782</td>\n      <td>2.553420</td>\n      <td>1.688844</td>\n      <td>0.150134</td>\n      <td>1.146986</td>\n      <td>0.831329</td>\n      <td>2.822213</td>\n      <td>0.751563</td>\n      <td>0.137803</td>\n      <td>0.146355</td>\n    </tr>\n    <tr>\n      <th>4</th>\n      <td>1.337076</td>\n      <td>3.013776</td>\n      <td>9.352163</td>\n      <td>0.044971</td>\n      <td>0.210380</td>\n      <td>0.389669</td>\n      <td>0.791049</td>\n      <td>1.805280</td>\n      <td>0.834389</td>\n      <td>0.216722</td>\n      <td>...</td>\n      <td>1.678976</td>\n      <td>2.527534</td>\n      <td>1.652392</td>\n      <td>0.000000</td>\n      <td>2.474822</td>\n      <td>0.973431</td>\n      <td>3.965198</td>\n      <td>0.556181</td>\n      <td>0.082826</td>\n      <td>0.036464</td>\n    </tr>\n    <tr>\n      <th>...</th>\n      <td>...</td>\n      <td>...</td>\n      <td>...</td>\n      <td>...</td>\n      <td>...</td>\n      <td>...</td>\n      <td>...</td>\n      <td>...</td>\n      <td>...</td>\n      <td>...</td>\n      <td>...</td>\n      <td>...</td>\n      <td>...</td>\n      <td>...</td>\n      <td>...</td>\n      <td>...</td>\n      <td>...</td>\n      <td>...</td>\n      <td>...</td>\n      <td>...</td>\n      <td>...</td>\n    </tr>\n    <tr>\n      <th>70</th>\n      <td>5.166555</td>\n      <td>5.306421</td>\n      <td>2.651372</td>\n      <td>0.048915</td>\n      <td>1.344582</td>\n      <td>6.205111</td>\n      <td>2.612399</td>\n      <td>0.726624</td>\n      <td>2.309988</td>\n      <td>1.120715</td>\n      <td>...</td>\n      <td>5.451759</td>\n      <td>6.324701</td>\n      <td>2.211341</td>\n      <td>0.377294</td>\n      <td>10.456299</td>\n      <td>4.078076</td>\n      <td>3.934866</td>\n      <td>0.728282</td>\n      <td>0.346616</td>\n      <td>2.551651</td>\n    </tr>\n    <tr>\n      <th>71</th>\n      <td>8.508435</td>\n      <td>5.761795</td>\n      <td>2.991760</td>\n      <td>0.197556</td>\n      <td>0.815037</td>\n      <td>6.776989</td>\n      <td>3.132997</td>\n      <td>1.158718</td>\n      <td>2.602274</td>\n      <td>2.450321</td>\n      <td>...</td>\n      <td>8.660172</td>\n      <td>5.814552</td>\n      <td>2.533323</td>\n      <td>0.481064</td>\n      <td>12.007664</td>\n      <td>5.528861</td>\n      <td>5.152072</td>\n      <td>1.095911</td>\n      <td>0.206472</td>\n      <td>3.229341</td>\n    </tr>\n    <tr>\n      <th>72</th>\n      <td>10.248265</td>\n      <td>6.257312</td>\n      <td>3.019631</td>\n      <td>0.303399</td>\n      <td>0.945039</td>\n      <td>6.103414</td>\n      <td>3.038227</td>\n      <td>1.307031</td>\n      <td>2.204210</td>\n      <td>2.983822</td>\n      <td>...</td>\n      <td>7.742540</td>\n      <td>5.233192</td>\n      <td>3.222832</td>\n      <td>0.326193</td>\n      <td>10.817946</td>\n      <td>5.196711</td>\n      <td>5.162995</td>\n      <td>0.754729</td>\n      <td>0.343710</td>\n      <td>1.988962</td>\n    </tr>\n    <tr>\n      <th>73</th>\n      <td>10.252125</td>\n      <td>6.455371</td>\n      <td>4.424302</td>\n      <td>0.546769</td>\n      <td>0.948811</td>\n      <td>7.692004</td>\n      <td>5.578393</td>\n      <td>1.923573</td>\n      <td>1.922750</td>\n      <td>1.999218</td>\n      <td>...</td>\n      <td>20.223344</td>\n      <td>9.050203</td>\n      <td>5.044864</td>\n      <td>0.156491</td>\n      <td>12.175258</td>\n      <td>12.755270</td>\n      <td>13.850579</td>\n      <td>0.569107</td>\n      <td>0.426498</td>\n      <td>3.926616</td>\n    </tr>\n    <tr>\n      <th>74</th>\n      <td>7.123341</td>\n      <td>10.189782</td>\n      <td>1.617768</td>\n      <td>0.183922</td>\n      <td>0.926786</td>\n      <td>3.895360</td>\n      <td>3.325492</td>\n      <td>0.953190</td>\n      <td>1.180063</td>\n      <td>1.701256</td>\n      <td>...</td>\n      <td>16.921899</td>\n      <td>8.576183</td>\n      <td>5.051222</td>\n      <td>1.606253</td>\n      <td>11.267380</td>\n      <td>13.183286</td>\n      <td>11.681777</td>\n      <td>0.553387</td>\n      <td>0.158165</td>\n      <td>9.441587</td>\n    </tr>\n  </tbody>\n</table>\n<p>75 rows × 170 columns</p>\n</div>"
     },
     "execution_count": 6,
     "metadata": {},
     "output_type": "execute_result"
    }
   ]
  },
  {
   "cell_type": "code",
   "execution_count": 20,
   "outputs": [],
   "source": [
    "gf=pd.read_excel(\"B:\\GroundwaterRech\\Rainfall1.xlsx\")"
   ],
   "metadata": {
    "collapsed": false
   }
  },
  {
   "cell_type": "code",
   "execution_count": 31,
   "outputs": [
    {
     "data": {
      "text/plain": "    August_1986  July_1986  June_1986  October_1986  September_1986  \\\n0      2.659911   4.456076   3.727964      0.824894        3.426950   \n1      3.902280   4.534496   2.320249      1.490410        2.940706   \n2      4.475145   5.942981   2.653990      0.087823        3.208270   \n3      4.730352   5.491628   2.174263      0.848604        2.491796   \n4      4.954210   4.662692   2.130307      1.184896        2.369513   \n..          ...        ...        ...           ...             ...   \n70     3.416143   3.646135   3.967176      0.399087        1.465375   \n71     3.859663   1.751431   3.115397      0.446640        1.115832   \n72     0.845562   1.358921   3.902412      0.652520        0.349158   \n73     4.917675   2.260974   3.169384      0.865534        3.252027   \n74     4.929562   2.810462   2.747389      0.493752        1.216430   \n\n    August_1987  July_1987  June_1987  October_1987  September_1987  ...  \\\n0      4.410431   0.846517   0.972908      1.849585        0.000000  ...   \n1      4.131530   1.060572   0.484526      1.816341        0.015764  ...   \n2      5.849954   1.757674   0.499196      1.961572        0.590485  ...   \n3      5.011621   1.662267   0.376255      1.684868        0.350164  ...   \n4      4.516135   1.614930   0.267252      1.223924        0.053842  ...   \n..          ...        ...        ...           ...             ...  ...   \n70     1.774424   0.447002   2.154005      0.283043        0.000000  ...   \n71     1.627313   0.220211   1.705948      0.363667        0.000000  ...   \n72     0.906466   0.776496   2.507581      0.683618        0.000000  ...   \n73     1.190786   0.068044   0.704463      0.643235        0.000000  ...   \n74     1.378883   0.414584   0.678230      0.390950        0.000000  ...   \n\n    August_2018  July_2018  June_2018  October_2018  September_2018  \\\n0      0.986307   4.560506   2.073650      0.347830        6.875844   \n1      7.472597   8.053643   2.906744      0.276783        9.585634   \n2      1.450296   5.213764   2.766044      0.475440        8.924348   \n3      1.966370   6.169707   2.941406      0.364122        9.496521   \n4      3.359631   7.261928   4.189689      0.054668       12.204458   \n..          ...        ...        ...           ...             ...   \n70     1.388497   7.945996   4.378918      0.000000        3.646806   \n71     2.717189   6.862195   3.393701      0.033830        6.503594   \n72     3.286305   4.793872   3.295513      0.000000        8.212548   \n73     3.105711   5.156515   0.550448      0.000000        5.305318   \n74     3.396217   5.337520   2.772603      0.005185       10.618946   \n\n    August_2019  July_2019  June_2019  October_2019  September_2019  \n0      3.659099   5.994000   0.582380      0.306257        1.353071  \n1     13.259906   8.501282   0.315660      0.224458        4.972050  \n2      3.244717   6.406915   0.608223      0.270869        2.110724  \n3      7.740416   6.634056   0.487570      0.235325        2.717962  \n4     14.957551   8.135904   0.439665      0.164262        6.221113  \n..          ...        ...        ...           ...             ...  \n70     3.288132   5.765584   1.017491      0.005562        1.445179  \n71     6.455875   7.504949   0.869632      0.074488        3.087538  \n72     4.034395   6.908857   1.851164      0.337052        0.884581  \n73     1.825496   2.330568   1.015327      0.064138        0.142861  \n74     8.851127   6.936213   1.477110      0.138663        2.802407  \n\n[75 rows x 170 columns]",
      "text/html": "<div>\n<style scoped>\n    .dataframe tbody tr th:only-of-type {\n        vertical-align: middle;\n    }\n\n    .dataframe tbody tr th {\n        vertical-align: top;\n    }\n\n    .dataframe thead th {\n        text-align: right;\n    }\n</style>\n<table border=\"1\" class=\"dataframe\">\n  <thead>\n    <tr style=\"text-align: right;\">\n      <th></th>\n      <th>August_1986</th>\n      <th>July_1986</th>\n      <th>June_1986</th>\n      <th>October_1986</th>\n      <th>September_1986</th>\n      <th>August_1987</th>\n      <th>July_1987</th>\n      <th>June_1987</th>\n      <th>October_1987</th>\n      <th>September_1987</th>\n      <th>...</th>\n      <th>August_2018</th>\n      <th>July_2018</th>\n      <th>June_2018</th>\n      <th>October_2018</th>\n      <th>September_2018</th>\n      <th>August_2019</th>\n      <th>July_2019</th>\n      <th>June_2019</th>\n      <th>October_2019</th>\n      <th>September_2019</th>\n    </tr>\n  </thead>\n  <tbody>\n    <tr>\n      <th>0</th>\n      <td>2.659911</td>\n      <td>4.456076</td>\n      <td>3.727964</td>\n      <td>0.824894</td>\n      <td>3.426950</td>\n      <td>4.410431</td>\n      <td>0.846517</td>\n      <td>0.972908</td>\n      <td>1.849585</td>\n      <td>0.000000</td>\n      <td>...</td>\n      <td>0.986307</td>\n      <td>4.560506</td>\n      <td>2.073650</td>\n      <td>0.347830</td>\n      <td>6.875844</td>\n      <td>3.659099</td>\n      <td>5.994000</td>\n      <td>0.582380</td>\n      <td>0.306257</td>\n      <td>1.353071</td>\n    </tr>\n    <tr>\n      <th>1</th>\n      <td>3.902280</td>\n      <td>4.534496</td>\n      <td>2.320249</td>\n      <td>1.490410</td>\n      <td>2.940706</td>\n      <td>4.131530</td>\n      <td>1.060572</td>\n      <td>0.484526</td>\n      <td>1.816341</td>\n      <td>0.015764</td>\n      <td>...</td>\n      <td>7.472597</td>\n      <td>8.053643</td>\n      <td>2.906744</td>\n      <td>0.276783</td>\n      <td>9.585634</td>\n      <td>13.259906</td>\n      <td>8.501282</td>\n      <td>0.315660</td>\n      <td>0.224458</td>\n      <td>4.972050</td>\n    </tr>\n    <tr>\n      <th>2</th>\n      <td>4.475145</td>\n      <td>5.942981</td>\n      <td>2.653990</td>\n      <td>0.087823</td>\n      <td>3.208270</td>\n      <td>5.849954</td>\n      <td>1.757674</td>\n      <td>0.499196</td>\n      <td>1.961572</td>\n      <td>0.590485</td>\n      <td>...</td>\n      <td>1.450296</td>\n      <td>5.213764</td>\n      <td>2.766044</td>\n      <td>0.475440</td>\n      <td>8.924348</td>\n      <td>3.244717</td>\n      <td>6.406915</td>\n      <td>0.608223</td>\n      <td>0.270869</td>\n      <td>2.110724</td>\n    </tr>\n    <tr>\n      <th>3</th>\n      <td>4.730352</td>\n      <td>5.491628</td>\n      <td>2.174263</td>\n      <td>0.848604</td>\n      <td>2.491796</td>\n      <td>5.011621</td>\n      <td>1.662267</td>\n      <td>0.376255</td>\n      <td>1.684868</td>\n      <td>0.350164</td>\n      <td>...</td>\n      <td>1.966370</td>\n      <td>6.169707</td>\n      <td>2.941406</td>\n      <td>0.364122</td>\n      <td>9.496521</td>\n      <td>7.740416</td>\n      <td>6.634056</td>\n      <td>0.487570</td>\n      <td>0.235325</td>\n      <td>2.717962</td>\n    </tr>\n    <tr>\n      <th>4</th>\n      <td>4.954210</td>\n      <td>4.662692</td>\n      <td>2.130307</td>\n      <td>1.184896</td>\n      <td>2.369513</td>\n      <td>4.516135</td>\n      <td>1.614930</td>\n      <td>0.267252</td>\n      <td>1.223924</td>\n      <td>0.053842</td>\n      <td>...</td>\n      <td>3.359631</td>\n      <td>7.261928</td>\n      <td>4.189689</td>\n      <td>0.054668</td>\n      <td>12.204458</td>\n      <td>14.957551</td>\n      <td>8.135904</td>\n      <td>0.439665</td>\n      <td>0.164262</td>\n      <td>6.221113</td>\n    </tr>\n    <tr>\n      <th>...</th>\n      <td>...</td>\n      <td>...</td>\n      <td>...</td>\n      <td>...</td>\n      <td>...</td>\n      <td>...</td>\n      <td>...</td>\n      <td>...</td>\n      <td>...</td>\n      <td>...</td>\n      <td>...</td>\n      <td>...</td>\n      <td>...</td>\n      <td>...</td>\n      <td>...</td>\n      <td>...</td>\n      <td>...</td>\n      <td>...</td>\n      <td>...</td>\n      <td>...</td>\n      <td>...</td>\n    </tr>\n    <tr>\n      <th>70</th>\n      <td>3.416143</td>\n      <td>3.646135</td>\n      <td>3.967176</td>\n      <td>0.399087</td>\n      <td>1.465375</td>\n      <td>1.774424</td>\n      <td>0.447002</td>\n      <td>2.154005</td>\n      <td>0.283043</td>\n      <td>0.000000</td>\n      <td>...</td>\n      <td>1.388497</td>\n      <td>7.945996</td>\n      <td>4.378918</td>\n      <td>0.000000</td>\n      <td>3.646806</td>\n      <td>3.288132</td>\n      <td>5.765584</td>\n      <td>1.017491</td>\n      <td>0.005562</td>\n      <td>1.445179</td>\n    </tr>\n    <tr>\n      <th>71</th>\n      <td>3.859663</td>\n      <td>1.751431</td>\n      <td>3.115397</td>\n      <td>0.446640</td>\n      <td>1.115832</td>\n      <td>1.627313</td>\n      <td>0.220211</td>\n      <td>1.705948</td>\n      <td>0.363667</td>\n      <td>0.000000</td>\n      <td>...</td>\n      <td>2.717189</td>\n      <td>6.862195</td>\n      <td>3.393701</td>\n      <td>0.033830</td>\n      <td>6.503594</td>\n      <td>6.455875</td>\n      <td>7.504949</td>\n      <td>0.869632</td>\n      <td>0.074488</td>\n      <td>3.087538</td>\n    </tr>\n    <tr>\n      <th>72</th>\n      <td>0.845562</td>\n      <td>1.358921</td>\n      <td>3.902412</td>\n      <td>0.652520</td>\n      <td>0.349158</td>\n      <td>0.906466</td>\n      <td>0.776496</td>\n      <td>2.507581</td>\n      <td>0.683618</td>\n      <td>0.000000</td>\n      <td>...</td>\n      <td>3.286305</td>\n      <td>4.793872</td>\n      <td>3.295513</td>\n      <td>0.000000</td>\n      <td>8.212548</td>\n      <td>4.034395</td>\n      <td>6.908857</td>\n      <td>1.851164</td>\n      <td>0.337052</td>\n      <td>0.884581</td>\n    </tr>\n    <tr>\n      <th>73</th>\n      <td>4.917675</td>\n      <td>2.260974</td>\n      <td>3.169384</td>\n      <td>0.865534</td>\n      <td>3.252027</td>\n      <td>1.190786</td>\n      <td>0.068044</td>\n      <td>0.704463</td>\n      <td>0.643235</td>\n      <td>0.000000</td>\n      <td>...</td>\n      <td>3.105711</td>\n      <td>5.156515</td>\n      <td>0.550448</td>\n      <td>0.000000</td>\n      <td>5.305318</td>\n      <td>1.825496</td>\n      <td>2.330568</td>\n      <td>1.015327</td>\n      <td>0.064138</td>\n      <td>0.142861</td>\n    </tr>\n    <tr>\n      <th>74</th>\n      <td>4.929562</td>\n      <td>2.810462</td>\n      <td>2.747389</td>\n      <td>0.493752</td>\n      <td>1.216430</td>\n      <td>1.378883</td>\n      <td>0.414584</td>\n      <td>0.678230</td>\n      <td>0.390950</td>\n      <td>0.000000</td>\n      <td>...</td>\n      <td>3.396217</td>\n      <td>5.337520</td>\n      <td>2.772603</td>\n      <td>0.005185</td>\n      <td>10.618946</td>\n      <td>8.851127</td>\n      <td>6.936213</td>\n      <td>1.477110</td>\n      <td>0.138663</td>\n      <td>2.802407</td>\n    </tr>\n  </tbody>\n</table>\n<p>75 rows × 170 columns</p>\n</div>"
     },
     "execution_count": 31,
     "metadata": {},
     "output_type": "execute_result"
    }
   ],
   "source": [
    "gf"
   ],
   "metadata": {
    "collapsed": false
   }
  },
  {
   "cell_type": "code",
   "execution_count": 23,
   "outputs": [],
   "source": [
    "gf=gf.drop(['India_District_Boundary_Final', 'Unnamed: 1', 'X', 'Y', 'Unnamed: 4',\n",
    "       'Unnamed: 5', 'Unnamed: 6', 'Unnamed: 7'],axis=1)"
   ],
   "metadata": {
    "collapsed": false
   }
  },
  {
   "cell_type": "code",
   "source": [
    "gf_c=list(gf.columns)"
   ],
   "metadata": {
    "id": "SvOzIzXY6J_0"
   },
   "execution_count": 24,
   "outputs": []
  },
  {
   "cell_type": "code",
   "execution_count": 26,
   "outputs": [],
   "source": [
    "y=list(range(1986,2020))"
   ],
   "metadata": {
    "collapsed": false
   }
  },
  {
   "cell_type": "code",
   "execution_count": 27,
   "outputs": [],
   "source": [
    "data=pd.DataFrame(columns=y)"
   ],
   "metadata": {
    "collapsed": false
   }
  },
  {
   "cell_type": "code",
   "execution_count": 28,
   "outputs": [
    {
     "data": {
      "text/plain": "Empty DataFrame\nColumns: [1986, 1987, 1988, 1989, 1990, 1991, 1992, 1993, 1994, 1995, 1996, 1997, 1998, 1999, 2000, 2001, 2002, 2003, 2004, 2005, 2006, 2007, 2008, 2009, 2010, 2011, 2012, 2013, 2014, 2015, 2016, 2017, 2018, 2019]\nIndex: []\n\n[0 rows x 34 columns]",
      "text/html": "<div>\n<style scoped>\n    .dataframe tbody tr th:only-of-type {\n        vertical-align: middle;\n    }\n\n    .dataframe tbody tr th {\n        vertical-align: top;\n    }\n\n    .dataframe thead th {\n        text-align: right;\n    }\n</style>\n<table border=\"1\" class=\"dataframe\">\n  <thead>\n    <tr style=\"text-align: right;\">\n      <th></th>\n      <th>1986</th>\n      <th>1987</th>\n      <th>1988</th>\n      <th>1989</th>\n      <th>1990</th>\n      <th>1991</th>\n      <th>1992</th>\n      <th>1993</th>\n      <th>1994</th>\n      <th>1995</th>\n      <th>...</th>\n      <th>2010</th>\n      <th>2011</th>\n      <th>2012</th>\n      <th>2013</th>\n      <th>2014</th>\n      <th>2015</th>\n      <th>2016</th>\n      <th>2017</th>\n      <th>2018</th>\n      <th>2019</th>\n    </tr>\n  </thead>\n  <tbody>\n  </tbody>\n</table>\n<p>0 rows × 34 columns</p>\n</div>"
     },
     "execution_count": 28,
     "metadata": {},
     "output_type": "execute_result"
    }
   ],
   "source": [
    "data"
   ],
   "metadata": {
    "collapsed": false
   }
  },
  {
   "cell_type": "code",
   "source": [
    "x=0\n",
    "for i in range(0,170,5):\n",
    "  data[y[x]]=(gf[gf_c[i]]+gf[gf_c[i+1]]+gf[gf_c[i+2]]+gf[gf_c[i+3]]+gf[gf_c[i+4]])/5\n",
    "  x=x+1\n"
   ],
   "metadata": {
    "id": "751tzJzp6TAa"
   },
   "execution_count": 29,
   "outputs": []
  },
  {
   "cell_type": "code",
   "execution_count": 30,
   "outputs": [
    {
     "data": {
      "text/plain": "        1986      1987       1988      1989      1990      1991      1992  \\\n0   3.019159  1.615888   5.046026  1.420803  3.893288  0.934839  1.391968   \n1   3.037628  1.501746   5.050563  1.721599  4.384307  1.835701  1.826148   \n2   3.273642  2.131776   6.181454  2.473160  5.554556  2.629742  3.208653   \n3   3.147329  1.817035   5.493620  2.059674  5.338326  2.584628  2.905354   \n4   3.060324  1.535217   6.472453  2.787510  4.618080  2.474916  2.279290   \n..       ...       ...        ...       ...       ...       ...       ...   \n70  2.578783  0.931695   5.667984  1.868151  3.702035  1.694343  1.512024   \n71  2.057793  0.783428   9.384979  2.474117  3.841297  2.606422  2.035086   \n72  1.421714  0.974832   4.942972  1.968523  3.816086  2.018219  0.962316   \n73  2.893119  0.521306   7.202022  1.788883  2.560067  1.648217  0.526609   \n74  2.439519  0.572530  10.087109  4.013214  5.688538  3.498468  3.471035   \n\n        1993      1994      1995  ...      2010      2011      2012      2013  \\\n0   2.525712  1.984014  2.051980  ...  2.095086  3.142479  7.031355  2.764780   \n1   3.204357  2.118208  2.530974  ...  2.307882  8.152468  7.031355  2.609928   \n2   4.821271  3.623919  5.298278  ...  2.564391  8.164322  7.031355  4.156112   \n3   4.535786  3.330862  4.192266  ...  2.455922  8.164323  7.031355  3.512533   \n4   4.147715  3.163520  4.565943  ...  3.377919  8.164323  7.031355  3.079125   \n..       ...       ...       ...  ...       ...       ...       ...       ...   \n70  2.601659  2.642063  4.724678  ...  3.911701  5.732613  4.521658  2.355946   \n71  3.629173  4.922195  7.862705  ...  3.833911  6.196519  4.268327  2.155196   \n72  2.951972  3.043221  4.513208  ...  3.315036  2.145806  3.582279  2.026664   \n73  1.885438  2.775203  5.308686  ...  2.847307  8.716989  5.287312  1.601281   \n74  3.698848  2.881148  7.055901  ...  2.623460  8.356781  5.177336  2.247484   \n\n        2014      2015      2016      2017      2018      2019  \n0   1.338479  1.613258  2.319439  1.232562  2.968828  2.378961  \n1   1.731342  1.597616  5.205172  2.988332  5.659080  5.454671  \n2   2.627672  2.640818  2.625229  2.015519  3.765978  2.528290  \n3   2.118985  2.109323  2.807463  2.447259  4.187625  3.563066  \n4   2.382682  2.486619  3.435472  3.849991  5.414075  5.983699  \n..       ...       ...       ...       ...       ...       ...  \n70  1.472092  2.646987  2.588271  1.541599  3.472044  2.304390  \n71  1.249176  2.348102  1.931505  2.053247  3.902102  3.598497  \n72  1.072685  2.108584  1.439861  2.633899  3.917647  2.803210  \n73  0.679383  1.925395  1.502172  0.974408  2.823598  1.075678  \n74  1.471173  3.803743  1.859765  2.122264  4.426094  4.041104  \n\n[75 rows x 34 columns]",
      "text/html": "<div>\n<style scoped>\n    .dataframe tbody tr th:only-of-type {\n        vertical-align: middle;\n    }\n\n    .dataframe tbody tr th {\n        vertical-align: top;\n    }\n\n    .dataframe thead th {\n        text-align: right;\n    }\n</style>\n<table border=\"1\" class=\"dataframe\">\n  <thead>\n    <tr style=\"text-align: right;\">\n      <th></th>\n      <th>1986</th>\n      <th>1987</th>\n      <th>1988</th>\n      <th>1989</th>\n      <th>1990</th>\n      <th>1991</th>\n      <th>1992</th>\n      <th>1993</th>\n      <th>1994</th>\n      <th>1995</th>\n      <th>...</th>\n      <th>2010</th>\n      <th>2011</th>\n      <th>2012</th>\n      <th>2013</th>\n      <th>2014</th>\n      <th>2015</th>\n      <th>2016</th>\n      <th>2017</th>\n      <th>2018</th>\n      <th>2019</th>\n    </tr>\n  </thead>\n  <tbody>\n    <tr>\n      <th>0</th>\n      <td>3.019159</td>\n      <td>1.615888</td>\n      <td>5.046026</td>\n      <td>1.420803</td>\n      <td>3.893288</td>\n      <td>0.934839</td>\n      <td>1.391968</td>\n      <td>2.525712</td>\n      <td>1.984014</td>\n      <td>2.051980</td>\n      <td>...</td>\n      <td>2.095086</td>\n      <td>3.142479</td>\n      <td>7.031355</td>\n      <td>2.764780</td>\n      <td>1.338479</td>\n      <td>1.613258</td>\n      <td>2.319439</td>\n      <td>1.232562</td>\n      <td>2.968828</td>\n      <td>2.378961</td>\n    </tr>\n    <tr>\n      <th>1</th>\n      <td>3.037628</td>\n      <td>1.501746</td>\n      <td>5.050563</td>\n      <td>1.721599</td>\n      <td>4.384307</td>\n      <td>1.835701</td>\n      <td>1.826148</td>\n      <td>3.204357</td>\n      <td>2.118208</td>\n      <td>2.530974</td>\n      <td>...</td>\n      <td>2.307882</td>\n      <td>8.152468</td>\n      <td>7.031355</td>\n      <td>2.609928</td>\n      <td>1.731342</td>\n      <td>1.597616</td>\n      <td>5.205172</td>\n      <td>2.988332</td>\n      <td>5.659080</td>\n      <td>5.454671</td>\n    </tr>\n    <tr>\n      <th>2</th>\n      <td>3.273642</td>\n      <td>2.131776</td>\n      <td>6.181454</td>\n      <td>2.473160</td>\n      <td>5.554556</td>\n      <td>2.629742</td>\n      <td>3.208653</td>\n      <td>4.821271</td>\n      <td>3.623919</td>\n      <td>5.298278</td>\n      <td>...</td>\n      <td>2.564391</td>\n      <td>8.164322</td>\n      <td>7.031355</td>\n      <td>4.156112</td>\n      <td>2.627672</td>\n      <td>2.640818</td>\n      <td>2.625229</td>\n      <td>2.015519</td>\n      <td>3.765978</td>\n      <td>2.528290</td>\n    </tr>\n    <tr>\n      <th>3</th>\n      <td>3.147329</td>\n      <td>1.817035</td>\n      <td>5.493620</td>\n      <td>2.059674</td>\n      <td>5.338326</td>\n      <td>2.584628</td>\n      <td>2.905354</td>\n      <td>4.535786</td>\n      <td>3.330862</td>\n      <td>4.192266</td>\n      <td>...</td>\n      <td>2.455922</td>\n      <td>8.164323</td>\n      <td>7.031355</td>\n      <td>3.512533</td>\n      <td>2.118985</td>\n      <td>2.109323</td>\n      <td>2.807463</td>\n      <td>2.447259</td>\n      <td>4.187625</td>\n      <td>3.563066</td>\n    </tr>\n    <tr>\n      <th>4</th>\n      <td>3.060324</td>\n      <td>1.535217</td>\n      <td>6.472453</td>\n      <td>2.787510</td>\n      <td>4.618080</td>\n      <td>2.474916</td>\n      <td>2.279290</td>\n      <td>4.147715</td>\n      <td>3.163520</td>\n      <td>4.565943</td>\n      <td>...</td>\n      <td>3.377919</td>\n      <td>8.164323</td>\n      <td>7.031355</td>\n      <td>3.079125</td>\n      <td>2.382682</td>\n      <td>2.486619</td>\n      <td>3.435472</td>\n      <td>3.849991</td>\n      <td>5.414075</td>\n      <td>5.983699</td>\n    </tr>\n    <tr>\n      <th>...</th>\n      <td>...</td>\n      <td>...</td>\n      <td>...</td>\n      <td>...</td>\n      <td>...</td>\n      <td>...</td>\n      <td>...</td>\n      <td>...</td>\n      <td>...</td>\n      <td>...</td>\n      <td>...</td>\n      <td>...</td>\n      <td>...</td>\n      <td>...</td>\n      <td>...</td>\n      <td>...</td>\n      <td>...</td>\n      <td>...</td>\n      <td>...</td>\n      <td>...</td>\n      <td>...</td>\n    </tr>\n    <tr>\n      <th>70</th>\n      <td>2.578783</td>\n      <td>0.931695</td>\n      <td>5.667984</td>\n      <td>1.868151</td>\n      <td>3.702035</td>\n      <td>1.694343</td>\n      <td>1.512024</td>\n      <td>2.601659</td>\n      <td>2.642063</td>\n      <td>4.724678</td>\n      <td>...</td>\n      <td>3.911701</td>\n      <td>5.732613</td>\n      <td>4.521658</td>\n      <td>2.355946</td>\n      <td>1.472092</td>\n      <td>2.646987</td>\n      <td>2.588271</td>\n      <td>1.541599</td>\n      <td>3.472044</td>\n      <td>2.304390</td>\n    </tr>\n    <tr>\n      <th>71</th>\n      <td>2.057793</td>\n      <td>0.783428</td>\n      <td>9.384979</td>\n      <td>2.474117</td>\n      <td>3.841297</td>\n      <td>2.606422</td>\n      <td>2.035086</td>\n      <td>3.629173</td>\n      <td>4.922195</td>\n      <td>7.862705</td>\n      <td>...</td>\n      <td>3.833911</td>\n      <td>6.196519</td>\n      <td>4.268327</td>\n      <td>2.155196</td>\n      <td>1.249176</td>\n      <td>2.348102</td>\n      <td>1.931505</td>\n      <td>2.053247</td>\n      <td>3.902102</td>\n      <td>3.598497</td>\n    </tr>\n    <tr>\n      <th>72</th>\n      <td>1.421714</td>\n      <td>0.974832</td>\n      <td>4.942972</td>\n      <td>1.968523</td>\n      <td>3.816086</td>\n      <td>2.018219</td>\n      <td>0.962316</td>\n      <td>2.951972</td>\n      <td>3.043221</td>\n      <td>4.513208</td>\n      <td>...</td>\n      <td>3.315036</td>\n      <td>2.145806</td>\n      <td>3.582279</td>\n      <td>2.026664</td>\n      <td>1.072685</td>\n      <td>2.108584</td>\n      <td>1.439861</td>\n      <td>2.633899</td>\n      <td>3.917647</td>\n      <td>2.803210</td>\n    </tr>\n    <tr>\n      <th>73</th>\n      <td>2.893119</td>\n      <td>0.521306</td>\n      <td>7.202022</td>\n      <td>1.788883</td>\n      <td>2.560067</td>\n      <td>1.648217</td>\n      <td>0.526609</td>\n      <td>1.885438</td>\n      <td>2.775203</td>\n      <td>5.308686</td>\n      <td>...</td>\n      <td>2.847307</td>\n      <td>8.716989</td>\n      <td>5.287312</td>\n      <td>1.601281</td>\n      <td>0.679383</td>\n      <td>1.925395</td>\n      <td>1.502172</td>\n      <td>0.974408</td>\n      <td>2.823598</td>\n      <td>1.075678</td>\n    </tr>\n    <tr>\n      <th>74</th>\n      <td>2.439519</td>\n      <td>0.572530</td>\n      <td>10.087109</td>\n      <td>4.013214</td>\n      <td>5.688538</td>\n      <td>3.498468</td>\n      <td>3.471035</td>\n      <td>3.698848</td>\n      <td>2.881148</td>\n      <td>7.055901</td>\n      <td>...</td>\n      <td>2.623460</td>\n      <td>8.356781</td>\n      <td>5.177336</td>\n      <td>2.247484</td>\n      <td>1.471173</td>\n      <td>3.803743</td>\n      <td>1.859765</td>\n      <td>2.122264</td>\n      <td>4.426094</td>\n      <td>4.041104</td>\n    </tr>\n  </tbody>\n</table>\n<p>75 rows × 34 columns</p>\n</div>"
     },
     "execution_count": 30,
     "metadata": {},
     "output_type": "execute_result"
    }
   ],
   "source": [
    "data"
   ],
   "metadata": {
    "collapsed": false
   }
  },
  {
   "cell_type": "code",
   "execution_count": 32,
   "outputs": [],
   "source": [
    "data.to_excel('Rainfall_yearly.xlsx',index=False)"
   ],
   "metadata": {
    "collapsed": false
   }
  },
  {
   "cell_type": "code",
   "execution_count": null,
   "outputs": [],
   "source": [],
   "metadata": {
    "collapsed": false
   }
  }
 ]
}
